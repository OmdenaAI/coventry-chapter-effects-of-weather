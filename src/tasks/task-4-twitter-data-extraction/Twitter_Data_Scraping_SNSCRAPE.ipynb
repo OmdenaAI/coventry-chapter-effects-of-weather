{
 "cells": [
  {
   "cell_type": "code",
   "execution_count": 15,
   "metadata": {},
   "outputs": [],
   "source": [
    "#!pip install git+https://github.com/JustAnotherArchivist/snscrape.git"
   ]
  },
  {
   "cell_type": "code",
   "execution_count": 2,
   "metadata": {},
   "outputs": [],
   "source": [
    "import pandas as pd\n",
    "import snscrape.modules.twitter as sntwitter\n",
    "import itertools"
   ]
  },
  {
   "cell_type": "code",
   "execution_count": 16,
   "metadata": {},
   "outputs": [],
   "source": [
    "# Provide the list of search terms- extract tweet data if a tweet contains this search term\n",
    "search_terms = [\"lonely\", \"loneliness\", \"winter depression\", \"SAD\", \"seasonal affective disorders\", \"antidepressants\"]"
   ]
  },
  {
   "cell_type": "code",
   "execution_count": 8,
   "metadata": {},
   "outputs": [
    {
     "name": "stdout",
     "output_type": "stream",
     "text": [
      "lonely 423\n",
      "loneliness 154\n",
      "winter depression 3\n",
      "SAD 18321\n",
      "seasonal affective disorders 0\n",
      "antidepressants 104\n"
     ]
    }
   ],
   "source": [
    "# For each search term in the list of search terms\n",
    "# Scrape tweets if they contain the search term and the tweets satisfy the below conditions\n",
    "# City is London with a radius of 25 kilometers\n",
    "# Tweeted between 1st January 2021 and 31st December 2021\n",
    "\n",
    "for search_term in search_terms:\n",
    "    search_term = search_term\n",
    "    city = \"London\"\n",
    "    radius = \"25km\"\n",
    "    since = \"2021-01-01\"\n",
    "    until = \"2021-12-31\"\n",
    "\n",
    "    search = search_term + \" near:\" + city + \" within:\" + radius + \" since:\" + since + \" until:\" + until \n",
    "\n",
    "    try:\n",
    "        tweets_df = pd.DataFrame(itertools.islice(sntwitter.TwitterSearchScraper(search).get_items(), 20000))\n",
    "        print(search_term, tweets_df.shape[0])\n",
    "        tweets_df.to_pickle(search_term + \".pkl\")\n",
    "    \n",
    "    except:\n",
    "        print(\"Encountered an Error, skipping the term: \", search_term)"
   ]
  },
  {
   "cell_type": "code",
   "execution_count": 17,
   "metadata": {},
   "outputs": [],
   "source": [
    "# Aggergating all the pkl files to keep a track of number of tweets extracter per each search term.\n",
    "\n",
    "from os import listdir\n",
    "from os.path import isfile, join\n",
    "\n",
    "PATH = r\"C:\\Users\\saiph\\Desktop\\Learning\\Omdena\\Coventry\\\\\"\n",
    "\n",
    "pkl_files = [f for f in listdir(PATH) if isfile(join(PATH, f)) and \".pkl\" in f]"
   ]
  },
  {
   "cell_type": "code",
   "execution_count": 18,
   "metadata": {},
   "outputs": [
    {
     "data": {
      "text/html": [
       "<div>\n",
       "<style scoped>\n",
       "    .dataframe tbody tr th:only-of-type {\n",
       "        vertical-align: middle;\n",
       "    }\n",
       "\n",
       "    .dataframe tbody tr th {\n",
       "        vertical-align: top;\n",
       "    }\n",
       "\n",
       "    .dataframe thead th {\n",
       "        text-align: right;\n",
       "    }\n",
       "</style>\n",
       "<table border=\"1\" class=\"dataframe\">\n",
       "  <thead>\n",
       "    <tr style=\"text-align: right;\">\n",
       "      <th></th>\n",
       "      <th>search_term</th>\n",
       "      <th>tweets_count</th>\n",
       "    </tr>\n",
       "  </thead>\n",
       "  <tbody>\n",
       "    <tr>\n",
       "      <th>0</th>\n",
       "      <td>Amitriptyline</td>\n",
       "      <td>10</td>\n",
       "    </tr>\n",
       "    <tr>\n",
       "      <th>1</th>\n",
       "      <td>Antidepressant</td>\n",
       "      <td>111</td>\n",
       "    </tr>\n",
       "    <tr>\n",
       "      <th>2</th>\n",
       "      <td>antidepressants</td>\n",
       "      <td>104</td>\n",
       "    </tr>\n",
       "    <tr>\n",
       "      <th>3</th>\n",
       "      <td>anxiety</td>\n",
       "      <td>2517</td>\n",
       "    </tr>\n",
       "    <tr>\n",
       "      <th>4</th>\n",
       "      <td>ashamed of myself</td>\n",
       "      <td>4</td>\n",
       "    </tr>\n",
       "  </tbody>\n",
       "</table>\n",
       "</div>"
      ],
      "text/plain": [
       "         search_term tweets_count\n",
       "0      Amitriptyline           10\n",
       "1     Antidepressant          111\n",
       "2    antidepressants          104\n",
       "3            anxiety         2517\n",
       "4  ashamed of myself            4"
      ]
     },
     "execution_count": 18,
     "metadata": {},
     "output_type": "execute_result"
    }
   ],
   "source": [
    "# Creating the count_df dataframe\n",
    "# This dataframe contains the search_term and the number of tweets extracted per each term\n",
    "\n",
    "count_df = pd.DataFrame(columns=[\"search_term\", \"tweets_count\"])\n",
    "\n",
    "for pkl_file in pkl_files:    \n",
    "    search_term = pkl_file.split(\".pkl\")[0]\n",
    "    tweets_df = pd.read_pickle(pkl_file)\n",
    "    \n",
    "    leng = len(count_df)\n",
    "    count_df.loc[leng, \"search_term\"] = search_term\n",
    "    count_df.loc[leng, \"tweets_count\"] = tweets_df.shape[0]\n",
    "\n",
    "count_df.head()"
   ]
  },
  {
   "cell_type": "code",
   "execution_count": 19,
   "metadata": {},
   "outputs": [],
   "source": [
    "count_df.to_csv(\"search_term_vs_tweet_counts.csv\", index=False)"
   ]
  }
 ],
 "metadata": {
  "kernelspec": {
   "display_name": "Python 3",
   "language": "python",
   "name": "python3"
  },
  "language_info": {
   "codemirror_mode": {
    "name": "ipython",
    "version": 3
   },
   "file_extension": ".py",
   "mimetype": "text/x-python",
   "name": "python",
   "nbconvert_exporter": "python",
   "pygments_lexer": "ipython3",
   "version": "3.8.5"
  }
 },
 "nbformat": 4,
 "nbformat_minor": 4
}
