{
 "cells": [
  {
   "cell_type": "code",
   "execution_count": 1,
   "metadata": {},
   "outputs": [],
   "source": [
    "# For the purpose of this notebook, below blog post was referred\n",
    "# https://www.machinelearningplus.com/nlp/topic-modeling-gensim-python/"
   ]
  },
  {
   "cell_type": "code",
   "execution_count": 2,
   "metadata": {},
   "outputs": [
    {
     "name": "stderr",
     "output_type": "stream",
     "text": [
      "[nltk_data] Downloading package stopwords to\n",
      "[nltk_data]     C:\\Users\\saiph\\AppData\\Roaming\\nltk_data...\n",
      "[nltk_data]   Package stopwords is already up-to-date!\n"
     ]
    },
    {
     "data": {
      "text/plain": [
       "True"
      ]
     },
     "execution_count": 2,
     "metadata": {},
     "output_type": "execute_result"
    }
   ],
   "source": [
    "# Downloading nltk stopwords\n",
    "import nltk\n",
    "nltk.download(\"stopwords\")"
   ]
  },
  {
   "cell_type": "code",
   "execution_count": 5,
   "metadata": {},
   "outputs": [],
   "source": [
    "import re\n",
    "import numpy as np\n",
    "import pandas as pd\n",
    "from pprint import pprint\n",
    "\n",
    "# Gensim\n",
    "import gensim\n",
    "import gensim.corpora as corpora\n",
    "from gensim.utils import simple_preprocess\n",
    "from gensim.models import CoherenceModel\n",
    "\n",
    "# spacy for lemmatization\n",
    "import spacy\n",
    "\n",
    "# Plotting tools\n",
    "import pyLDAvis\n",
    "import pyLDAvis.gensim_models\n",
    "import matplotlib.pyplot as plt\n",
    "%matplotlib inline\n",
    "\n",
    "import warnings\n",
    "warnings.filterwarnings(\"ignore\")"
   ]
  },
  {
   "cell_type": "markdown",
   "metadata": {},
   "source": [
    "### Reading the Twitter Dataset"
   ]
  },
  {
   "cell_type": "code",
   "execution_count": 6,
   "metadata": {},
   "outputs": [
    {
     "data": {
      "text/html": [
       "<div>\n",
       "<style scoped>\n",
       "    .dataframe tbody tr th:only-of-type {\n",
       "        vertical-align: middle;\n",
       "    }\n",
       "\n",
       "    .dataframe tbody tr th {\n",
       "        vertical-align: top;\n",
       "    }\n",
       "\n",
       "    .dataframe thead th {\n",
       "        text-align: right;\n",
       "    }\n",
       "</style>\n",
       "<table border=\"1\" class=\"dataframe\">\n",
       "  <thead>\n",
       "    <tr style=\"text-align: right;\">\n",
       "      <th></th>\n",
       "      <th>url</th>\n",
       "      <th>date</th>\n",
       "      <th>content</th>\n",
       "      <th>renderedContent</th>\n",
       "      <th>id</th>\n",
       "      <th>user</th>\n",
       "      <th>replyCount</th>\n",
       "      <th>retweetCount</th>\n",
       "      <th>likeCount</th>\n",
       "      <th>quoteCount</th>\n",
       "      <th>...</th>\n",
       "      <th>quotedTweet</th>\n",
       "      <th>inReplyToTweetId</th>\n",
       "      <th>inReplyToUser</th>\n",
       "      <th>mentionedUsers</th>\n",
       "      <th>coordinates</th>\n",
       "      <th>place</th>\n",
       "      <th>hashtags</th>\n",
       "      <th>cashtags</th>\n",
       "      <th>card</th>\n",
       "      <th>links</th>\n",
       "    </tr>\n",
       "  </thead>\n",
       "  <tbody>\n",
       "    <tr>\n",
       "      <th>0</th>\n",
       "      <td>https://twitter.com/PaoloC_1/status/1470768091...</td>\n",
       "      <td>2021-12-14 14:50:13+00:00</td>\n",
       "      <td>@KBGreyhoundlady Amitriptyline is also a sedat...</td>\n",
       "      <td>@KBGreyhoundlady Amitriptyline is also a sedat...</td>\n",
       "      <td>1470768091550388238</td>\n",
       "      <td>{'username': 'PaoloC_1', 'id': 602890495, 'dis...</td>\n",
       "      <td>1</td>\n",
       "      <td>0</td>\n",
       "      <td>2</td>\n",
       "      <td>0</td>\n",
       "      <td>...</td>\n",
       "      <td>None</td>\n",
       "      <td>1470653639475744768.0</td>\n",
       "      <td>{'username': 'KBGreyhoundlady', 'id': 87308705...</td>\n",
       "      <td>[{'username': 'KBGreyhoundlady', 'id': 8730870...</td>\n",
       "      <td>{'longitude': -0.39216, 'latitude': 51.391383}</td>\n",
       "      <td>{'fullName': 'Richmond, London', 'name': 'Rich...</td>\n",
       "      <td>None</td>\n",
       "      <td>None</td>\n",
       "      <td>None</td>\n",
       "      <td>NaN</td>\n",
       "    </tr>\n",
       "    <tr>\n",
       "      <th>1</th>\n",
       "      <td>https://twitter.com/Celticheart72/status/14612...</td>\n",
       "      <td>2021-11-18 06:55:41+00:00</td>\n",
       "      <td>@shadyboots30 @SoIsFibroReal I take Amitriptyl...</td>\n",
       "      <td>@shadyboots30 @SoIsFibroReal I take Amitriptyl...</td>\n",
       "      <td>1461226587790131201</td>\n",
       "      <td>{'username': 'Celticheart72', 'id': 27106696, ...</td>\n",
       "      <td>2</td>\n",
       "      <td>0</td>\n",
       "      <td>0</td>\n",
       "      <td>0</td>\n",
       "      <td>...</td>\n",
       "      <td>None</td>\n",
       "      <td>1460998876501061632.0</td>\n",
       "      <td>{'username': 'shadyboots30', 'id': 2947749449,...</td>\n",
       "      <td>[{'username': 'shadyboots30', 'id': 2947749449...</td>\n",
       "      <td>{'longitude': -0.080028, 'latitude': 51.48432}</td>\n",
       "      <td>{'fullName': 'Poplar, London', 'name': 'Poplar...</td>\n",
       "      <td>None</td>\n",
       "      <td>None</td>\n",
       "      <td>None</td>\n",
       "      <td>NaN</td>\n",
       "    </tr>\n",
       "    <tr>\n",
       "      <th>2</th>\n",
       "      <td>https://twitter.com/Ed_Jabbari/status/14589322...</td>\n",
       "      <td>2021-11-11 22:58:49+00:00</td>\n",
       "      <td>10mg Amitriptyline, 500mg Levetiracetam, 1g Me...</td>\n",
       "      <td>10mg Amitriptyline, 500mg Levetiracetam, 1g Me...</td>\n",
       "      <td>1458932254563053581</td>\n",
       "      <td>{'username': 'Ed_Jabbari', 'id': 4326753748, '...</td>\n",
       "      <td>1</td>\n",
       "      <td>0</td>\n",
       "      <td>6</td>\n",
       "      <td>0</td>\n",
       "      <td>...</td>\n",
       "      <td>None</td>\n",
       "      <td>NaN</td>\n",
       "      <td>None</td>\n",
       "      <td>None</td>\n",
       "      <td>{'longitude': -0.1420579, 'latitude': 51.5185518}</td>\n",
       "      <td>{'fullName': 'Islington, London', 'name': 'Isl...</td>\n",
       "      <td>None</td>\n",
       "      <td>None</td>\n",
       "      <td>None</td>\n",
       "      <td>NaN</td>\n",
       "    </tr>\n",
       "    <tr>\n",
       "      <th>3</th>\n",
       "      <td>https://twitter.com/LadyPandalorian/status/143...</td>\n",
       "      <td>2021-09-14 22:42:29+00:00</td>\n",
       "      <td>@BrummyBoy13 \"Amitriptyline: a medicine used t...</td>\n",
       "      <td>@BrummyBoy13 \"Amitriptyline: a medicine used t...</td>\n",
       "      <td>1437909645255905290</td>\n",
       "      <td>{'username': 'LadyPandalorian', 'id': 29456209...</td>\n",
       "      <td>1</td>\n",
       "      <td>0</td>\n",
       "      <td>1</td>\n",
       "      <td>0</td>\n",
       "      <td>...</td>\n",
       "      <td>None</td>\n",
       "      <td>1437909217655066624.0</td>\n",
       "      <td>{'username': 'BrummyBoy13', 'id': 818923348847...</td>\n",
       "      <td>[{'username': 'BrummyBoy13', 'id': 81892334884...</td>\n",
       "      <td>{'longitude': -0.1114755, 'latitude': 51.4194247}</td>\n",
       "      <td>{'fullName': 'Camberwell, London', 'name': 'Ca...</td>\n",
       "      <td>None</td>\n",
       "      <td>None</td>\n",
       "      <td>{'title': 'Amitriptyline: a medicine used to t...</td>\n",
       "      <td>NaN</td>\n",
       "    </tr>\n",
       "    <tr>\n",
       "      <th>4</th>\n",
       "      <td>https://twitter.com/NichSmith/status/143631713...</td>\n",
       "      <td>2021-09-10 13:14:24+00:00</td>\n",
       "      <td>@_Widdershins_ @Joel32272266 @Hedgehog91_ @scr...</td>\n",
       "      <td>@_Widdershins_ @Joel32272266 @Hedgehog91_ @scr...</td>\n",
       "      <td>1436317134414614528</td>\n",
       "      <td>{'username': 'NichSmith', 'id': 37434056, 'dis...</td>\n",
       "      <td>0</td>\n",
       "      <td>0</td>\n",
       "      <td>0</td>\n",
       "      <td>0</td>\n",
       "      <td>...</td>\n",
       "      <td>None</td>\n",
       "      <td>1436287854414548992.0</td>\n",
       "      <td>{'username': '_Widdershins_', 'id': 1016349319...</td>\n",
       "      <td>[{'username': 'Joel32272266', 'id': 1387056644...</td>\n",
       "      <td>{'longitude': -0.15191, 'latitude': 51.410792}</td>\n",
       "      <td>{'fullName': 'Lambeth, London', 'name': 'Lambe...</td>\n",
       "      <td>None</td>\n",
       "      <td>None</td>\n",
       "      <td>None</td>\n",
       "      <td>NaN</td>\n",
       "    </tr>\n",
       "  </tbody>\n",
       "</table>\n",
       "<p>5 rows × 29 columns</p>\n",
       "</div>"
      ],
      "text/plain": [
       "                                                 url  \\\n",
       "0  https://twitter.com/PaoloC_1/status/1470768091...   \n",
       "1  https://twitter.com/Celticheart72/status/14612...   \n",
       "2  https://twitter.com/Ed_Jabbari/status/14589322...   \n",
       "3  https://twitter.com/LadyPandalorian/status/143...   \n",
       "4  https://twitter.com/NichSmith/status/143631713...   \n",
       "\n",
       "                       date  \\\n",
       "0 2021-12-14 14:50:13+00:00   \n",
       "1 2021-11-18 06:55:41+00:00   \n",
       "2 2021-11-11 22:58:49+00:00   \n",
       "3 2021-09-14 22:42:29+00:00   \n",
       "4 2021-09-10 13:14:24+00:00   \n",
       "\n",
       "                                             content  \\\n",
       "0  @KBGreyhoundlady Amitriptyline is also a sedat...   \n",
       "1  @shadyboots30 @SoIsFibroReal I take Amitriptyl...   \n",
       "2  10mg Amitriptyline, 500mg Levetiracetam, 1g Me...   \n",
       "3  @BrummyBoy13 \"Amitriptyline: a medicine used t...   \n",
       "4  @_Widdershins_ @Joel32272266 @Hedgehog91_ @scr...   \n",
       "\n",
       "                                     renderedContent                   id  \\\n",
       "0  @KBGreyhoundlady Amitriptyline is also a sedat...  1470768091550388238   \n",
       "1  @shadyboots30 @SoIsFibroReal I take Amitriptyl...  1461226587790131201   \n",
       "2  10mg Amitriptyline, 500mg Levetiracetam, 1g Me...  1458932254563053581   \n",
       "3  @BrummyBoy13 \"Amitriptyline: a medicine used t...  1437909645255905290   \n",
       "4  @_Widdershins_ @Joel32272266 @Hedgehog91_ @scr...  1436317134414614528   \n",
       "\n",
       "                                                user  replyCount  \\\n",
       "0  {'username': 'PaoloC_1', 'id': 602890495, 'dis...           1   \n",
       "1  {'username': 'Celticheart72', 'id': 27106696, ...           2   \n",
       "2  {'username': 'Ed_Jabbari', 'id': 4326753748, '...           1   \n",
       "3  {'username': 'LadyPandalorian', 'id': 29456209...           1   \n",
       "4  {'username': 'NichSmith', 'id': 37434056, 'dis...           0   \n",
       "\n",
       "   retweetCount  likeCount  quoteCount  ...  quotedTweet  \\\n",
       "0             0          2           0  ...         None   \n",
       "1             0          0           0  ...         None   \n",
       "2             0          6           0  ...         None   \n",
       "3             0          1           0  ...         None   \n",
       "4             0          0           0  ...         None   \n",
       "\n",
       "        inReplyToTweetId                                      inReplyToUser  \\\n",
       "0  1470653639475744768.0  {'username': 'KBGreyhoundlady', 'id': 87308705...   \n",
       "1  1460998876501061632.0  {'username': 'shadyboots30', 'id': 2947749449,...   \n",
       "2                    NaN                                               None   \n",
       "3  1437909217655066624.0  {'username': 'BrummyBoy13', 'id': 818923348847...   \n",
       "4  1436287854414548992.0  {'username': '_Widdershins_', 'id': 1016349319...   \n",
       "\n",
       "                                      mentionedUsers  \\\n",
       "0  [{'username': 'KBGreyhoundlady', 'id': 8730870...   \n",
       "1  [{'username': 'shadyboots30', 'id': 2947749449...   \n",
       "2                                               None   \n",
       "3  [{'username': 'BrummyBoy13', 'id': 81892334884...   \n",
       "4  [{'username': 'Joel32272266', 'id': 1387056644...   \n",
       "\n",
       "                                         coordinates  \\\n",
       "0     {'longitude': -0.39216, 'latitude': 51.391383}   \n",
       "1     {'longitude': -0.080028, 'latitude': 51.48432}   \n",
       "2  {'longitude': -0.1420579, 'latitude': 51.5185518}   \n",
       "3  {'longitude': -0.1114755, 'latitude': 51.4194247}   \n",
       "4     {'longitude': -0.15191, 'latitude': 51.410792}   \n",
       "\n",
       "                                               place hashtags cashtags  \\\n",
       "0  {'fullName': 'Richmond, London', 'name': 'Rich...     None     None   \n",
       "1  {'fullName': 'Poplar, London', 'name': 'Poplar...     None     None   \n",
       "2  {'fullName': 'Islington, London', 'name': 'Isl...     None     None   \n",
       "3  {'fullName': 'Camberwell, London', 'name': 'Ca...     None     None   \n",
       "4  {'fullName': 'Lambeth, London', 'name': 'Lambe...     None     None   \n",
       "\n",
       "                                                card links  \n",
       "0                                               None   NaN  \n",
       "1                                               None   NaN  \n",
       "2                                               None   NaN  \n",
       "3  {'title': 'Amitriptyline: a medicine used to t...   NaN  \n",
       "4                                               None   NaN  \n",
       "\n",
       "[5 rows x 29 columns]"
      ]
     },
     "execution_count": 6,
     "metadata": {},
     "output_type": "execute_result"
    }
   ],
   "source": [
    "from os import listdir\n",
    "from os.path import isfile, join\n",
    "\n",
    "PATH = r\"C:\\Users\\saiph\\Desktop\\Learning\\Omdena\\Coventry\\\\\"\n",
    "\n",
    "pkl_files = [f for f in listdir(PATH) if isfile(join(PATH, f)) and \".pkl\" in f]\n",
    "\n",
    "tweets_df = pd.DataFrame()\n",
    "\n",
    "for pkl_file in pkl_files:\n",
    "    temp_df = pd.read_pickle(pkl_file)\n",
    "    tweets_df = tweets_df.append(temp_df)\n",
    "\n",
    "tweets_df = tweets_df.reset_index(drop=True)\n",
    "\n",
    "tweets_df.head()"
   ]
  },
  {
   "cell_type": "code",
   "execution_count": 7,
   "metadata": {},
   "outputs": [
    {
     "data": {
      "text/plain": [
       "((42913, 29), (42404, 29))"
      ]
     },
     "execution_count": 7,
     "metadata": {},
     "output_type": "execute_result"
    }
   ],
   "source": [
    "tweets_df.shape, tweets_df.drop_duplicates([\"id\"]).shape"
   ]
  },
  {
   "cell_type": "code",
   "execution_count": 8,
   "metadata": {},
   "outputs": [],
   "source": [
    "tweets_df = tweets_df.drop_duplicates([\"id\"]).reset_index(drop=True)"
   ]
  },
  {
   "cell_type": "code",
   "execution_count": 9,
   "metadata": {},
   "outputs": [
    {
     "name": "stdout",
     "output_type": "stream",
     "text": [
      "@GestaltLondon\n",
      "If you or your loved one is experiencing anxiety or depression, contact a #Gestalt therapist right away. Even if you are taking anti-anxiety or antidepressant pills, a few Gestalt sessions in addition to the pills might do wonders.\n"
     ]
    },
    {
     "data": {
      "text/plain": [
       "0"
      ]
     },
     "execution_count": 9,
     "metadata": {},
     "output_type": "execute_result"
    }
   ],
   "source": [
    "i = 0\n",
    "for tweet_content in tweets_df[\"content\"]:\n",
    "    if \"Gestalt\" in tweet_content:\n",
    "        print(tweet_content)\n",
    "i"
   ]
  },
  {
   "cell_type": "code",
   "execution_count": 10,
   "metadata": {},
   "outputs": [
    {
     "data": {
      "text/plain": [
       "(42404, 29)"
      ]
     },
     "execution_count": 10,
     "metadata": {},
     "output_type": "execute_result"
    }
   ],
   "source": [
    "tweets_df.shape"
   ]
  },
  {
   "cell_type": "code",
   "execution_count": 11,
   "metadata": {},
   "outputs": [],
   "source": [
    "# Importing Stopwords\n",
    "\n",
    "from nltk.corpus import stopwords\n",
    "stop_words = stopwords.words(\"english\")"
   ]
  },
  {
   "cell_type": "code",
   "execution_count": 12,
   "metadata": {},
   "outputs": [],
   "source": [
    "tweets_df[\"clean_tweet\"] = tweets_df[\"content\"].apply(lambda x: ' '.join(re.sub(\"(@[A-Za-z0-9]+)|([^0-9A-Za-z \\t])|(\\w+:\\/\\/\\S+)\", \" \", x).split()))"
   ]
  },
  {
   "cell_type": "code",
   "execution_count": 13,
   "metadata": {},
   "outputs": [
    {
     "data": {
      "text/plain": [
       "0        Amitriptyline is also a sedative prescribed fo...\n",
       "1        I take Amitriptyline Pregabalin Lyrica Duloxet...\n",
       "2        10mg Amitriptyline 500mg Levetiracetam 1g Meth...\n",
       "3        Amitriptyline a medicine used to treat pain an...\n",
       "4        Widdershins Might be Amitriptyline it gets use...\n",
       "                               ...                        \n",
       "42399    HappyNewYear everyone I m not a bore but I m w...\n",
       "42400    Happy New Year Just asking have you any clue w...\n",
       "42401    Incase anyone is still worried here s a beauti...\n",
       "42402    Thanks Micheal I think I ve got no choice real...\n",
       "42403    Booked mine too Have never been worried for my...\n",
       "Name: clean_tweet, Length: 42404, dtype: object"
      ]
     },
     "execution_count": 13,
     "metadata": {},
     "output_type": "execute_result"
    }
   ],
   "source": [
    "tweets_df[\"clean_tweet\"]"
   ]
  },
  {
   "cell_type": "markdown",
   "metadata": {},
   "source": [
    "# Tokenize words and Clean-up text"
   ]
  },
  {
   "cell_type": "code",
   "execution_count": 14,
   "metadata": {},
   "outputs": [],
   "source": [
    "def sent_to_words(sentences):\n",
    "    for sentence in sentences:\n",
    "        yield(gensim.utils.simple_preprocess(str(sentence), deacc=True))  # deacc=True removes punctuations"
   ]
  },
  {
   "cell_type": "code",
   "execution_count": 15,
   "metadata": {},
   "outputs": [],
   "source": [
    "data_words = list(sent_to_words(tweets_df[\"clean_tweet\"].values))"
   ]
  },
  {
   "cell_type": "code",
   "execution_count": 16,
   "metadata": {},
   "outputs": [
    {
     "name": "stdout",
     "output_type": "stream",
     "text": [
      "[['amitriptyline', 'is', 'also', 'sedative', 'prescribed', 'for', 'insomnia', 'so', 'wouldn', 'recommend', 'taking', 'it', 'during', 'the', 'day']]\n"
     ]
    }
   ],
   "source": [
    "print(data_words[:1])"
   ]
  },
  {
   "cell_type": "markdown",
   "metadata": {},
   "source": [
    "# Creating Bigram and Trigram Models"
   ]
  },
  {
   "cell_type": "code",
   "execution_count": 17,
   "metadata": {},
   "outputs": [],
   "source": [
    "# Build the bigram and trigram models\n",
    "bigram = gensim.models.Phrases(data_words, min_count=5, threshold=100) # higher threshold fewer phrases.\n",
    "trigram = gensim.models.Phrases(bigram[data_words], threshold=100)"
   ]
  },
  {
   "cell_type": "code",
   "execution_count": 18,
   "metadata": {},
   "outputs": [],
   "source": [
    "# Faster way to get a sentence clubbed as a trigram/bigram\n",
    "bigram_mod = gensim.models.phrases.Phraser(bigram)\n",
    "trigram_mod = gensim.models.phrases.Phraser(trigram)"
   ]
  },
  {
   "cell_type": "code",
   "execution_count": 19,
   "metadata": {},
   "outputs": [
    {
     "name": "stdout",
     "output_type": "stream",
     "text": [
      "['amitriptyline', 'is', 'also', 'sedative', 'prescribed', 'for', 'insomnia', 'so', 'wouldn', 'recommend', 'taking', 'it', 'during', 'the', 'day']\n"
     ]
    }
   ],
   "source": [
    "# See trigram example\n",
    "print(trigram_mod[bigram_mod[data_words[0]]])"
   ]
  },
  {
   "cell_type": "markdown",
   "metadata": {},
   "source": [
    "# Remove Stopwords, Make Bigrams and Lemmatize"
   ]
  },
  {
   "cell_type": "code",
   "execution_count": 20,
   "metadata": {},
   "outputs": [],
   "source": [
    "# Define functions for stopwords, bigrams, trigrams and lemmatization\n",
    "def remove_stopwords(texts):\n",
    "    return [[word for word in simple_preprocess(str(doc)) if word not in stop_words] for doc in texts]\n",
    "\n",
    "def make_bigrams(texts):\n",
    "    return [bigram_mod[doc] for doc in texts]\n",
    "\n",
    "def make_trigrams(texts):\n",
    "    return [trigram_mod[bigram_mod[doc]] for doc in texts]\n",
    "\n",
    "def lemmatization(texts, allowed_postags=['NOUN', 'ADJ', 'VERB', 'ADV']):\n",
    "    \"\"\"https://spacy.io/api/annotation\"\"\"\n",
    "    texts_out = []\n",
    "    for sent in texts:\n",
    "        doc = nlp(\" \".join(sent)) \n",
    "        texts_out.append([token.lemma_ for token in doc if token.pos_ in allowed_postags])\n",
    "    return texts_out"
   ]
  },
  {
   "cell_type": "code",
   "execution_count": 21,
   "metadata": {},
   "outputs": [],
   "source": [
    "# Remove Stop Words\n",
    "data_words_nostops = remove_stopwords(data_words)"
   ]
  },
  {
   "cell_type": "code",
   "execution_count": 22,
   "metadata": {},
   "outputs": [],
   "source": [
    "# Form Bigrams\n",
    "data_words_bigrams = make_bigrams(data_words_nostops)"
   ]
  },
  {
   "cell_type": "code",
   "execution_count": 28,
   "metadata": {},
   "outputs": [
    {
     "data": {
      "text/plain": [
       "<spacy.lang.en.English at 0x2226f2a8460>"
      ]
     },
     "execution_count": 28,
     "metadata": {},
     "output_type": "execute_result"
    }
   ],
   "source": [
    "spacy.load('en_core_web_sm')"
   ]
  },
  {
   "cell_type": "code",
   "execution_count": 30,
   "metadata": {},
   "outputs": [],
   "source": [
    "# Initialize spacy 'en' model, keeping only tagger component (for efficiency)\n",
    "# python3 -m spacy download en\n",
    "nlp = spacy.load(\"en_core_web_sm\", disable=[\"parser\", \"ner\"])"
   ]
  },
  {
   "cell_type": "code",
   "execution_count": 32,
   "metadata": {},
   "outputs": [
    {
     "name": "stdout",
     "output_type": "stream",
     "text": [
      "[['amitriptyline', 'also', 'sedative', 'prescribed', 'recommend', 'take', 'day']]\n"
     ]
    }
   ],
   "source": [
    "data_lemmatized = lemmatization(data_words_bigrams, allowed_postags=['NOUN', 'ADJ', 'VERB', 'ADV'])\n",
    "\n",
    "print(data_lemmatized[:1])"
   ]
  },
  {
   "cell_type": "code",
   "execution_count": 33,
   "metadata": {},
   "outputs": [
    {
     "name": "stdout",
     "output_type": "stream",
     "text": [
      "[[(0, 1), (1, 1), (2, 1), (3, 1), (4, 1), (5, 1), (6, 1)]]\n"
     ]
    }
   ],
   "source": [
    "# Create Dictionary\n",
    "id2word = corpora.Dictionary(data_lemmatized)\n",
    "\n",
    "# Create Corpus\n",
    "texts = data_lemmatized\n",
    "\n",
    "# Term Document Frequency\n",
    "corpus = [id2word.doc2bow(text) for text in texts]\n",
    "\n",
    "# View\n",
    "print(corpus[:1])"
   ]
  },
  {
   "cell_type": "markdown",
   "metadata": {},
   "source": [
    "# Building the Topic Model"
   ]
  },
  {
   "cell_type": "code",
   "execution_count": 34,
   "metadata": {},
   "outputs": [],
   "source": [
    "# Build LDA model\n",
    "lda_model = gensim.models.ldamodel.LdaModel(corpus=corpus,\n",
    "                                           id2word=id2word,\n",
    "                                           num_topics=20, \n",
    "                                           random_state=100,\n",
    "                                           update_every=1,\n",
    "                                           chunksize=100,\n",
    "                                           passes=10,\n",
    "                                           alpha='auto',\n",
    "                                           per_word_topics=True)"
   ]
  },
  {
   "cell_type": "code",
   "execution_count": 35,
   "metadata": {},
   "outputs": [
    {
     "name": "stdout",
     "output_type": "stream",
     "text": [
      "[(0,\n",
      "  '0.200*\"vaccine\" + 0.130*\"use\" + 0.094*\"child\" + 0.088*\"reach\" + '\n",
      "  '0.076*\"change\" + 0.040*\"likely\" + 0.035*\"message\" + 0.027*\"impact\" + '\n",
      "  '0.026*\"deal\" + 0.023*\"damage\"'),\n",
      " (1,\n",
      "  '0.240*\"ask\" + 0.092*\"kid\" + 0.056*\"story\" + 0.055*\"late\" + 0.054*\"hospital\" '\n",
      "  '+ 0.051*\"seriously\" + 0.047*\"local\" + 0.027*\"response\" + 0.025*\"usual\" + '\n",
      "  '0.025*\"effect\"'),\n",
      " (2,\n",
      "  '0.185*\"amp\" + 0.120*\"thank\" + 0.111*\"much\" + 0.104*\"thing\" + 0.082*\"start\" '\n",
      "  '+ 0.069*\"first\" + 0.058*\"great\" + 0.037*\"point\" + 0.025*\"walk\" + '\n",
      "  '0.024*\"fact\"'),\n",
      " (3,\n",
      "  '0.215*\"right\" + 0.127*\"watch\" + 0.090*\"wait\" + 0.065*\"open\" + 0.060*\"head\" '\n",
      "  '+ 0.043*\"word\" + 0.039*\"definitely\" + 0.039*\"can\" + 0.037*\"amazing\" + '\n",
      "  '0.032*\"eye\"'),\n",
      " (4,\n",
      "  '0.233*\"bit\" + 0.132*\"long\" + 0.109*\"friend\" + 0.061*\"hard\" + 0.050*\"follow\" '\n",
      "  '+ 0.038*\"part\" + 0.035*\"low\" + 0.029*\"save\" + 0.029*\"amount\" + '\n",
      "  '0.021*\"flat\"'),\n",
      " (5,\n",
      "  '0.219*\"call\" + 0.135*\"seem\" + 0.117*\"must\" + 0.045*\"sort\" + 0.044*\"water\" + '\n",
      "  '0.043*\"suffer\" + 0.025*\"negative\" + 0.024*\"roll\" + 0.019*\"process\" + '\n",
      "  '0.015*\"harm\"'),\n",
      " (6,\n",
      "  '0.207*\"back\" + 0.162*\"week\" + 0.095*\"bad\" + 0.045*\"least\" + 0.045*\"moment\" '\n",
      "  '+ 0.043*\"move\" + 0.037*\"sleep\" + 0.027*\"stress\" + 0.026*\"lovely\" + '\n",
      "  '0.023*\"nee\"'),\n",
      " (7,\n",
      "  '0.187*\"get\" + 0.164*\"go\" + 0.088*\"see\" + 0.061*\"good\" + 0.057*\"day\" + '\n",
      "  '0.048*\"today\" + 0.048*\"work\" + 0.036*\"give\" + 0.032*\"help\" + 0.027*\"love\"'),\n",
      " (8,\n",
      "  '0.223*\"people\" + 0.086*\"want\" + 0.068*\"stop\" + 0.063*\"tell\" + 0.049*\"next\" '\n",
      "  '+ 0.045*\"lot\" + 0.045*\"big\" + 0.040*\"end\" + 0.040*\"actually\" + '\n",
      "  '0.026*\"already\"'),\n",
      " (9,\n",
      "  '0.355*\"sad\" + 0.093*\"happen\" + 0.063*\"parent\" + 0.056*\"leave\" + '\n",
      "  '0.051*\"home\" + 0.040*\"tomorrow\" + 0.035*\"talk\" + 0.026*\"thought\" + '\n",
      "  '0.025*\"full\" + 0.024*\"fine\"'),\n",
      " (10,\n",
      "  '0.326*\"also\" + 0.161*\"choice\" + 0.071*\"health\" + 0.050*\"non\" + 0.027*\"type\" '\n",
      "  '+ 0.019*\"recommend\" + 0.013*\"regardless\" + 0.008*\"pill\" + 0.000*\"worried\" + '\n",
      "  '0.000*\"worry\"'),\n",
      " (11,\n",
      "  '0.224*\"think\" + 0.179*\"feel\" + 0.069*\"keep\" + 0.056*\"little\" + 0.054*\"find\" '\n",
      "  '+ 0.036*\"less\" + 0.032*\"yesterday\" + 0.031*\"mean\" + 0.030*\"absolutely\" + '\n",
      "  '0.028*\"person\"'),\n",
      " (12,\n",
      "  '0.204*\"would\" + 0.202*\"time\" + 0.129*\"well\" + 0.070*\"try\" + 0.067*\"bring\" + '\n",
      "  '0.054*\"month\" + 0.037*\"probably\" + 0.027*\"free\" + 0.022*\"experience\" + '\n",
      "  '0.017*\"dog\"'),\n",
      " (13,\n",
      "  '0.261*\"hope\" + 0.250*\"covid\" + 0.116*\"turn\" + 0.091*\"risk\" + 0.026*\"centre\" '\n",
      "  '+ 0.011*\"prevent\" + 0.006*\"highly\" + 0.000*\"worried\" + 0.000*\"worry\" + '\n",
      "  '0.000*\"pressured\"'),\n",
      " (14,\n",
      "  '0.390*\"new\" + 0.165*\"patient\" + 0.121*\"read\" + 0.013*\"boss\" + '\n",
      "  '0.005*\"senior\" + 0.000*\"worry\" + 0.000*\"worried\" + 0.000*\"book\" + '\n",
      "  '0.000*\"protect\" + 0.000*\"flu\"'),\n",
      " (15,\n",
      "  '0.331*\"say\" + 0.197*\"come\" + 0.127*\"could\" + 0.075*\"do\" + 0.037*\"real\" + '\n",
      "  '0.035*\"problem\" + 0.024*\"realise\" + 0.020*\"video\" + 0.010*\"abuse\" + '\n",
      "  '0.008*\"promote\"'),\n",
      " (16,\n",
      "  '0.335*\"still\" + 0.250*\"take\" + 0.058*\"remember\" + 0.047*\"result\" + '\n",
      "  '0.030*\"appear\" + 0.027*\"drink\" + 0.021*\"currently\" + 0.016*\"choose\" + '\n",
      "  '0.016*\"daily\" + 0.008*\"attempt\"'),\n",
      " (17,\n",
      "  '0.267*\"year\" + 0.161*\"look\" + 0.109*\"last\" + 0.066*\"put\" + 0.062*\"job\" + '\n",
      "  '0.057*\"maybe\" + 0.054*\"place\" + 0.030*\"cause\" + 0.015*\"social\" + '\n",
      "  '0.014*\"build\"'),\n",
      " (18,\n",
      "  '0.164*\"really\" + 0.116*\"know\" + 0.108*\"may\" + 0.093*\"need\" + 0.062*\"even\" + '\n",
      "  '0.061*\"send\" + 0.059*\"many\" + 0.045*\"way\" + 0.043*\"always\" + 0.028*\"away\"'),\n",
      " (19,\n",
      "  '0.260*\"make\" + 0.149*\"never\" + 0.091*\"happy\" + 0.050*\"care\" + '\n",
      "  '0.048*\"support\" + 0.048*\"able\" + 0.037*\"buy\" + 0.035*\"high\" + '\n",
      "  '0.021*\"literally\" + 0.018*\"opinion\"')]\n"
     ]
    }
   ],
   "source": [
    "# Print the Keyword in the 10 topics\n",
    "pprint(lda_model.print_topics())\n",
    "doc_lda = lda_model[corpus]"
   ]
  },
  {
   "cell_type": "code",
   "execution_count": 36,
   "metadata": {},
   "outputs": [
    {
     "name": "stdout",
     "output_type": "stream",
     "text": [
      "\n",
      "Perplexity:  -19.416156134177406\n",
      "\n",
      "Coherence Score:  0.29331818678792015\n"
     ]
    }
   ],
   "source": [
    "# Compute Perplexity\n",
    "print('\\nPerplexity: ', lda_model.log_perplexity(corpus))  # a measure of how good the model is. lower the better.\n",
    "\n",
    "# Compute Coherence Score\n",
    "coherence_model_lda = CoherenceModel(model=lda_model, texts=data_lemmatized, dictionary=id2word, coherence='c_v')\n",
    "coherence_lda = coherence_model_lda.get_coherence()\n",
    "print('\\nCoherence Score: ', coherence_lda)"
   ]
  },
  {
   "cell_type": "code",
   "execution_count": 38,
   "metadata": {},
   "outputs": [
    {
     "data": {
      "text/html": [
       "\n",
       "<link rel=\"stylesheet\" type=\"text/css\" href=\"https://cdn.jsdelivr.net/gh/bmabey/pyLDAvis@3.3.1/pyLDAvis/js/ldavis.v1.0.0.css\">\n",
       "\n",
       "\n",
       "<div id=\"ldavis_el1244823454754703847090972458\"></div>\n",
       "<script type=\"text/javascript\">\n",
       "\n",
       "var ldavis_el1244823454754703847090972458_data = {\"mdsDat\": {\"x\": [-0.31876656699819417, -0.09540051993735793, -0.1723783011618549, -0.13676576062227627, -0.09145139992992342, -0.09209275120362463, -0.04637135365893617, -0.0015563404568137555, -0.012606312352901938, 0.023485243898701526, 0.04789405123255636, 0.06280661855815618, 0.08331255036060964, 0.07471030490909407, 0.07149610661327244, 0.10339097522938834, 0.11879727571505505, 0.11158348038985781, 0.13302479133917852, 0.1368879080760133], \"y\": [0.33169942995309454, -0.0600530386673011, -0.26860912904342527, -0.12939707830413127, -0.05568716643196891, -0.05635556099343164, -0.01934396616260714, 0.0021616389945719747, -0.0023415666439753732, 0.010351813223797217, 0.016928576486182734, 0.020178419960869186, 0.023897115412003497, 0.02238849391466127, 0.02186682878821919, 0.0268124521314311, 0.028495373977522113, 0.027715217621637887, 0.029542921810214028, 0.029749223972635123], \"topics\": [1, 2, 3, 4, 5, 6, 7, 8, 9, 10, 11, 12, 13, 14, 15, 16, 17, 18, 19, 20], \"cluster\": [1, 1, 1, 1, 1, 1, 1, 1, 1, 1, 1, 1, 1, 1, 1, 1, 1, 1, 1, 1], \"Freq\": [17.061275077556854, 16.947364598270926, 8.805303376127476, 7.113793578833648, 6.739523384429499, 6.212905230690976, 5.215985945495426, 4.641566956042908, 4.250078120427971, 3.39124649022532, 3.3231664106667327, 2.960719742832762, 2.6711415777234753, 2.5113754283017515, 2.007781869891188, 1.6376504010377915, 1.5289206048429544, 1.1852483203364443, 0.9180657900997745, 0.8768870961661245]}, \"tinfo\": {\"Term\": [\"sad\", \"get\", \"go\", \"people\", \"think\", \"say\", \"make\", \"year\", \"really\", \"amp\", \"would\", \"time\", \"still\", \"feel\", \"happen\", \"see\", \"know\", \"bit\", \"back\", \"take\", \"may\", \"come\", \"thank\", \"look\", \"never\", \"right\", \"much\", \"need\", \"well\", \"thing\", \"get\", \"go\", \"see\", \"good\", \"day\", \"today\", \"work\", \"give\", \"help\", \"love\", \"life\", \"sure\", \"ever\", \"far\", \"become\", \"woman\", \"issue\", \"pandemic\", \"small\", \"stuff\", \"allow\", \"manage\", \"struggle\", \"nearly\", \"usually\", \"tough\", \"develop\", \"energy\", \"double\", \"perfect\", \"sad\", \"happen\", \"parent\", \"leave\", \"home\", \"tomorrow\", \"talk\", \"thought\", \"full\", \"fine\", \"sign\", \"age\", \"instead\", \"finally\", \"twitter\", \"glad\", \"form\", \"box\", \"brother\", \"trip\", \"lol\", \"fantastic\", \"stuck\", \"period\", \"fish\", \"shower\", \"demonstrate\", \"empty\", \"worried\", \"anxiety\", \"really\", \"know\", \"may\", \"need\", \"even\", \"send\", \"many\", \"way\", \"always\", \"away\", \"world\", \"win\", \"death\", \"contact\", \"wonder\", \"learn\", \"service\", \"include\", \"forward\", \"huge\", \"aware\", \"medical\", \"adult\", \"describe\", \"failure\", \"lesson\", \"depression\", \"trigger\", \"session\", \"worry\", \"worried\", \"people\", \"want\", \"stop\", \"tell\", \"next\", \"lot\", \"big\", \"end\", \"actually\", \"already\", \"run\", \"early\", \"mate\", \"sound\", \"almost\", \"resident\", \"eat\", \"normal\", \"clearly\", \"fall\", \"pick\", \"forget\", \"carry\", \"explain\", \"fair\", \"notice\", \"window\", \"disabled\", \"brain\", \"target\", \"amp\", \"thank\", \"much\", \"thing\", \"start\", \"first\", \"great\", \"point\", \"walk\", \"fact\", \"visit\", \"fuck\", \"shame\", \"personal\", \"shut\", \"mention\", \"incredibly\", \"name\", \"otherwise\", \"crazy\", \"alternative\", \"engage\", \"compare\", \"family\", \"hear\", \"man\", \"lose\", \"team\", \"season\", \"safe\", \"worry\", \"play\", \"show\", \"worried\", \"think\", \"feel\", \"keep\", \"little\", \"find\", \"less\", \"yesterday\", \"mean\", \"absolutely\", \"person\", \"order\", \"alone\", \"post\", \"speak\", \"honestly\", \"short\", \"imagine\", \"reply\", \"discuss\", \"size\", \"worth\", \"basically\", \"difficult\", \"often\", \"forever\", \"pressure\", \"pressured\", \"gay\", \"family\", \"let\", \"hear\", \"worry\", \"lose\", \"play\", \"worried\", \"show\", \"would\", \"time\", \"well\", \"try\", \"bring\", \"month\", \"probably\", \"free\", \"experience\", \"dog\", \"self\", \"ticket\", \"shit\", \"pain\", \"fix\", \"dear\", \"earth\", \"flight\", \"flu\", \"protect\", \"book\", \"hear\", \"ago\", \"spend\", \"ok\", \"nice\", \"player\", \"smile\", \"yet\", \"like\", \"face\", \"night\", \"family\", \"man\", \"fan\", \"old\", \"team\", \"worry\", \"play\", \"lose\", \"show\", \"game\", \"worried\", \"series\", \"make\", \"never\", \"happy\", \"care\", \"support\", \"able\", \"buy\", \"high\", \"literally\", \"opinion\", \"symptom\", \"cry\", \"awful\", \"sometimes\", \"gp\", \"spot\", \"fight\", \"letter\", \"deserve\", \"excellent\", \"population\", \"ignore\", \"female\", \"flu\", \"book\", \"protect\", \"pressured\", \"phone\", \"sense\", \"decision\", \"other\", \"enough\", \"worry\", \"man\", \"lose\", \"family\", \"play\", \"worried\", \"show\", \"year\", \"look\", \"last\", \"put\", \"job\", \"maybe\", \"place\", \"cause\", \"social\", \"build\", \"offer\", \"access\", \"act\", \"husband\", \"relationship\", \"movie\", \"natural\", \"series\", \"replay\", \"clue\", \"recently\", \"old\", \"version\", \"arrest\", \"finish\", \"principally\", \"charity\", \"show\", \"barrier\", \"showbiz\", \"season\", \"live\", \"hold\", \"night\", \"pressured\", \"hear\", \"family\", \"man\", \"soon\", \"worry\", \"lose\", \"play\", \"worried\", \"book\", \"game\", \"say\", \"come\", \"could\", \"do\", \"real\", \"problem\", \"realise\", \"video\", \"abuse\", \"promote\", \"officially\", \"incredible\", \"gay\", \"singer\", \"exchange\", \"emotional\", \"pervert\", \"dirty\", \"ally\", \"horse\", \"outrage\", \"perverted\", \"fearmongere\", \"article\", \"irresponsible\", \"hoom\", \"digby\", \"jock\", \"immediate\", \"biden\", \"violence\", \"return\", \"threaten\", \"add\", \"email\", \"funny\", \"hear\", \"old\", \"true\", \"news\", \"garden\", \"yet\", \"team\", \"man\", \"poor\", \"family\", \"lose\", \"game\", \"country\", \"let\", \"enough\", \"wrong\", \"worry\", \"play\", \"live\", \"show\", \"worried\", \"book\", \"series\", \"front\", \"government\", \"back\", \"week\", \"bad\", \"least\", \"moment\", \"move\", \"sleep\", \"stress\", \"lovely\", \"nee\", \"important\", \"weekend\", \"guess\", \"cold\", \"fire\", \"treat\", \"hot\", \"war\", \"burn\", \"sertraline\", \"chest\", \"air\", \"weather\", \"inspector\", \"streetlink\", \"wake\", \"sacrifice\", \"rough\", \"hall\", \"dollar\", \"replace\", \"league\", \"summer\", \"policy\", \"area\", \"boyfriend\", \"ago\", \"tonight\", \"music\", \"stay\", \"rather\", \"sick\", \"hear\", \"man\", \"school\", \"morning\", \"live\", \"family\", \"lose\", \"worry\", \"game\", \"team\", \"show\", \"play\", \"book\", \"worried\", \"series\", \"bit\", \"long\", \"friend\", \"hard\", \"follow\", \"part\", \"low\", \"save\", \"amount\", \"flat\", \"respect\", \"treatment\", \"light\", \"interesting\", \"ridiculous\", \"properly\", \"research\", \"pic\", \"previously\", \"circumstance\", \"poultry\", \"conscience\", \"press\", \"batshit\", \"bullshit\", \"mph\", \"out\", \"uni\", \"lunatic\", \"egregious\", \"cancer\", \"attract\", \"rule\", \"family\", \"cat\", \"garden\", \"stage\", \"believe\", \"live\", \"money\", \"true\", \"old\", \"lose\", \"agree\", \"hear\", \"die\", \"yet\", \"let\", \"worry\", \"government\", \"show\", \"play\", \"man\", \"game\", \"worried\", \"book\", \"series\", \"right\", \"watch\", \"wait\", \"open\", \"head\", \"word\", \"definitely\", \"can\", \"amazing\", \"eye\", \"helpful\", \"pop\", \"interview\", \"piece\", \"bully\", \"bulletin\", \"scientist\", \"mutate\", \"certainly\", \"centrist\", \"asylum\", \"curb\", \"coronavirus\", \"european\", \"seeker\", \"heartbreaking\", \"brutal\", \"fragility\", \"nutter\", \"abide\", \"clink\", \"tv\", \"protest\", \"pretty\", \"completely\", \"close\", \"advice\", \"sit\", \"lie\", \"game\", \"together\", \"team\", \"young\", \"wrong\", \"staff\", \"lose\", \"pass\", \"country\", \"show\", \"hear\", \"let\", \"worry\", \"die\", \"play\", \"man\", \"family\", \"enough\", \"book\", \"worried\", \"series\", \"front\", \"still\", \"take\", \"remember\", \"result\", \"appear\", \"drink\", \"currently\", \"choose\", \"daily\", \"attempt\", \"reveal\", \"major\", \"flier\", \"lady\", \"scottish\", \"bag\", \"pipe\", \"beautiful\", \"prove\", \"room\", \"front\", \"convalescent\", \"play\", \"plasma\", \"poison\", \"dump\", \"profession\", \"pcr_t\", \"sender\", \"consignment\", \"extra\", \"receive\", \"accountability\", \"sertraline\", \"later\", \"score\", \"stay\", \"catch\", \"quite\", \"number\", \"team\", \"game\", \"hear\", \"man\", \"worry\", \"lose\", \"government\", \"let\", \"family\", \"show\", \"worried\", \"book\", \"vaccine\", \"use\", \"child\", \"reach\", \"change\", \"likely\", \"message\", \"impact\", \"deal\", \"damage\", \"mother\", \"present\", \"key\", \"main\", \"common\", \"joy\", \"highlight\", \"mood\", \"habit\", \"filter\", \"series\", \"replay\", \"clue\", \"protect\", \"flu\", \"reporting\", \"none\", \"status\", \"curious\", \"materialise\", \"recently\", \"produce\", \"book\", \"show\", \"concern\", \"catch\", \"country\", \"let\", \"worry\", \"worried\", \"ask\", \"kid\", \"story\", \"late\", \"hospital\", \"seriously\", \"local\", \"response\", \"usual\", \"effect\", \"complete\", \"lock\", \"involve\", \"suggest\", \"decade\", \"respond\", \"celebrate\", \"review\", \"series\", \"clue\", \"replay\", \"recently\", \"polite\", \"consultation\", \"inclusive\", \"hostile\", \"askdave\", \"multimac\", \"outgrow\", \"nightingale\", \"adverse\", \"show\", \"sensibility\", \"extraordinarily\", \"suspect\", \"knee\", \"school\", \"spread\", \"tory\", \"vaccination\", \"question\", \"phone\", \"write\", \"close\", \"quite\", \"hear\", \"worry\", \"family\", \"man\", \"live\", \"worried\", \"book\", \"play\", \"call\", \"seem\", \"must\", \"sort\", \"water\", \"suffer\", \"negative\", \"roll\", \"process\", \"harm\", \"healthy\", \"surely\", \"switch\", \"perfectly\", \"horror\", \"belief\", \"explore\", \"cyberman\", \"broadband\", \"marsh\", \"aquifer\", \"munraj\", \"clean\", \"wind\", \"crawl\", \"compass\", \"cyclaman\", \"mailer\", \"misreademail\", \"used\", \"doctor\", \"wine\", \"appropriate\", \"advice\", \"reason\", \"test\", \"police\", \"member\", \"positive\", \"surgery\", \"phone\", \"however\", \"night\", \"understand\", \"hear\", \"agree\", \"man\", \"family\", \"government\", \"miss\", \"worry\", \"play\", \"lose\", \"worried\", \"show\", \"live\", \"book\", \"hope\", \"covid\", \"turn\", \"risk\", \"centre\", \"prevent\", \"highly\", \"imply\", \"gloom\", \"ell\", \"doom\", \"skepticism\", \"daycare\", \"archive\", \"depardieu\", \"submerged\", \"common_sense\", \"bell\", \"medicine\", \"compliance\", \"outweigh\", \"absence\", \"terrorise\", \"comorbidity\", \"charcot\", \"handrail\", \"nightmare\", \"frequency\", \"insufficient\", \"reinsurance\", \"pressured\", \"enormous\", \"related\", \"communication\", \"aside\", \"overcrowding\", \"responsibility\", \"vaccination\", \"recovery\", \"test\", \"staff\", \"positive\", \"safety\", \"mad\", \"stay\", \"variant\", \"spread\", \"holiday\", \"virus\", \"current\", \"course\", \"appointment\", \"police\", \"dose\", \"sit\", \"scare\", \"safe\", \"school\", \"different\", \"soon\", \"let\", \"government\", \"mask\", \"check\", \"hear\", \"worry\", \"book\", \"country\", \"lose\", \"die\", \"enough\", \"family\", \"worried\", \"number\", \"play\", \"man\", \"show\", \"game\", \"new\", \"patient\", \"read\", \"boss\", \"senior\", \"flu\", \"pressured\", \"protect\", \"politic\", \"book\", \"nannying\", \"expected\", \"radical\", \"musical\", \"luck\", \"globalwarme\", \"craftivism\", \"bin\", \"arrival\", \"crackdown\", \"cyberman\", \"sheen\", \"tennant\", \"pretender\", \"upstaged\", \"scandalous\", \"betrayal\", \"chief\", \"grant\", \"gentleprot\", \"expand\", \"south_african\", \"attract\", \"oxygen\", \"clothe\", \"liberal\", \"supply\", \"variant\", \"chair\", \"strain\", \"design\", \"protest\", \"reading\", \"film\", \"labour\", \"voter\", \"mutation\", \"potential\", \"lift\", \"join\", \"ago\", \"return\", \"worry\", \"enough\", \"yet\", \"whole\", \"miss\", \"tory\", \"believe\", \"government\", \"die\", \"young\", \"lockdown\", \"lose\", \"face\", \"hear\", \"school\", \"family\", \"play\", \"worried\", \"man\", \"series\", \"show\", \"recently\", \"also\", \"choice\", \"health\", \"non\", \"type\", \"recommend\", \"regardless\", \"pill\", \"pressured\", \"egg\", \"coconut\", \"intolerant\", \"foamy\", \"cynical\", \"scramble\", \"commendable\", \"humorous\", \"incompetent\", \"obvious\", \"comically\", \"milk\", \"behave\", \"lactose\", \"belt\", \"overtake\", \"okay\", \"dosing\", \"increased\", \"informed\", \"compromise\", \"bin\", \"pfizer\", \"privileged\", \"taste\", \"deeply\", \"force\", \"certain\", \"daughter\", \"else\", \"like\", \"quite\", \"obviously\", \"nice\", \"public\", \"plan\", \"thread\", \"club\", \"face\", \"understand\", \"worry\", \"old\", \"teacher\", \"agree\", \"live\", \"family\", \"enough\", \"book\", \"worried\", \"man\", \"hear\", \"play\", \"show\", \"miss\"], \"Freq\": [23751.0, 12555.0, 11062.0, 6272.0, 5485.0, 4432.0, 4765.0, 4486.0, 5699.0, 4908.0, 4204.0, 4161.0, 3322.0, 4392.0, 6201.0, 5946.0, 4047.0, 2726.0, 2721.0, 2479.0, 3742.0, 2634.0, 3193.0, 2708.0, 2731.0, 2264.0, 2963.0, 3234.0, 2654.0, 2760.0, 12554.290351771266, 11061.122791277365, 5944.773631167225, 4110.836403811449, 3839.5284101540815, 3232.14256406614, 3218.729642083162, 2429.8001677818916, 2187.390089851349, 1808.2547467195664, 1730.0188037688629, 1709.3010953409976, 1301.45227419026, 1163.4706759959245, 1124.4685579822115, 1091.285568765163, 1066.4791358956948, 695.9625881676469, 515.6510000814042, 488.1264932890237, 451.9540709993313, 426.8992239838981, 418.43019801731475, 268.3851073647715, 261.4985813812956, 233.5913600759609, 224.89324454650222, 204.93657675584706, 200.73372286245126, 195.54015887474927, 23749.692017563033, 6200.139095012032, 4192.897493606067, 3760.5881654922323, 3386.17526637166, 2697.4994217960543, 2325.66386541717, 1729.6168023236037, 1641.1087303202294, 1616.3403843726364, 1425.557737871941, 1339.6483058755891, 901.7572260629908, 885.841007497095, 885.7716979757, 879.908971829016, 595.1283538670245, 586.1140683597991, 538.4292421854095, 441.2304536533982, 344.3847824988089, 324.7202763704238, 281.1309392289082, 255.6442309170447, 206.12922549160336, 117.49470097530659, 103.17710060448093, 3.2524272782968966, 0.26110039365017196, 0.23545731139845008, 5698.122673028952, 4045.47128607485, 3740.9910929279813, 3232.6673469439374, 2151.08062025605, 2106.495844904444, 2054.7320378210743, 1563.0673054395309, 1481.3788516924678, 965.5309767526564, 846.0224427037139, 586.4213249599742, 493.42833255836996, 480.39041319139585, 395.07119109761436, 390.8358069788193, 341.5557875004698, 297.5016970043032, 293.2897054687591, 291.40506565992445, 167.3556850046727, 153.73447173610936, 144.8049759116137, 140.09027032038165, 133.7727440742043, 124.6015734217787, 96.4289762402772, 84.83744164993777, 68.729698699687, 0.09064521741083735, 0.09195993485981091, 6270.465936029957, 2406.3647219339446, 1910.9069104001005, 1765.3236401911952, 1381.547980306072, 1259.8764723422275, 1252.2360090406298, 1135.6330493840937, 1132.7752731167582, 741.0118086172872, 710.3296615577, 650.7297295643542, 527.6772732597065, 493.6536128516764, 465.6346598249188, 447.87754097632717, 360.47584883458325, 313.3720485847734, 313.07826705151035, 291.0352157071502, 282.417319104253, 262.1841648471011, 212.95942085512579, 211.77181312387685, 204.6290584515251, 198.15704264771418, 172.73232772490036, 136.6565226667547, 125.71669591638384, 122.91147305883804, 4907.235310082021, 3191.9125147958352, 2961.96479560404, 2759.0207801877896, 2188.4928490257485, 1835.8253177196543, 1547.916334757579, 987.8698124459681, 661.4435439453799, 639.0265709320387, 447.82327475365537, 327.14665981598483, 306.7621363054704, 279.53117123389944, 234.71319813256682, 206.94086233064567, 196.39247863276003, 188.42903430523305, 170.53616332818837, 166.6092010577274, 65.95032049787379, 60.68529141231003, 53.26692625787919, 0.09074259689416064, 0.09074407815275695, 0.09074046871854473, 0.09074357633862025, 0.09072208297409022, 0.09071064403015469, 0.09070579517548434, 0.09196132809957101, 0.09076128493628788, 0.09075843124625745, 0.0932390436268815, 5484.020977848209, 4391.31164297044, 1689.5402300841065, 1380.787456314141, 1315.7644757365094, 876.3783003792163, 790.5008648547872, 754.7310571749077, 725.4522699384032, 691.2493657831307, 636.9517160972836, 602.5969065854528, 460.7743765073268, 454.1556039786949, 315.1461994734416, 305.00502161195675, 227.01216809994182, 205.87255387920845, 183.01290941623748, 181.7050485848778, 179.25769211672068, 167.44588635618916, 160.38079196500954, 149.5278802068101, 83.26371141486548, 78.14557501171974, 0.08323312414969637, 0.08320928616184074, 0.0832493821367375, 0.08323860850322687, 0.08325051913685967, 0.08432167914901997, 0.08325041323978946, 0.08326654303564034, 0.08537449667391517, 0.08326028953496838, 4202.617906598242, 4159.525023429047, 2652.9748286079357, 1432.1292992372912, 1370.0819872569373, 1103.3035382337007, 754.4140190834989, 547.2855193834663, 448.9952987181886, 339.72260263579386, 331.49206127710306, 321.1663862573019, 286.5688422024746, 237.52460264199354, 120.55031865053664, 103.58681784055706, 93.65620244285383, 44.68493750995981, 0.08346954052492378, 0.0834799096421275, 0.08349648338451719, 0.08348614234254056, 0.083445742090764, 0.08344454421440833, 0.0834436832407777, 0.08343964976648637, 0.08345437990229741, 0.08342976728655213, 0.08345638260182954, 0.08343231277380792, 0.08344588246689942, 0.08344370195759575, 0.08348014360235322, 0.08347917968622327, 0.08345173147254231, 0.08346457120972958, 0.08346416879814135, 0.08445514944700044, 0.08349970267722304, 0.0834787304825899, 0.08349366650339958, 0.08347027983923705, 0.08535602733373193, 0.08347603526078964, 4764.330364317875, 2729.574930806397, 1671.8530304377018, 910.6571138068833, 888.1341150124143, 880.0005635373911, 685.4152553509938, 646.6422771599894, 389.69551127603347, 337.507934442452, 326.94884184580826, 326.28883460102236, 224.82257016952292, 216.41055628596138, 178.99129392092075, 173.92741229804253, 157.38302375737842, 136.0202054069359, 132.48870274229589, 117.85708676119519, 90.83283616953966, 81.00821439798924, 76.2638729512102, 0.08929148444101384, 0.08932128130553914, 0.08930111137656198, 0.08927761032801798, 0.08926525187442504, 0.08924917922251507, 0.0892531432547996, 0.08925915592561773, 0.0892774770832353, 0.09042776263645576, 0.08929558171808104, 0.08929805507435941, 0.08929524860612435, 0.08931478562238382, 0.091349991416332, 0.08931095483488197, 4484.687114307315, 2707.3413558328543, 1828.0436881284209, 1112.4183661644959, 1032.4815728458616, 958.5060302873104, 912.2686379043813, 496.90264012799366, 243.6435897538319, 227.95795108626703, 226.73613830276963, 170.19370920037454, 165.43668668969087, 154.5543743903588, 107.04016680022643, 32.33472552527383, 6.632422930340325, 0.0782476797281124, 0.07820366593012854, 0.07820402432384045, 0.07821190898550284, 0.07820744812759908, 0.07816873398131284, 0.07817257718196839, 0.07817878425604305, 0.07816711739691011, 0.07816865010193345, 0.07824393565763249, 0.07816993879421677, 0.07816618709833872, 0.07819602528120617, 0.0782051757589575, 0.07818611988904037, 0.07818332136792808, 0.07819825952285712, 0.07821705612923797, 0.07821529466227084, 0.07821423473193131, 0.07819208295037497, 0.07904661556597882, 0.07821394496680252, 0.07822824258828896, 0.07982318611114138, 0.07821406697317254, 0.07820551127647504, 4430.9285508761, 2632.4523503051423, 1704.6579908906037, 1007.0955361249314, 494.2227097061777, 466.43988352977317, 326.2364318907531, 265.1590292519274, 139.9871525929385, 111.31017073323957, 4.828966079150935, 0.0738652460242951, 0.07386900624592152, 0.07385358812035299, 0.07385335082481347, 0.07385624704729594, 0.0738502903208036, 0.07385267544520095, 0.07384830068897216, 0.07384977313821746, 0.0738472480702968, 0.07384721764779173, 0.07384659702868834, 0.07385125775646478, 0.07384860491402284, 0.07384680390172281, 0.07384638407115286, 0.07384638407115286, 0.0738472054787897, 0.07384892739257656, 0.0738502903208036, 0.07385853481967707, 0.07384869618153804, 0.07385207307960061, 0.0738594414103281, 0.07385576637171587, 0.0738919083077368, 0.07387827294096527, 0.07386168050670111, 0.07386483836272718, 0.07385473200654356, 0.0738694443299945, 0.07387652060467334, 0.07388627405979818, 0.0738636397160275, 0.07388558042668263, 0.07388713805894212, 0.0738807006568697, 0.0738718537923959, 0.07387820601145412, 0.0738726569465297, 0.07386844647182826, 0.07450717305023445, 0.07389535821981152, 0.07387406246626384, 0.07389291225040405, 0.07512311925684563, 0.07388160724752073, 0.07387963586919231, 0.073873241058627, 0.07387150697583812, 2720.0210129461043, 2127.749606392471, 1248.214642984434, 586.042284878581, 585.4402386959233, 558.6713097173205, 484.23640238452487, 359.97665411029186, 337.59273236172027, 305.38882975964947, 294.5021291587747, 293.4772927962465, 242.67162357361912, 218.57138665285802, 200.73626913849924, 200.07432849441986, 147.86827669906558, 116.87186109233564, 96.87265472580086, 0.08167530139841596, 0.08167478267368676, 0.0816783779726719, 0.08167683968554393, 0.08167184323355463, 0.08167284490889377, 0.08168017860334108, 0.08167270181241676, 0.08167355442892567, 0.08167213538886188, 0.08167167628766478, 0.08167522985017746, 0.08167568895137456, 0.08168059000571251, 0.08167751343145657, 0.08168592631183473, 0.08167782347382345, 0.08168956930964555, 0.0816925802980162, 0.08168042902217587, 0.08169333751687376, 0.08169303343686009, 0.08169098238735613, 0.08172093724987908, 0.08171885638860908, 0.08170096932898152, 0.08169377276865802, 0.08170487467033354, 0.08171428326369763, 0.08171554728257799, 0.08244903001201909, 0.08170902446816714, 0.08170322309849459, 0.08172713809721664, 0.08172709636074418, 0.08171636412496765, 0.08314162292315158, 0.08171167771534522, 2725.279157575445, 1545.6788248976286, 1275.0760742048913, 708.4295425978249, 584.7037879166701, 444.42239697318297, 407.0363789735821, 343.12760034594834, 340.8150741413497, 250.55216089441112, 215.81039453541757, 205.4056693584217, 178.93185378930932, 144.307211792249, 135.67335344252538, 111.85413553558806, 87.28590809562424, 29.136654147520456, 18.843782409797953, 0.07931468596051189, 0.07931248676798375, 0.079312492080043, 0.07931642831594482, 0.07931254520063546, 0.07931270456241286, 0.07931252926445773, 0.07931120124964604, 0.07931379884661768, 0.07931125968229776, 0.07931159965408954, 0.07932100731101549, 0.0793144256696088, 0.07932384395065324, 0.07936065652123304, 0.0793267602711797, 0.07932031674331343, 0.07931814942314076, 0.07932399268831215, 0.07934540028707646, 0.07933683193551148, 0.07932687182442388, 0.0793424945906685, 0.07935471232693596, 0.07933805370913823, 0.07935295403532529, 0.07933676819080053, 0.07933402185616997, 0.07934339764074044, 0.08000072247604859, 0.07934019446901466, 0.0793610496136173, 0.07936109742215053, 0.07934758885548611, 0.07934428475463463, 0.08065049887516712, 0.07934976148771801, 0.07934698328073198, 2263.3787140123304, 1340.559487854005, 944.3703254555829, 680.3097031966136, 632.3432841192822, 454.18691485221854, 411.3451291366474, 408.269485395283, 389.3238104739275, 334.6417385988034, 201.32950355505994, 178.55961073843915, 168.91428360737993, 85.46520622193279, 54.31605888444495, 0.08187151200445332, 0.08187529808290865, 0.08187183789475073, 0.08187722466966693, 0.08187314145594042, 0.0818699208930012, 0.08186991130799245, 0.08187297851079171, 0.08187294017075672, 0.08187011259317616, 0.08187061101363104, 0.08187050557853481, 0.08186991130799245, 0.08186991130799245, 0.08186994006301869, 0.08187090814890222, 0.08187737802980691, 0.08187748346490313, 0.08188622499288102, 0.08188186381390082, 0.08188870751014667, 0.081886301672951, 0.0818841929710265, 0.08188317696009925, 0.08191274671208587, 0.08188120244829723, 0.08190408186417797, 0.08189793787357069, 0.0818943818353253, 0.08188707805865957, 0.08191361894788192, 0.08188972352107393, 0.08189639468716232, 0.08192503469330041, 0.08191031211986396, 0.0819027207929358, 0.08258594021647114, 0.08189466938558773, 0.08192176620531745, 0.08190703404687226, 0.08190691902676728, 0.08189656721731978, 0.08190997664455779, 0.08323295706196647, 0.08190816507790448, 0.08189904973458542, 3320.7954919700915, 2478.3873213097577, 574.7880641418598, 467.12379100175525, 301.21448175239834, 264.45686163916776, 210.5147089499658, 163.35188203673218, 159.81924064261602, 75.06450009860396, 63.0365186291752, 59.30907894054546, 0.07282276097410137, 0.07282389194380887, 0.07282329717089496, 0.07282514457161239, 0.07282355851050865, 0.07282818151815763, 0.072827082089438, 0.07282887541989053, 0.07283171861465321, 0.07278057264991282, 0.07285397754037054, 0.07278076189583997, 0.07278228036911259, 0.07278141524487418, 0.07278094663591171, 0.07278003194726382, 0.07278017613463689, 0.07278017613463689, 0.07278466396662361, 0.07278900761123729, 0.07278121248138081, 0.07278230740424504, 0.07278786312396356, 0.07278805687574612, 0.07279653238976926, 0.07279108030472513, 0.07279852848371517, 0.07279762731263349, 0.07280440411916768, 0.07280908570293697, 0.07281369969887515, 0.07281173514591709, 0.07337130831737156, 0.07281214968461466, 0.07280357954762795, 0.0728053909015021, 0.07280928396057494, 0.07281839480021066, 0.07374542949192839, 0.07281117641984645, 1580.9711715030287, 1029.7821061529405, 741.9594929083797, 699.0342580552706, 602.96281419667, 315.49694970202455, 281.04896107642855, 212.90810545541336, 208.4599747107507, 181.25228297017077, 151.243306438917, 131.8444107390105, 111.4242557134098, 73.96674360462805, 69.77990350591934, 63.988571960899506, 37.00775460110776, 34.41360555939985, 12.770226198656284, 1.0701526470953397, 0.05680818846671624, 0.05677799383094168, 0.05677813432137299, 0.056787493145489226, 0.05677998231089248, 0.0567516212553624, 0.05675301895503796, 0.05675403120660712, 0.056751704108693686, 0.05675158523217489, 0.05678139441984304, 0.05675382587443828, 0.056790039984846497, 0.05679599822006137, 0.05676301178725445, 0.05675985615602819, 0.056768199126256524, 0.05677238141832694, 0.05712005921262203, 0.0573825565777206, 1553.8513198836235, 591.9262473058604, 360.66352636048134, 356.42991983913316, 347.6835425123533, 331.11510133293484, 303.7264325463131, 172.0797723694923, 160.80962763881175, 158.51383958623862, 157.29505328475832, 119.64304125690634, 98.96361233991212, 96.13969158004306, 93.87251076592771, 69.83629260207428, 44.00478067345764, 21.177403372851213, 0.05859063541966742, 0.05855816202560994, 0.05855757437823286, 0.05856198173356097, 0.05852846232717228, 0.0585294848336084, 0.058528656250806714, 0.05852877378028213, 0.05852732816773451, 0.05852732816773451, 0.05852732816773451, 0.05852770426205584, 0.05852792169158536, 0.0585769314828339, 0.05852770426205584, 0.058528221391747674, 0.05852908523339199, 0.058529296786447735, 0.05854298897033371, 0.05853382754772503, 0.05853661299629239, 0.05853316350618892, 0.058537753032203925, 0.0585370537318252, 0.05853268163533972, 0.05853530841911527, 0.05853748859088424, 0.058545216153892854, 0.05881622737125495, 0.05854395271203213, 0.05854305948801897, 0.05854053848077129, 0.059045380465947594, 0.058544234782773125, 0.058544887071361684, 1322.3953161702304, 816.7569827708198, 706.8048115763315, 269.4383318497883, 267.95145373801205, 257.3798910376013, 153.17553543170618, 146.89216866637778, 117.18770759245487, 91.71538059148943, 77.6905049371081, 66.11351411593986, 56.68810441697262, 51.53418838671863, 38.18877699566639, 28.708805436296625, 22.916266481743733, 0.06334574294281049, 0.0633446511666271, 0.06334455789931495, 0.06334421226162876, 0.06334444268675288, 0.06334571002493561, 0.06334423969319115, 0.063344146425879, 0.0633439873228171, 0.06334366363038081, 0.06334366363038081, 0.06334366363038081, 0.06334385565131759, 0.06335702828758048, 0.06334539730512428, 0.06334436039206569, 0.06335388463052982, 0.06335200831166189, 0.06335794450176453, 0.06335411505565396, 0.06334809657086413, 0.06335064770616701, 0.06334681277374396, 0.06335356093809354, 0.06334830505073834, 0.06335121828266486, 0.06335159683822594, 0.06336398493180428, 0.06335639187533289, 0.06336199340037428, 0.06336205374981156, 0.0633566277867695, 0.0633552452360247, 0.06361249842818087, 0.06336440189155272, 0.06335895398326073, 0.06382101670658308, 0.06336141185125148, 0.06335584324408494, 0.06335741781576652, 1221.1311278745636, 1169.2792643174892, 542.1184198648089, 424.6918023094787, 123.79310664440601, 50.1890255778638, 28.615115178582116, 0.045884059475036904, 0.04588423810497392, 0.045884029703380735, 0.045884250864255134, 0.045883787277037645, 0.04588378302394391, 0.04588373198681905, 0.04588373198681905, 0.04588373198681905, 0.04588442949419214, 0.04588406372813064, 0.04588460812412916, 0.04588406798122438, 0.04588408924669307, 0.04588502067422178, 0.04588325989341408, 0.04588325989341408, 0.045883340702195116, 0.045883340702195116, 0.045883787277037645, 0.045883174831539315, 0.045883174831539315, 0.045883174831539315, 0.045902879414829345, 0.04588378302394391, 0.04588504619278422, 0.045884986649471875, 0.04588470594528514, 0.04588420408022401, 0.04588469743909766, 0.045888355099712695, 0.04588521631653375, 0.0458934503060113, 0.04589057946773788, 0.04588835084661896, 0.04588690054165416, 0.04588533965625217, 0.04589057521464414, 0.045887257801528185, 0.0458875810366523, 0.04588624556521845, 0.0458872152705908, 0.045886254071405924, 0.0458872152705908, 0.045886011645062834, 0.04588851671727475, 0.04588590106462563, 0.045887372635059126, 0.0458872705608094, 0.04588932480508505, 0.04589023071405133, 0.04588823175999428, 0.04588936733602243, 0.04589203827889015, 0.04589127697511098, 0.04588829555640036, 0.04588783622227661, 0.04589265072438849, 0.04603749408474361, 0.04589357364572972, 0.04588966505258412, 0.04589178309326585, 0.0458891972122729, 0.045889409866959815, 0.045890855918830874, 0.0460935498602158, 0.045888529476555966, 0.04589083465336218, 0.04588969482424029, 0.04589032853520732, 0.045889014329242146, 1412.4862992439002, 597.4996800616415, 437.85577049898666, 46.060400229686444, 19.245980906142588, 0.0456051746919473, 0.04559954135769008, 0.045605810501018446, 0.04557392121703601, 0.045610514829275355, 0.04557272866323418, 0.04557256394585824, 0.04557257053455328, 0.04557282419931223, 0.04557275501801434, 0.04557237287370215, 0.04557237287370215, 0.0455734303592557, 0.04557302515451088, 0.04557294279582291, 0.045573390827085475, 0.045572666070631325, 0.04557266277628381, 0.04557266277628381, 0.04557266277628381, 0.04557266936497885, 0.04557239263978726, 0.04557296256190802, 0.04557260677237599, 0.045572395934134785, 0.04557289338061013, 0.04557259688933343, 0.045574013458766535, 0.04557336776665284, 0.04557355883880893, 0.04557296915060306, 0.045574066168326835, 0.04557624702638431, 0.04557349295185856, 0.04557469868305045, 0.045573641197496906, 0.045574645973490154, 0.045573677435319614, 0.04557555521340536, 0.045574678916965344, 0.045574221002660224, 0.04557347318577345, 0.04557436265960353, 0.045574392308731206, 0.04557434948221346, 0.04557600653901544, 0.04557511377083783, 0.04572716108622268, 0.045578134687512616, 0.04557667858590928, 0.045575242250391064, 0.04557707061326403, 0.04557549591515002, 0.04557479751347602, 0.04557712002847681, 0.04557647433636312, 0.04557627338116446, 0.04557621408290913, 0.04557794361535652, 0.0455752126012634, 0.04557762735799471, 0.04557597688988777, 0.045577106851086735, 0.04557808527229983, 0.04571491270214761, 0.04557635244550492, 0.045576846597632746, 0.045576408449412735, 0.04557553215297273, 1128.823165160384, 555.5088898469661, 246.0091391635557, 174.57023431806002, 92.84795327879173, 67.04629094840192, 44.384656929158915, 29.219993230398828, 0.046106695531266846, 0.046086308815623395, 0.046083159085362695, 0.046083159085362695, 0.046083159085362695, 0.04608334788038331, 0.04608316537853004, 0.046082932531337946, 0.046082932531337946, 0.046083363613301696, 0.04608336675988538, 0.04608336990646905, 0.04608319369778314, 0.046083492623232455, 0.04608319684436682, 0.04608339822572215, 0.046082910505252206, 0.04608325033628933, 0.046081887865557176, 0.046081887865557176, 0.04608219308417385, 0.046083407665473176, 0.04608309615368915, 0.04608280352140719, 0.0460829797300931, 0.04608468517844605, 0.04608536484052029, 0.0460858966131617, 0.04608578648273301, 0.04608583053490449, 0.04608632454854178, 0.04608437366666202, 0.046088089781984594, 0.04608504074240155, 0.04608507220823833, 0.04608530190884675, 0.046084637979690896, 0.04608421948406185, 0.04608637804046429, 0.04608546553119795, 0.04608535540076926, 0.04620019941181333, 0.046087378654073585, 0.046084257243065974, 0.046086343428043845, 0.04608680282926069, 0.04608767443293922, 0.046086072821847616, 0.04608720873855503, 0.04620724461266619, 0.046086601447905357, 0.04608616407277425, 0.04608640950630106, 0.0460861986851947, 0.04608561342063077], \"Total\": [23751.0, 12555.0, 11062.0, 6272.0, 5485.0, 4432.0, 4765.0, 4486.0, 5699.0, 4908.0, 4204.0, 4161.0, 3322.0, 4392.0, 6201.0, 5946.0, 4047.0, 2726.0, 2721.0, 2479.0, 3742.0, 2634.0, 3193.0, 2708.0, 2731.0, 2264.0, 2963.0, 3234.0, 2654.0, 2760.0, 12555.814961352306, 11062.647400827998, 5946.298240717859, 4112.361013362082, 3841.053019704715, 3233.6671736167737, 3220.254251633796, 2431.324777332525, 2188.9146994019825, 1809.7793562702, 1731.5434133194965, 1710.8257048916312, 1302.9768837408935, 1164.9952855769645, 1125.9931675632515, 1092.8101783157965, 1068.0037454767348, 697.4871977486871, 517.1756096320377, 489.65110283965726, 453.47868054996485, 428.4238335649382, 419.9548075983549, 269.9097169458116, 263.02319093192915, 235.115969657001, 226.4178541275423, 206.46118633688715, 202.25833244349135, 197.06476842538277, 23751.099842690364, 6201.546920139361, 4194.305318733395, 3761.995990619561, 3387.583091498989, 2698.907246923383, 2327.071690544499, 1731.0246274509323, 1642.516555447558, 1617.748209499965, 1426.9655629992697, 1341.0561310029177, 903.1650511903192, 887.2488326244235, 887.1795231030285, 881.3167969563444, 596.536178994353, 587.5218934871276, 539.837067312738, 442.63827878072664, 345.79260762613734, 326.12810149775225, 282.5387643677725, 257.05205604437316, 207.53705062658454, 118.90252631260607, 104.58492576957599, 4.660252405625341, 1.6972979038575955, 1.64339003765994, 5699.665347585242, 4047.0139606007338, 3742.5337674842713, 3234.2100215002274, 2152.623294781934, 2108.0385194800065, 2056.274712346958, 1564.6099799654141, 1482.9215262183511, 967.0736513089464, 847.5651172295973, 587.9639995162642, 494.97100708425336, 481.9330877553386, 396.6138656539044, 392.3784815047027, 343.09846205675984, 299.0443715605932, 294.83238003270185, 292.94774018580785, 168.8983595686154, 155.27714629239932, 146.3476505127141, 141.6329448992563, 135.31541863049426, 126.1442480863847, 97.9716507661606, 86.38011620622777, 70.2723732255704, 1.6557530008411776, 1.6972979038575955, 6272.017024752626, 2407.9158106870186, 1912.4579991684525, 1766.8747289442692, 1383.0990690591461, 1261.427561064895, 1253.7870977937039, 1137.184138106761, 1134.3263618698322, 742.562897370361, 711.8807503107738, 652.280818317428, 529.2283620204331, 495.20470160475037, 467.18574857799274, 449.4286297294011, 362.0269375876572, 314.9231373378473, 314.6293558045843, 292.58630446022414, 283.96840785732695, 263.7352535697684, 214.51050962521086, 213.32290187695077, 206.18014721225177, 199.7081314007881, 174.28341648562701, 138.2076114427417, 127.26778466945777, 124.46256181191197, 4908.776612240986, 3193.453816985206, 2963.5060977630037, 2760.5620823467534, 2190.034151215119, 1837.3666198786184, 1549.4576369165432, 989.4111146353384, 662.9848461043437, 640.5678730910024, 449.3645769126192, 328.6879619749487, 308.30343849484086, 281.0724734232699, 236.25450035090358, 208.48216448960946, 197.93378079172382, 189.97033646419683, 172.07746548715215, 168.1505032470978, 67.4916227177572, 62.226593571273824, 54.80822841684299, 1.6331239684227277, 1.6331616569188934, 1.6331134080794507, 1.6331774569583413, 1.6328136008121221, 1.6326230792681098, 1.6325373791477424, 1.6557530008411776, 1.6336374845770778, 1.6336146475795865, 1.6972979038575955, 5485.569763438976, 4392.860428561206, 1691.0890156748724, 1382.3362418745005, 1317.3132612968689, 877.927085969982, 792.049650445553, 756.2798427352669, 727.001055529169, 692.7981513434898, 638.5005016880493, 604.1456921762185, 462.32316209809267, 455.70438953905415, 316.69498503380083, 306.5538072027226, 228.56095366030104, 207.42133947762701, 184.56169502103774, 183.25383426768872, 180.8064776770799, 168.99467196065368, 161.92957752536876, 151.07666576716932, 84.81249697522473, 79.69436060699144, 1.6326926739621075, 1.632317642226577, 1.6331239684227277, 1.6329205454858366, 1.6331616569188934, 1.6557530008411776, 1.6331774569583413, 1.6336374845770778, 1.6972979038575955, 1.6336146475795865, 4204.166455357277, 4161.073572157676, 2654.5233773365635, 1433.677847965919, 1371.630536085641, 1104.852086992735, 755.9625678425332, 548.8340681425005, 450.5438474468163, 341.27115136442154, 333.04061003613737, 322.7149350239889, 288.11739096150893, 239.0731513706212, 122.09886737916432, 105.13536656918474, 95.2047512762317, 46.23348623858749, 1.632787942707128, 1.6330000950910355, 1.6333357473361785, 1.6331616569188934, 1.6323818324529173, 1.6323618822275565, 1.632350110745224, 1.6322717609088166, 1.6325609678090962, 1.6320815357620562, 1.6326073504600307, 1.6321381065607923, 1.632407374772364, 1.6323642125364373, 1.6331239684227277, 1.6331134080794507, 1.6325330434620224, 1.632818363916049, 1.6328136008121221, 1.6557530008411776, 1.6336374845770778, 1.6331774569583413, 1.6336146475795865, 1.6329892507959227, 1.6972979038575955, 1.633481131276653, 4765.873102327604, 2731.1176688465325, 1673.3957685004038, 912.199851816612, 889.6768530525495, 881.5433015471198, 686.9579933607224, 648.185015169718, 391.23824928576215, 339.05067248258723, 328.49157994961496, 327.83157261075104, 226.36530817925157, 217.95329429569003, 180.53403196870875, 175.47015030777118, 158.92576176710708, 137.56294347996968, 134.03144075202454, 119.39982477092387, 92.37557420967492, 82.55095240771792, 77.80661096093888, 1.632787942707128, 1.6333357473361785, 1.6330000950910355, 1.6326926739621075, 1.6324751856605435, 1.6321826293077832, 1.6322719032088797, 1.63238860830009, 1.6327488100151177, 1.6557530008411776, 1.6331134080794507, 1.6331774569583413, 1.6331239684227277, 1.6336374845770778, 1.6972979038575955, 1.6336146475795865, 4486.240921665103, 2708.8951631602363, 1829.5974954558026, 1113.9721735222843, 1034.0353801732433, 960.0598376450986, 913.8224452317629, 498.4564474857819, 245.1973970812135, 229.51175845170798, 228.28994563015124, 171.74751659671418, 166.99049401707248, 156.1081817177404, 108.5939741656674, 33.888532852655466, 8.186230257721954, 1.633481131276653, 1.6326860430899466, 1.6326949101599544, 1.632887240080635, 1.632818363916049, 1.632035543337644, 1.6321191983125172, 1.6322534300220615, 1.6320104158761757, 1.6320426376123895, 1.6336146475795865, 1.6320731312637493, 1.6319974681989917, 1.6326230792681098, 1.6328433924880768, 1.6324255922725506, 1.6323642125364373, 1.6326926739621075, 1.6331616569188934, 1.6331239684227277, 1.6331134080794507, 1.6325850289671882, 1.6557530008411776, 1.6331774569583413, 1.6336374845770778, 1.6972979038575955, 1.6333357473361785, 1.6329892507959227, 4432.486676916294, 2634.0104763453355, 1706.2161169307967, 1008.6536621347178, 495.7808357159641, 467.99800956996614, 327.7945579309461, 266.71715529212037, 141.5452786331315, 112.86829678665886, 6.387092088937344, 1.632187134879481, 1.632317642226577, 1.6320510762114941, 1.6320473747737996, 1.6321287288264168, 1.6320216765445668, 1.6320763088525074, 1.6320166680562243, 1.632050077182644, 1.631995059860171, 1.6319959069886747, 1.6319836404514343, 1.6320875821430112, 1.6320310646851357, 1.6319943747266583, 1.631988434938663, 1.631988434938663, 1.6320072004292936, 1.6320462695484919, 1.6320767077721605, 1.6322677425657208, 1.6320436644422602, 1.6321284882187588, 1.6323158678966465, 1.6322231815472485, 1.6331616569188934, 1.632818363916049, 1.632380630033106, 1.632469362041308, 1.6321983016328894, 1.6326073504600307, 1.6328136008121221, 1.6331134080794507, 1.6324553527483379, 1.6331239684227277, 1.6331774569583413, 1.6329892507959227, 1.6327116310577363, 1.6329205454858366, 1.6327488100151177, 1.632614101434993, 1.6557530008411776, 1.6336374845770778, 1.6328433924880768, 1.6336146475795865, 1.6972979038575955, 1.6333357473361785, 1.633481131276653, 1.6329961450402004, 1.6328248310315763, 2721.571313953455, 2129.2999073998217, 1249.7649439613779, 587.5925858859313, 586.990539672867, 560.2216106942642, 485.7867033918753, 361.5269551316767, 339.14303333866405, 306.9391307669999, 296.0524301357185, 295.0275938035969, 244.22192455056293, 220.12168766020844, 202.28657014584965, 201.62462947136368, 149.41857775557918, 118.42216209968605, 98.42295573315127, 1.6320507134502609, 1.6320468280261375, 1.6321207723025426, 1.6320915491494243, 1.6319924786115712, 1.632013746773047, 1.632161142766303, 1.6320117516812358, 1.6320291738215043, 1.6320013081181963, 1.6319923196808985, 1.6320649074135143, 1.632074695666438, 1.6321800870902339, 1.632114104094821, 1.6322962323087573, 1.632121791921847, 1.6323818324529173, 1.632452184131711, 1.6321802608459042, 1.632484126663307, 1.63248065873657, 1.6324323924713071, 1.6331616569188934, 1.6331134080794507, 1.6326782360753973, 1.6325227976765964, 1.6328433924880768, 1.6331239684227277, 1.6331774569583413, 1.6557530008411776, 1.6329892507959227, 1.6328136008121221, 1.6336146475795865, 1.6336374845770778, 1.6333357473361785, 1.6972979038575955, 1.633481131276653, 2726.8318185476182, 1547.2314858698019, 1276.6287351466578, 709.9822035699981, 586.2564488888432, 445.9750579149495, 408.58903994575525, 344.68026128771487, 342.3677351135229, 252.1048218665843, 217.36305547718416, 206.95833035262137, 180.4845147310759, 145.8598727340156, 137.22601441469857, 113.40679651541399, 88.83856903739083, 30.68931508928704, 20.396443427451683, 1.6320345538568264, 1.6319949123867157, 1.6319950344898153, 1.6320772043166838, 1.6319994651648075, 1.6320117981241844, 1.6320102437277497, 1.6319842103690976, 1.6320388559848809, 1.6319872202196146, 1.631996223643191, 1.6321989302963615, 1.632056960068161, 1.6322706535793399, 1.6331239684227277, 1.6323492837325309, 1.6321983016328894, 1.6321453818890839, 1.6322920685161504, 1.6328433924880768, 1.6326491964917205, 1.632380630033106, 1.632818363916049, 1.6331774569583413, 1.6327067321965525, 1.6331616569188934, 1.632678430213792, 1.6326073504600307, 1.6329205454858366, 1.6557530008411776, 1.6328248310315763, 1.6336146475795865, 1.6336374845770778, 1.6331134080794507, 1.6329892507959227, 1.6972979038575955, 1.6333357473361785, 1.633481131276653, 2264.928816943822, 1342.1095907550898, 945.9204283566675, 681.8598060976981, 633.8933870507733, 455.7370177533031, 412.895232037732, 409.81958832677424, 390.8739133750121, 336.19184149988797, 202.87960645614456, 180.10971363952376, 170.46438650846454, 87.015309153424, 55.86616178552956, 1.63199341017749, 1.6320717976644885, 1.632003713373868, 1.6321219912496283, 1.6320406737645297, 1.6319873046344626, 1.6319871674695863, 1.6320485371197695, 1.632047803560721, 1.631993050301532, 1.6320049527370801, 1.6320031222768905, 1.6319940785299143, 1.6319941079557836, 1.6319950122473204, 1.6320144322355645, 1.632146872374106, 1.6321502618432029, 1.6323380295980812, 1.6322505344275342, 1.632406136320984, 1.632354418725048, 1.6323148888902606, 1.6322931879800398, 1.6329892507959227, 1.6322497861080913, 1.6328136008121221, 1.6326633820527252, 1.632614101434993, 1.6324208294294325, 1.6331774569583413, 1.6325029023602238, 1.6327116310577363, 1.6336146475795865, 1.6331616569188934, 1.6329205454858366, 1.6557530008411776, 1.632678430213792, 1.6336374845770778, 1.6331134080794507, 1.6331239684227277, 1.6327488100151177, 1.6333357473361785, 1.6972979038575955, 1.633481131276653, 1.6329961450402004, 3322.354684532596, 2479.946513841856, 576.3472566739578, 468.68298353385325, 302.77367431490296, 266.01605417126575, 212.0739015124704, 164.91107459923677, 161.37843321277336, 76.62369263070197, 64.59571127520755, 60.86827150305006, 1.6326610592787325, 1.6326914270345123, 1.6326874837334113, 1.6327330845879502, 1.632702265008496, 1.6328316939228795, 1.6328117818569448, 1.6328672688338681, 1.6329961450402004, 1.6319913058409488, 1.6336374845770778, 1.6319975070702328, 1.6320316686879703, 1.632016628937637, 1.6320112009570975, 1.6319939413032836, 1.6319983698232843, 1.6319983698232843, 1.6321010054734144, 1.632206068943313, 1.6320226239983127, 1.6320507134502609, 1.6322100151118362, 1.6322198601711333, 1.632484126663307, 1.632328299974175, 1.6325750850189706, 1.6325665198425092, 1.6328136008121221, 1.6329892507959227, 1.6331616569188934, 1.6331134080794507, 1.6557530008411776, 1.6331774569583413, 1.6328248310315763, 1.6329205454858366, 1.6331239684227277, 1.6336146475795865, 1.6972979038575955, 1.6333357473361785, 1582.5463927752157, 1031.3573273787404, 743.5347141645863, 700.6094794652897, 604.53803542247, 317.0721709658839, 282.62418233263514, 214.48332668121333, 210.03519593655068, 182.82750423403007, 152.81852769512355, 133.41963199521706, 112.99947696961638, 75.54196486848737, 71.35512473171931, 65.56379318669948, 38.58297582690775, 35.988826785199834, 14.345447468477953, 2.6453738728953198, 1.633481131276653, 1.6326860430899466, 1.6326949101599544, 1.6330000950910355, 1.632787942707128, 1.6319912195603807, 1.6320411936114865, 1.6320713464881769, 1.6320059472630237, 1.6320065298564086, 1.632887240080635, 1.6320743353382994, 1.6333357473361785, 1.6336146475795865, 1.6324264406735491, 1.632328299974175, 1.6327116310577363, 1.6329205454858366, 1.6557530008411776, 1.6972979038575955, 1555.4247646820522, 593.4996920966364, 362.23697112085074, 358.00336459950256, 349.2569873031293, 332.6885461237108, 305.2998773370891, 173.65321716026827, 162.3830724295877, 160.087284346608, 158.8684980755343, 121.21648607260235, 100.53705713068808, 97.71313634041243, 95.44595555670368, 71.40973736244365, 45.57822543382702, 22.75084826332864, 1.633481131276653, 1.6326949101599544, 1.6326860430899466, 1.632887240080635, 1.6319901289472647, 1.632025907855136, 1.6320089256821033, 1.6320146632241035, 1.631984667076844, 1.631984667076844, 1.631984667076844, 1.6319972890092875, 1.632003779907287, 1.6336146475795865, 1.6319972890092875, 1.6320146899325936, 1.632046700937483, 1.6320625333634489, 1.6326782360753973, 1.6322829333718156, 1.632424910660537, 1.6322513673789887, 1.632512527044487, 1.6324751856605435, 1.6322326600178738, 1.632406136320984, 1.6325750850189706, 1.6331616569188934, 1.6557530008411776, 1.6331239684227277, 1.6331134080794507, 1.6328433924880768, 1.6972979038575955, 1.6333357473361785, 1.6336374845770778, 1323.963944777763, 818.3256113479457, 708.3734401534574, 271.00696042691425, 269.52008234554455, 258.9485196451338, 154.7441640088321, 148.4607972739103, 118.75633619998739, 93.28400922467588, 79.25913351423402, 67.68214269306579, 58.256733069102495, 53.10281696384456, 39.75740560319891, 30.277434013422553, 24.484896085444287, 1.6320208653958357, 1.632001793602947, 1.6320023045960563, 1.6319982098026096, 1.632005980964964, 1.6320418065621607, 1.6320042149808798, 1.6320038144521056, 1.6320037999460233, 1.6319955082276503, 1.6319955082276503, 1.6319955082276503, 1.632001080361913, 1.632364079276295, 1.632046578247124, 1.6320188095211496, 1.632354418725048, 1.6323347792314529, 1.6325865618050899, 1.6324260543486593, 1.6321755140232048, 1.6322963639063046, 1.6321250612843397, 1.6324751856605435, 1.6322043338365368, 1.6323642125364373, 1.6323972495765333, 1.6331616569188934, 1.6327067321965525, 1.6331134080794507, 1.6331239684227277, 1.6328248310315763, 1.6327184059909132, 1.6557530008411776, 1.6336374845770778, 1.6331774569583413, 1.6972979038575955, 1.6336146475795865, 1.6328433924880768, 1.6333357473361785, 1222.7172155511919, 1170.8653519864647, 543.7045075337843, 426.2778899784542, 125.3791943133815, 51.77511321643271, 30.20120284755761, 1.6319896643488998, 1.631996975281363, 1.6319904490145751, 1.631998545001179, 1.631987215485058, 1.6319883288714985, 1.6319884734363308, 1.6319884734363308, 1.6319884734363308, 1.6320140693910197, 1.6320013487709601, 1.6320208602127426, 1.6320021395955537, 1.6320038183066221, 1.6320411698628507, 1.6319792598297649, 1.6319792598297649, 1.6319828387517483, 1.6319828387517483, 1.6320000413122777, 1.6319784021682757, 1.6319784021682757, 1.6319784021682757, 1.6326926739621075, 1.6320003788775526, 1.632047318134752, 1.632050387207049, 1.632040462431714, 1.63202007657355, 1.6320439872092272, 1.6322513673789887, 1.6320795730181883, 1.6325865618050899, 1.6324208294294325, 1.6322963639063046, 1.6322031071893819, 1.6321012268806419, 1.632484126663307, 1.6322524272390067, 1.6322829333718156, 1.6321804900336654, 1.6322734094266844, 1.6321910097237395, 1.6322834549071286, 1.6321706621155316, 1.6324260543486593, 1.6321613051330373, 1.6323148888902606, 1.632305934955049, 1.6325373791477424, 1.6326782360753973, 1.6324410477030027, 1.6325850289671882, 1.6329205454858366, 1.6328248310315763, 1.6324756144595685, 1.6324130866022788, 1.6331616569188934, 1.6557530008411776, 1.6333357473361785, 1.6327116310577363, 1.6331774569583413, 1.632678430213792, 1.6327488100151177, 1.6331239684227277, 1.6972979038575955, 1.6325665198425092, 1.6336374845770778, 1.6331134080794507, 1.6336146475795865, 1.6329892507959227, 1414.072698155498, 599.0860790550572, 439.4421693801778, 47.646799110877616, 20.832380138388615, 1.632787942707128, 1.6326926739621075, 1.6330000950910355, 1.6320195130211326, 1.6333357473361785, 1.631987170543206, 1.6319834836440852, 1.6319858204188833, 1.6319967258266486, 1.6319947086657018, 1.6319824129775833, 1.6319824129775833, 1.6320207883080202, 1.6320067671461596, 1.6320042405193196, 1.6320208653958357, 1.6319968316431086, 1.631996748728834, 1.631996748728834, 1.631996748728834, 1.6319984088563382, 1.6319885858851833, 1.6320096760908893, 1.6319970522294134, 1.6319895249796295, 1.6320076752037558, 1.6319969010372246, 1.632056960068161, 1.6320303298759817, 1.6320421679539874, 1.6320138311398662, 1.6320921641157407, 1.6322524272390067, 1.6320553026211835, 1.6321458415056438, 1.6320693384676135, 1.6321502618432029, 1.6320762869186665, 1.6322386357598375, 1.6321663819830523, 1.632129627347247, 1.6320632300630646, 1.6321556894385834, 1.632175025502364, 1.6321732685889905, 1.6323818324529173, 1.6322677425657208, 1.6557530008411776, 1.6327488100151177, 1.6326073504600307, 1.6323502560720802, 1.6327184059909132, 1.632424910660537, 1.6322920685161504, 1.6328248310315763, 1.632678430213792, 1.6326633820527252, 1.632661007812078, 1.6331774569583413, 1.632407374772364, 1.6331616569188934, 1.6326782360753973, 1.6331239684227277, 1.6336374845770778, 1.6972979038575955, 1.6331134080794507, 1.633481131276653, 1.6336146475795865, 1.632887240080635, 1130.4090541757491, 557.094779062851, 247.5950281789209, 176.15612333342523, 94.43384232456354, 68.63218000182647, 45.97054597493072, 30.805882854615934, 1.6326926739621075, 1.6320505063782698, 1.6319941834768423, 1.6319941834768423, 1.6319941834768423, 1.6320012688308274, 1.6319950499815534, 1.6319902759999454, 1.631990306251351, 1.6320059314982178, 1.6320105870971933, 1.6320131664541326, 1.6320074642718594, 1.6320232888833381, 1.6320134482559592, 1.6320226324923672, 1.6320062793614445, 1.6320223200309116, 1.6319745942085642, 1.6319745942085642, 1.631986169143983, 1.6320292733693393, 1.6320207883080202, 1.632010156424936, 1.6320197961871208, 1.6320940197849088, 1.6321666955269996, 1.63220349022066, 1.6322126451741845, 1.632272935912191, 1.632339672016311, 1.6321381065607923, 1.6325750850189706, 1.6322456128142386, 1.6322717609088166, 1.6323211841240315, 1.6322309598878546, 1.6321647168539197, 1.6325200201375345, 1.632407374772364, 1.6323972495765333, 1.6557530008411776, 1.632818363916049, 1.6322088934800592, 1.6327067321965525, 1.6328433924880768, 1.6331239684227277, 1.6327488100151177, 1.6333357473361785, 1.6972979038575955, 1.6331134080794507, 1.6331616569188934, 1.6336374845770778, 1.6336146475795865, 1.6327184059909132], \"Category\": [\"Default\", \"Default\", \"Default\", \"Default\", \"Default\", \"Default\", \"Default\", \"Default\", \"Default\", \"Default\", \"Default\", \"Default\", \"Default\", \"Default\", \"Default\", \"Default\", \"Default\", \"Default\", \"Default\", \"Default\", \"Default\", \"Default\", \"Default\", \"Default\", \"Default\", \"Default\", \"Default\", \"Default\", \"Default\", \"Default\", \"Topic1\", \"Topic1\", \"Topic1\", \"Topic1\", \"Topic1\", \"Topic1\", \"Topic1\", \"Topic1\", \"Topic1\", \"Topic1\", \"Topic1\", \"Topic1\", \"Topic1\", \"Topic1\", \"Topic1\", \"Topic1\", \"Topic1\", \"Topic1\", \"Topic1\", \"Topic1\", \"Topic1\", \"Topic1\", \"Topic1\", \"Topic1\", \"Topic1\", \"Topic1\", \"Topic1\", \"Topic1\", \"Topic1\", \"Topic1\", \"Topic2\", \"Topic2\", \"Topic2\", \"Topic2\", \"Topic2\", \"Topic2\", \"Topic2\", \"Topic2\", \"Topic2\", \"Topic2\", \"Topic2\", \"Topic2\", \"Topic2\", \"Topic2\", \"Topic2\", \"Topic2\", \"Topic2\", \"Topic2\", \"Topic2\", \"Topic2\", \"Topic2\", \"Topic2\", \"Topic2\", \"Topic2\", \"Topic2\", \"Topic2\", \"Topic2\", \"Topic2\", \"Topic2\", \"Topic2\", \"Topic3\", \"Topic3\", \"Topic3\", \"Topic3\", \"Topic3\", \"Topic3\", \"Topic3\", \"Topic3\", \"Topic3\", \"Topic3\", \"Topic3\", \"Topic3\", \"Topic3\", \"Topic3\", \"Topic3\", \"Topic3\", \"Topic3\", \"Topic3\", \"Topic3\", \"Topic3\", \"Topic3\", \"Topic3\", \"Topic3\", \"Topic3\", \"Topic3\", \"Topic3\", \"Topic3\", \"Topic3\", \"Topic3\", \"Topic3\", \"Topic3\", \"Topic4\", \"Topic4\", \"Topic4\", \"Topic4\", \"Topic4\", \"Topic4\", \"Topic4\", \"Topic4\", \"Topic4\", \"Topic4\", \"Topic4\", \"Topic4\", \"Topic4\", \"Topic4\", \"Topic4\", \"Topic4\", \"Topic4\", \"Topic4\", \"Topic4\", \"Topic4\", \"Topic4\", \"Topic4\", \"Topic4\", \"Topic4\", \"Topic4\", \"Topic4\", \"Topic4\", \"Topic4\", \"Topic4\", \"Topic4\", \"Topic5\", \"Topic5\", \"Topic5\", \"Topic5\", \"Topic5\", \"Topic5\", \"Topic5\", \"Topic5\", \"Topic5\", \"Topic5\", \"Topic5\", \"Topic5\", \"Topic5\", \"Topic5\", \"Topic5\", \"Topic5\", \"Topic5\", \"Topic5\", \"Topic5\", \"Topic5\", \"Topic5\", \"Topic5\", \"Topic5\", \"Topic5\", \"Topic5\", \"Topic5\", \"Topic5\", \"Topic5\", \"Topic5\", \"Topic5\", \"Topic5\", \"Topic5\", \"Topic5\", \"Topic5\", \"Topic6\", \"Topic6\", \"Topic6\", \"Topic6\", \"Topic6\", \"Topic6\", \"Topic6\", \"Topic6\", \"Topic6\", \"Topic6\", \"Topic6\", \"Topic6\", \"Topic6\", \"Topic6\", \"Topic6\", \"Topic6\", \"Topic6\", \"Topic6\", \"Topic6\", \"Topic6\", \"Topic6\", \"Topic6\", \"Topic6\", \"Topic6\", \"Topic6\", \"Topic6\", \"Topic6\", \"Topic6\", \"Topic6\", \"Topic6\", \"Topic6\", \"Topic6\", \"Topic6\", \"Topic6\", \"Topic6\", \"Topic6\", \"Topic7\", \"Topic7\", \"Topic7\", \"Topic7\", \"Topic7\", \"Topic7\", \"Topic7\", \"Topic7\", \"Topic7\", \"Topic7\", \"Topic7\", \"Topic7\", \"Topic7\", \"Topic7\", \"Topic7\", \"Topic7\", \"Topic7\", \"Topic7\", \"Topic7\", \"Topic7\", \"Topic7\", \"Topic7\", \"Topic7\", \"Topic7\", \"Topic7\", \"Topic7\", \"Topic7\", \"Topic7\", \"Topic7\", \"Topic7\", \"Topic7\", \"Topic7\", \"Topic7\", \"Topic7\", \"Topic7\", \"Topic7\", \"Topic7\", \"Topic7\", \"Topic7\", \"Topic7\", \"Topic7\", \"Topic7\", \"Topic7\", \"Topic7\", \"Topic8\", \"Topic8\", \"Topic8\", \"Topic8\", \"Topic8\", \"Topic8\", \"Topic8\", \"Topic8\", \"Topic8\", \"Topic8\", \"Topic8\", \"Topic8\", \"Topic8\", \"Topic8\", \"Topic8\", \"Topic8\", \"Topic8\", \"Topic8\", \"Topic8\", \"Topic8\", \"Topic8\", \"Topic8\", \"Topic8\", \"Topic8\", \"Topic8\", \"Topic8\", \"Topic8\", \"Topic8\", \"Topic8\", \"Topic8\", \"Topic8\", \"Topic8\", \"Topic8\", \"Topic8\", \"Topic8\", \"Topic8\", \"Topic8\", \"Topic8\", \"Topic8\", \"Topic9\", \"Topic9\", \"Topic9\", \"Topic9\", \"Topic9\", \"Topic9\", \"Topic9\", \"Topic9\", \"Topic9\", \"Topic9\", \"Topic9\", \"Topic9\", \"Topic9\", \"Topic9\", \"Topic9\", \"Topic9\", \"Topic9\", \"Topic9\", \"Topic9\", \"Topic9\", \"Topic9\", \"Topic9\", \"Topic9\", \"Topic9\", \"Topic9\", \"Topic9\", \"Topic9\", \"Topic9\", \"Topic9\", \"Topic9\", \"Topic9\", \"Topic9\", \"Topic9\", \"Topic9\", \"Topic9\", \"Topic9\", \"Topic9\", \"Topic9\", \"Topic9\", \"Topic9\", \"Topic9\", \"Topic9\", \"Topic9\", \"Topic9\", \"Topic9\", \"Topic10\", \"Topic10\", \"Topic10\", \"Topic10\", \"Topic10\", \"Topic10\", \"Topic10\", \"Topic10\", \"Topic10\", \"Topic10\", \"Topic10\", \"Topic10\", \"Topic10\", \"Topic10\", \"Topic10\", \"Topic10\", \"Topic10\", \"Topic10\", \"Topic10\", \"Topic10\", \"Topic10\", \"Topic10\", \"Topic10\", \"Topic10\", \"Topic10\", \"Topic10\", \"Topic10\", \"Topic10\", \"Topic10\", \"Topic10\", \"Topic10\", \"Topic10\", \"Topic10\", \"Topic10\", \"Topic10\", \"Topic10\", \"Topic10\", \"Topic10\", \"Topic10\", \"Topic10\", \"Topic10\", \"Topic10\", \"Topic10\", \"Topic10\", \"Topic10\", \"Topic10\", \"Topic10\", \"Topic10\", \"Topic10\", \"Topic10\", \"Topic10\", \"Topic10\", \"Topic10\", \"Topic10\", \"Topic10\", \"Topic10\", \"Topic10\", \"Topic10\", \"Topic10\", \"Topic10\", \"Topic10\", \"Topic11\", \"Topic11\", \"Topic11\", \"Topic11\", \"Topic11\", \"Topic11\", \"Topic11\", \"Topic11\", \"Topic11\", \"Topic11\", \"Topic11\", \"Topic11\", \"Topic11\", \"Topic11\", \"Topic11\", \"Topic11\", \"Topic11\", \"Topic11\", \"Topic11\", \"Topic11\", \"Topic11\", \"Topic11\", \"Topic11\", \"Topic11\", \"Topic11\", \"Topic11\", \"Topic11\", \"Topic11\", \"Topic11\", \"Topic11\", \"Topic11\", \"Topic11\", \"Topic11\", \"Topic11\", \"Topic11\", \"Topic11\", \"Topic11\", \"Topic11\", \"Topic11\", \"Topic11\", \"Topic11\", \"Topic11\", \"Topic11\", \"Topic11\", \"Topic11\", \"Topic11\", \"Topic11\", \"Topic11\", \"Topic11\", \"Topic11\", \"Topic11\", \"Topic11\", \"Topic11\", \"Topic11\", \"Topic11\", \"Topic11\", \"Topic11\", \"Topic12\", \"Topic12\", \"Topic12\", \"Topic12\", \"Topic12\", \"Topic12\", \"Topic12\", \"Topic12\", \"Topic12\", \"Topic12\", \"Topic12\", \"Topic12\", \"Topic12\", \"Topic12\", \"Topic12\", \"Topic12\", \"Topic12\", \"Topic12\", \"Topic12\", \"Topic12\", \"Topic12\", \"Topic12\", \"Topic12\", \"Topic12\", \"Topic12\", \"Topic12\", \"Topic12\", \"Topic12\", \"Topic12\", \"Topic12\", \"Topic12\", \"Topic12\", \"Topic12\", \"Topic12\", \"Topic12\", \"Topic12\", \"Topic12\", \"Topic12\", \"Topic12\", \"Topic12\", \"Topic12\", \"Topic12\", \"Topic12\", \"Topic12\", \"Topic12\", \"Topic12\", \"Topic12\", \"Topic12\", \"Topic12\", \"Topic12\", \"Topic12\", \"Topic12\", \"Topic12\", \"Topic12\", \"Topic12\", \"Topic12\", \"Topic12\", \"Topic13\", \"Topic13\", \"Topic13\", \"Topic13\", \"Topic13\", \"Topic13\", \"Topic13\", \"Topic13\", \"Topic13\", \"Topic13\", \"Topic13\", \"Topic13\", \"Topic13\", \"Topic13\", \"Topic13\", \"Topic13\", \"Topic13\", \"Topic13\", \"Topic13\", \"Topic13\", \"Topic13\", \"Topic13\", \"Topic13\", \"Topic13\", \"Topic13\", \"Topic13\", \"Topic13\", \"Topic13\", \"Topic13\", \"Topic13\", \"Topic13\", \"Topic13\", \"Topic13\", \"Topic13\", \"Topic13\", \"Topic13\", \"Topic13\", \"Topic13\", \"Topic13\", \"Topic13\", \"Topic13\", \"Topic13\", \"Topic13\", \"Topic13\", \"Topic13\", \"Topic13\", \"Topic13\", \"Topic13\", \"Topic13\", \"Topic13\", \"Topic13\", \"Topic13\", \"Topic13\", \"Topic13\", \"Topic13\", \"Topic13\", \"Topic13\", \"Topic13\", \"Topic13\", \"Topic13\", \"Topic13\", \"Topic14\", \"Topic14\", \"Topic14\", \"Topic14\", \"Topic14\", \"Topic14\", \"Topic14\", \"Topic14\", \"Topic14\", \"Topic14\", \"Topic14\", \"Topic14\", \"Topic14\", \"Topic14\", \"Topic14\", \"Topic14\", \"Topic14\", \"Topic14\", \"Topic14\", \"Topic14\", \"Topic14\", \"Topic14\", \"Topic14\", \"Topic14\", \"Topic14\", \"Topic14\", \"Topic14\", \"Topic14\", \"Topic14\", \"Topic14\", \"Topic14\", \"Topic14\", \"Topic14\", \"Topic14\", \"Topic14\", \"Topic14\", \"Topic14\", \"Topic14\", \"Topic14\", \"Topic14\", \"Topic14\", \"Topic14\", \"Topic14\", \"Topic14\", \"Topic14\", \"Topic14\", \"Topic14\", \"Topic14\", \"Topic14\", \"Topic14\", \"Topic14\", \"Topic14\", \"Topic15\", \"Topic15\", \"Topic15\", \"Topic15\", \"Topic15\", \"Topic15\", \"Topic15\", \"Topic15\", \"Topic15\", \"Topic15\", \"Topic15\", \"Topic15\", \"Topic15\", \"Topic15\", \"Topic15\", \"Topic15\", \"Topic15\", \"Topic15\", \"Topic15\", \"Topic15\", \"Topic15\", \"Topic15\", \"Topic15\", \"Topic15\", \"Topic15\", \"Topic15\", \"Topic15\", \"Topic15\", \"Topic15\", \"Topic15\", \"Topic15\", \"Topic15\", \"Topic15\", \"Topic15\", \"Topic15\", \"Topic15\", \"Topic15\", \"Topic15\", \"Topic15\", \"Topic15\", \"Topic16\", \"Topic16\", \"Topic16\", \"Topic16\", \"Topic16\", \"Topic16\", \"Topic16\", \"Topic16\", \"Topic16\", \"Topic16\", \"Topic16\", \"Topic16\", \"Topic16\", \"Topic16\", \"Topic16\", \"Topic16\", \"Topic16\", \"Topic16\", \"Topic16\", \"Topic16\", \"Topic16\", \"Topic16\", \"Topic16\", \"Topic16\", \"Topic16\", \"Topic16\", \"Topic16\", \"Topic16\", \"Topic16\", \"Topic16\", \"Topic16\", \"Topic16\", \"Topic16\", \"Topic16\", \"Topic16\", \"Topic16\", \"Topic16\", \"Topic16\", \"Topic16\", \"Topic16\", \"Topic16\", \"Topic16\", \"Topic16\", \"Topic16\", \"Topic16\", \"Topic16\", \"Topic16\", \"Topic16\", \"Topic16\", \"Topic16\", \"Topic16\", \"Topic16\", \"Topic16\", \"Topic17\", \"Topic17\", \"Topic17\", \"Topic17\", \"Topic17\", \"Topic17\", \"Topic17\", \"Topic17\", \"Topic17\", \"Topic17\", \"Topic17\", \"Topic17\", \"Topic17\", \"Topic17\", \"Topic17\", \"Topic17\", \"Topic17\", \"Topic17\", \"Topic17\", \"Topic17\", \"Topic17\", \"Topic17\", \"Topic17\", \"Topic17\", \"Topic17\", \"Topic17\", \"Topic17\", \"Topic17\", \"Topic17\", \"Topic17\", \"Topic17\", \"Topic17\", \"Topic17\", \"Topic17\", \"Topic17\", \"Topic17\", \"Topic17\", \"Topic17\", \"Topic17\", \"Topic17\", \"Topic17\", \"Topic17\", \"Topic17\", \"Topic17\", \"Topic17\", \"Topic17\", \"Topic17\", \"Topic17\", \"Topic17\", \"Topic17\", \"Topic17\", \"Topic17\", \"Topic17\", \"Topic17\", \"Topic17\", \"Topic17\", \"Topic17\", \"Topic18\", \"Topic18\", \"Topic18\", \"Topic18\", \"Topic18\", \"Topic18\", \"Topic18\", \"Topic18\", \"Topic18\", \"Topic18\", \"Topic18\", \"Topic18\", \"Topic18\", \"Topic18\", \"Topic18\", \"Topic18\", \"Topic18\", \"Topic18\", \"Topic18\", \"Topic18\", \"Topic18\", \"Topic18\", \"Topic18\", \"Topic18\", \"Topic18\", \"Topic18\", \"Topic18\", \"Topic18\", \"Topic18\", \"Topic18\", \"Topic18\", \"Topic18\", \"Topic18\", \"Topic18\", \"Topic18\", \"Topic18\", \"Topic18\", \"Topic18\", \"Topic18\", \"Topic18\", \"Topic18\", \"Topic18\", \"Topic18\", \"Topic18\", \"Topic18\", \"Topic18\", \"Topic18\", \"Topic18\", \"Topic18\", \"Topic18\", \"Topic18\", \"Topic18\", \"Topic18\", \"Topic18\", \"Topic18\", \"Topic18\", \"Topic18\", \"Topic18\", \"Topic18\", \"Topic18\", \"Topic18\", \"Topic18\", \"Topic18\", \"Topic18\", \"Topic18\", \"Topic18\", \"Topic18\", \"Topic18\", \"Topic18\", \"Topic18\", \"Topic18\", \"Topic18\", \"Topic18\", \"Topic18\", \"Topic18\", \"Topic18\", \"Topic18\", \"Topic18\", \"Topic19\", \"Topic19\", \"Topic19\", \"Topic19\", \"Topic19\", \"Topic19\", \"Topic19\", \"Topic19\", \"Topic19\", \"Topic19\", \"Topic19\", \"Topic19\", \"Topic19\", \"Topic19\", \"Topic19\", \"Topic19\", \"Topic19\", \"Topic19\", \"Topic19\", \"Topic19\", \"Topic19\", \"Topic19\", \"Topic19\", \"Topic19\", \"Topic19\", \"Topic19\", \"Topic19\", \"Topic19\", \"Topic19\", \"Topic19\", \"Topic19\", \"Topic19\", \"Topic19\", \"Topic19\", \"Topic19\", \"Topic19\", \"Topic19\", \"Topic19\", \"Topic19\", \"Topic19\", \"Topic19\", \"Topic19\", \"Topic19\", \"Topic19\", \"Topic19\", \"Topic19\", \"Topic19\", \"Topic19\", \"Topic19\", \"Topic19\", \"Topic19\", \"Topic19\", \"Topic19\", \"Topic19\", \"Topic19\", \"Topic19\", \"Topic19\", \"Topic19\", \"Topic19\", \"Topic19\", \"Topic19\", \"Topic19\", \"Topic19\", \"Topic19\", \"Topic19\", \"Topic19\", \"Topic19\", \"Topic19\", \"Topic19\", \"Topic19\", \"Topic19\", \"Topic19\", \"Topic19\", \"Topic19\", \"Topic20\", \"Topic20\", \"Topic20\", \"Topic20\", \"Topic20\", \"Topic20\", \"Topic20\", \"Topic20\", \"Topic20\", \"Topic20\", \"Topic20\", \"Topic20\", \"Topic20\", \"Topic20\", \"Topic20\", \"Topic20\", \"Topic20\", \"Topic20\", \"Topic20\", \"Topic20\", \"Topic20\", \"Topic20\", \"Topic20\", \"Topic20\", \"Topic20\", \"Topic20\", \"Topic20\", \"Topic20\", \"Topic20\", \"Topic20\", \"Topic20\", \"Topic20\", \"Topic20\", \"Topic20\", \"Topic20\", \"Topic20\", \"Topic20\", \"Topic20\", \"Topic20\", \"Topic20\", \"Topic20\", \"Topic20\", \"Topic20\", \"Topic20\", \"Topic20\", \"Topic20\", \"Topic20\", \"Topic20\", \"Topic20\", \"Topic20\", \"Topic20\", \"Topic20\", \"Topic20\", \"Topic20\", \"Topic20\", \"Topic20\", \"Topic20\", \"Topic20\", \"Topic20\", \"Topic20\", \"Topic20\", \"Topic20\", \"Topic20\"], \"logprob\": [30.0, 29.0, 28.0, 27.0, 26.0, 25.0, 24.0, 23.0, 22.0, 21.0, 20.0, 19.0, 18.0, 17.0, 16.0, 15.0, 14.0, 13.0, 12.0, 11.0, 10.0, 9.0, 8.0, 7.0, 6.0, 5.0, 4.0, 3.0, 2.0, 1.0, -1.6793, -1.8059, -2.4269, -2.7957, -2.864, -3.0362, -3.0404, -3.3216, -3.4267, -3.617, -3.6612, -3.6733, -3.9459, -4.058, -4.0921, -4.122, -4.145, -4.5718, -4.8717, -4.9266, -5.0035, -5.0606, -5.0806, -5.5247, -5.5507, -5.6636, -5.7015, -5.7944, -5.8151, -5.8414, -1.0351, -2.3781, -2.7693, -2.8781, -2.983, -3.2103, -3.3587, -3.6548, -3.7073, -3.7225, -3.8481, -3.9103, -4.3061, -4.3239, -4.324, -4.3306, -4.7217, -4.7369, -4.8218, -5.0209, -5.2687, -5.3275, -5.4716, -5.5666, -5.7819, -6.344, -6.474, -9.931, -12.4533, -12.5567, -1.8078, -2.1503, -2.2286, -2.3746, -2.7819, -2.8029, -2.8278, -3.1013, -3.1549, -3.583, -3.7151, -4.0816, -4.2543, -4.2811, -4.4766, -4.4874, -4.6222, -4.7603, -4.7745, -4.781, -5.3355, -5.4204, -5.4803, -5.5134, -5.5595, -5.6305, -5.8869, -6.0149, -6.2255, -12.8565, -12.8421, -1.4987, -2.4565, -2.687, -2.7663, -3.0114, -3.1036, -3.1097, -3.2074, -3.2099, -3.6343, -3.6766, -3.7643, -3.9739, -4.0405, -4.099, -4.1378, -4.3549, -4.495, -4.4959, -4.5689, -4.599, -4.6733, -4.8812, -4.8868, -4.9212, -4.9533, -5.0906, -5.3249, -5.4083, -5.4309, -1.6898, -2.1199, -2.1947, -2.2657, -2.4973, -2.6731, -2.8436, -3.2928, -3.6939, -3.7284, -4.0839, -4.3979, -4.4622, -4.5552, -4.7299, -4.8559, -4.9082, -4.9496, -5.0494, -5.0727, -5.9994, -6.0826, -6.213, -12.588, -12.588, -12.5881, -12.588, -12.5883, -12.5884, -12.5884, -12.5747, -12.5878, -12.5879, -12.5609, -1.4974, -1.7196, -2.6747, -2.8765, -2.9248, -3.3311, -3.4343, -3.4806, -3.5201, -3.5684, -3.6503, -3.7057, -3.974, -3.9885, -4.3539, -4.3866, -4.6819, -4.7797, -4.8974, -4.9046, -4.9181, -4.9863, -5.0294, -5.0995, -5.6849, -5.7484, -12.5931, -12.5933, -12.5929, -12.593, -12.5928, -12.5801, -12.5928, -12.5927, -12.5677, -12.5927, -1.5886, -1.5989, -2.0486, -2.6651, -2.7094, -2.926, -3.3061, -3.6271, -3.825, -4.1039, -4.1284, -4.1601, -4.2741, -4.4618, -5.14, -5.2916, -5.3924, -6.1324, -12.4153, -12.4152, -12.415, -12.4151, -12.4156, -12.4156, -12.4156, -12.4157, -12.4155, -12.4158, -12.4155, -12.4158, -12.4156, -12.4156, -12.4152, -12.4152, -12.4155, -12.4154, -12.4154, -12.4036, -12.415, -12.4152, -12.415, -12.4153, -12.393, -12.4152, -1.3465, -1.9035, -2.3937, -3.0012, -3.0262, -3.0354, -3.2853, -3.3436, -3.85, -3.9938, -4.0256, -4.0276, -4.4001, -4.4382, -4.628, -4.6567, -4.7567, -4.9026, -4.9289, -5.0459, -5.3063, -5.4208, -5.4812, -12.2312, -12.2309, -12.2311, -12.2314, -12.2315, -12.2317, -12.2316, -12.2316, -12.2314, -12.2186, -12.2312, -12.2311, -12.2312, -12.231, -12.2084, -12.231, -1.3188, -1.8235, -2.2163, -2.713, -2.7875, -2.8619, -2.9113, -3.5189, -4.2315, -4.2981, -4.3035, -4.5903, -4.6187, -4.6867, -5.054, -6.2511, -7.8353, -12.2751, -12.2757, -12.2757, -12.2756, -12.2756, -12.2761, -12.2761, -12.276, -12.2762, -12.2761, -12.2752, -12.2761, -12.2762, -12.2758, -12.2757, -12.2759, -12.276, -12.2758, -12.2755, -12.2755, -12.2756, -12.2758, -12.265, -12.2756, -12.2754, -12.2552, -12.2756, -12.2757, -1.1051, -1.6258, -2.0604, -2.5867, -3.2985, -3.3564, -3.7139, -3.9212, -4.56, -4.7892, -7.9269, -12.107, -12.107, -12.1072, -12.1072, -12.1071, -12.1072, -12.1072, -12.1073, -12.1072, -12.1073, -12.1073, -12.1073, -12.1072, -12.1073, -12.1073, -12.1073, -12.1073, -12.1073, -12.1072, -12.1072, -12.1071, -12.1073, -12.1072, -12.1071, -12.1072, -12.1067, -12.1068, -12.1071, -12.107, -12.1072, -12.107, -12.1069, -12.1067, -12.107, -12.1068, -12.1067, -12.1068, -12.1069, -12.1069, -12.1069, -12.107, -12.0984, -12.1066, -12.1069, -12.1067, -12.0901, -12.1068, -12.1068, -12.1069, -12.1069, -1.5728, -1.8184, -2.3518, -3.1078, -3.1089, -3.1557, -3.2987, -3.5952, -3.6594, -3.7596, -3.7959, -3.7994, -3.9895, -4.0941, -4.1792, -4.1825, -4.4849, -4.7202, -4.9078, -11.9862, -11.9862, -11.9862, -11.9862, -11.9863, -11.9863, -11.9862, -11.9863, -11.9863, -11.9863, -11.9863, -11.9862, -11.9862, -11.9862, -11.9862, -11.9861, -11.9862, -11.9861, -11.986, -11.9862, -11.986, -11.986, -11.986, -11.9857, -11.9857, -11.9859, -11.986, -11.9859, -11.9858, -11.9857, -11.9768, -11.9858, -11.9859, -11.9856, -11.9856, -11.9857, -11.9684, -11.9858, -1.4554, -2.0225, -2.215, -2.8027, -2.9946, -3.269, -3.3568, -3.5276, -3.5344, -3.8421, -3.9913, -4.0408, -4.1787, -4.3938, -4.4555, -4.6486, -4.8966, -5.9938, -6.4296, -11.9001, -11.9001, -11.9001, -11.9001, -11.9001, -11.9001, -11.9001, -11.9001, -11.9001, -11.9001, -11.9001, -11.9, -11.9001, -11.9, -11.8995, -11.8999, -11.9, -11.9, -11.9, -11.8997, -11.8998, -11.8999, -11.8997, -11.8996, -11.8998, -11.8996, -11.8998, -11.8998, -11.8997, -11.8915, -11.8998, -11.8995, -11.8995, -11.8997, -11.8997, -11.8834, -11.8996, -11.8997, -1.5382, -2.062, -2.4123, -2.7403, -2.8134, -3.1443, -3.2434, -3.2509, -3.2984, -3.4498, -3.9579, -4.0779, -4.1334, -4.8147, -5.268, -11.7654, -11.7654, -11.7654, -11.7654, -11.7654, -11.7654, -11.7654, -11.7654, -11.7654, -11.7654, -11.7654, -11.7654, -11.7654, -11.7654, -11.7654, -11.7654, -11.7654, -11.7654, -11.7652, -11.7653, -11.7652, -11.7652, -11.7653, -11.7653, -11.7649, -11.7653, -11.765, -11.7651, -11.7651, -11.7652, -11.7649, -11.7652, -11.7651, -11.7648, -11.765, -11.765, -11.7567, -11.7651, -11.7648, -11.765, -11.765, -11.7651, -11.765, -11.7489, -11.765, -11.7651, -1.0932, -1.3858, -2.8471, -3.0546, -3.4933, -3.6235, -3.8516, -4.1052, -4.1271, -4.8828, -5.0574, -5.1184, -11.8209, -11.8209, -11.8209, -11.8208, -11.8209, -11.8208, -11.8208, -11.8208, -11.8208, -11.8215, -11.8204, -11.8214, -11.8214, -11.8214, -11.8214, -11.8215, -11.8215, -11.8215, -11.8214, -11.8213, -11.8214, -11.8214, -11.8214, -11.8213, -11.8212, -11.8213, -11.8212, -11.8212, -11.8211, -11.8211, -11.821, -11.821, -11.8134, -11.821, -11.8211, -11.8211, -11.8211, -11.8209, -11.8083, -11.821, -1.6116, -2.0402, -2.3681, -2.4276, -2.5755, -3.2232, -3.3388, -3.6165, -3.6376, -3.7775, -3.9585, -4.0957, -4.264, -4.6737, -4.732, -4.8186, -5.3662, -5.4389, -6.4302, -8.9095, -11.8454, -11.846, -11.846, -11.8458, -11.8459, -11.8464, -11.8464, -11.8464, -11.8464, -11.8464, -11.8459, -11.8464, -11.8457, -11.8456, -11.8462, -11.8463, -11.8461, -11.8461, -11.8399, -11.8354, -1.4251, -2.3902, -2.8856, -2.8974, -2.9223, -2.9711, -3.0575, -3.6256, -3.6934, -3.7077, -3.7155, -3.9891, -4.1788, -4.2078, -4.2316, -4.5274, -4.9893, -5.7206, -11.6108, -11.6113, -11.6113, -11.6112, -11.6118, -11.6118, -11.6118, -11.6118, -11.6118, -11.6118, -11.6118, -11.6118, -11.6118, -11.611, -11.6118, -11.6118, -11.6118, -11.6118, -11.6116, -11.6117, -11.6117, -11.6117, -11.6117, -11.6117, -11.6117, -11.6117, -11.6117, -11.6115, -11.6069, -11.6116, -11.6116, -11.6116, -11.603, -11.6116, -11.6115, -1.5177, -1.9995, -2.1441, -3.1085, -3.1141, -3.1543, -3.6733, -3.7152, -3.9411, -4.1862, -4.3521, -4.5135, -4.6673, -4.7626, -5.0623, -5.3477, -5.573, -11.464, -11.464, -11.464, -11.464, -11.464, -11.464, -11.464, -11.4641, -11.4641, -11.4641, -11.4641, -11.4641, -11.4641, -11.4638, -11.464, -11.464, -11.4639, -11.4639, -11.4638, -11.4639, -11.464, -11.4639, -11.464, -11.4639, -11.464, -11.4639, -11.4639, -11.4637, -11.4639, -11.4638, -11.4638, -11.4639, -11.4639, -11.4598, -11.4637, -11.4638, -11.4566, -11.4638, -11.4639, -11.4638, -1.3427, -1.3861, -2.1548, -2.3989, -3.6317, -4.5345, -5.0963, -11.5319, -11.5319, -11.5319, -11.5319, -11.5319, -11.5319, -11.5319, -11.5319, -11.5319, -11.5319, -11.5319, -11.5319, -11.5319, -11.5319, -11.5319, -11.5319, -11.5319, -11.5319, -11.5319, -11.5319, -11.5319, -11.5319, -11.5319, -11.5315, -11.5319, -11.5319, -11.5319, -11.5319, -11.5319, -11.5319, -11.5318, -11.5319, -11.5317, -11.5318, -11.5318, -11.5318, -11.5319, -11.5318, -11.5318, -11.5318, -11.5319, -11.5318, -11.5319, -11.5318, -11.5319, -11.5318, -11.5319, -11.5318, -11.5318, -11.5318, -11.5318, -11.5318, -11.5318, -11.5317, -11.5317, -11.5318, -11.5318, -11.5317, -11.5286, -11.5317, -11.5318, -11.5317, -11.5318, -11.5318, -11.5318, -11.5274, -11.5318, -11.5318, -11.5318, -11.5318, -11.5318, -0.9417, -1.8021, -2.1129, -4.3649, -5.2375, -11.2826, -11.2827, -11.2825, -11.2832, -11.2824, -11.2833, -11.2833, -11.2833, -11.2833, -11.2833, -11.2833, -11.2833, -11.2833, -11.2833, -11.2833, -11.2833, -11.2833, -11.2833, -11.2833, -11.2833, -11.2833, -11.2833, -11.2833, -11.2833, -11.2833, -11.2833, -11.2833, -11.2832, -11.2833, -11.2833, -11.2833, -11.2832, -11.2832, -11.2833, -11.2832, -11.2833, -11.2832, -11.2833, -11.2832, -11.2832, -11.2832, -11.2833, -11.2832, -11.2832, -11.2832, -11.2832, -11.2832, -11.2799, -11.2832, -11.2832, -11.2832, -11.2832, -11.2832, -11.2832, -11.2832, -11.2832, -11.2832, -11.2832, -11.2832, -11.2832, -11.2832, -11.2832, -11.2832, -11.2832, -11.2802, -11.2832, -11.2832, -11.2832, -11.2832, -1.12, -1.8291, -2.6436, -2.9866, -3.618, -3.9436, -4.356, -4.7741, -11.2257, -11.2262, -11.2262, -11.2262, -11.2262, -11.2262, -11.2262, -11.2263, -11.2263, -11.2262, -11.2262, -11.2262, -11.2262, -11.2262, -11.2262, -11.2262, -11.2263, -11.2262, -11.2263, -11.2263, -11.2263, -11.2262, -11.2262, -11.2263, -11.2263, -11.2262, -11.2262, -11.2262, -11.2262, -11.2262, -11.2262, -11.2262, -11.2261, -11.2262, -11.2262, -11.2262, -11.2262, -11.2262, -11.2262, -11.2262, -11.2262, -11.2237, -11.2262, -11.2262, -11.2262, -11.2262, -11.2261, -11.2262, -11.2262, -11.2236, -11.2262, -11.2262, -11.2262, -11.2262, -11.2262], \"loglift\": [30.0, 29.0, 28.0, 27.0, 26.0, 25.0, 24.0, 23.0, 22.0, 21.0, 20.0, 19.0, 18.0, 17.0, 16.0, 15.0, 14.0, 13.0, 12.0, 11.0, 10.0, 9.0, 8.0, 7.0, 6.0, 5.0, 4.0, 3.0, 2.0, 1.0, 1.7682, 1.7682, 1.7681, 1.768, 1.768, 1.7679, 1.7679, 1.7677, 1.7677, 1.7675, 1.7675, 1.7675, 1.7672, 1.767, 1.767, 1.767, 1.7669, 1.7662, 1.7654, 1.7652, 1.765, 1.7648, 1.7647, 1.7627, 1.7625, 1.7619, 1.7616, 1.7609, 1.7608, 1.7606, 1.775, 1.7748, 1.7747, 1.7747, 1.7746, 1.7745, 1.7745, 1.7742, 1.7742, 1.7742, 1.7741, 1.774, 1.7735, 1.7735, 1.7735, 1.7735, 1.7727, 1.7727, 1.7724, 1.7719, 1.771, 1.7707, 1.7701, 1.7696, 1.7683, 1.7631, 1.7615, 1.4154, -0.0968, -0.1679, 2.4295, 2.4294, 2.4294, 2.4293, 2.4291, 2.4291, 2.4291, 2.4288, 2.4288, 2.4282, 2.428, 2.4272, 2.4267, 2.4266, 2.4259, 2.4259, 2.4253, 2.4246, 2.4246, 2.4245, 2.4206, 2.4198, 2.4192, 2.4189, 2.4183, 2.4175, 2.4139, 2.4118, 2.4076, -0.4752, -0.4856, 2.6429, 2.6425, 2.6423, 2.6423, 2.642, 2.6419, 2.6419, 2.6418, 2.6418, 2.641, 2.641, 2.6408, 2.6402, 2.64, 2.6398, 2.6397, 2.6388, 2.6382, 2.6382, 2.6378, 2.6377, 2.6372, 2.6359, 2.6358, 2.6356, 2.6353, 2.6342, 2.6318, 2.6309, 2.6306, 2.6969, 2.6967, 2.6967, 2.6966, 2.6965, 2.6963, 2.6962, 2.6956, 2.6949, 2.6948, 2.6937, 2.6925, 2.6922, 2.6917, 2.6906, 2.6898, 2.6894, 2.689, 2.6882, 2.688, 2.6741, 2.6721, 2.6687, -0.193, -0.193, -0.1931, -0.1931, -0.1931, -0.1931, -0.1931, -0.1935, -0.1932, -0.1932, -0.2044, 2.7783, 2.7782, 2.7776, 2.7774, 2.7774, 2.7768, 2.7766, 2.7765, 2.7764, 2.7763, 2.7761, 2.776, 2.7752, 2.7751, 2.7736, 2.7735, 2.7717, 2.771, 2.7701, 2.7701, 2.7699, 2.7693, 2.7689, 2.7682, 2.7601, 2.7589, -0.1978, -0.1979, -0.1979, -0.1979, -0.1979, -0.1988, -0.1979, -0.198, -0.2112, -0.198, 2.9531, 2.9531, 2.9529, 2.9524, 2.9523, 2.952, 2.9514, 2.9506, 2.95, 2.9489, 2.9488, 2.9486, 2.9481, 2.9469, 2.9407, 2.9386, 2.937, 2.9194, -0.0201, -0.0201, -0.0201, -0.0202, -0.0202, -0.0202, -0.0202, -0.0202, -0.0202, -0.0202, -0.0202, -0.0202, -0.0202, -0.0202, -0.0202, -0.0202, -0.0202, -0.0202, -0.0202, -0.0223, -0.0203, -0.0202, -0.0203, -0.0202, -0.0365, -0.0205, 3.0698, 3.0696, 3.0692, 3.0684, 3.0684, 3.0684, 3.0679, 3.0677, 3.0662, 3.0656, 3.0654, 3.0654, 3.0633, 3.063, 3.0615, 3.0613, 3.0604, 3.0588, 3.0585, 3.0571, 3.0533, 3.0513, 3.0501, 0.164, 0.164, 0.164, 0.1639, 0.1639, 0.1639, 0.1639, 0.1639, 0.1638, 0.1627, 0.1638, 0.1638, 0.1638, 0.1637, 0.148, 0.1637, 3.1579, 3.1577, 3.1574, 3.1568, 3.1567, 3.1566, 3.1565, 3.1551, 3.1519, 3.1514, 3.1514, 3.1491, 3.1489, 3.1482, 3.1438, 3.1113, 2.9477, 0.1196, 0.1196, 0.1196, 0.1195, 0.1195, 0.1195, 0.1195, 0.1195, 0.1195, 0.1195, 0.1195, 0.1195, 0.1195, 0.1195, 0.1195, 0.1195, 0.1195, 0.1195, 0.1194, 0.1194, 0.1194, 0.1195, 0.1163, 0.1194, 0.1193, 0.1013, 0.1193, 0.1194, 3.3836, 3.3834, 3.3831, 3.3824, 3.3808, 3.3806, 3.3792, 3.3781, 3.3729, 3.3701, 3.1043, 0.2885, 0.2885, 0.2885, 0.2885, 0.2885, 0.2884, 0.2884, 0.2884, 0.2884, 0.2884, 0.2884, 0.2884, 0.2884, 0.2884, 0.2884, 0.2884, 0.2884, 0.2884, 0.2884, 0.2884, 0.2884, 0.2884, 0.2884, 0.2884, 0.2884, 0.2883, 0.2883, 0.2884, 0.2884, 0.2884, 0.2883, 0.2883, 0.2883, 0.2884, 0.2882, 0.2882, 0.2883, 0.2883, 0.2883, 0.2883, 0.2883, 0.2829, 0.2881, 0.2883, 0.288, 0.2663, 0.2881, 0.2879, 0.2882, 0.2882, 3.4037, 3.4035, 3.403, 3.4016, 3.4016, 3.4015, 3.4011, 3.4, 3.3997, 3.3992, 3.399, 3.399, 3.3979, 3.3972, 3.3966, 3.3965, 3.3938, 3.3911, 3.3884, 0.4094, 0.4094, 0.4094, 0.4094, 0.4094, 0.4094, 0.4094, 0.4094, 0.4094, 0.4094, 0.4094, 0.4094, 0.4094, 0.4094, 0.4094, 0.4094, 0.4094, 0.4094, 0.4094, 0.4094, 0.4094, 0.4094, 0.4094, 0.4093, 0.4093, 0.4093, 0.4093, 0.4093, 0.4092, 0.4092, 0.4044, 0.4092, 0.4093, 0.4091, 0.4091, 0.4091, 0.388, 0.409, 3.5192, 3.5187, 3.5185, 3.5175, 3.5171, 3.5163, 3.5159, 3.5152, 3.5152, 3.5136, 3.5126, 3.5122, 3.5111, 3.509, 3.5084, 3.506, 3.5021, 3.4678, 3.4406, 0.4956, 0.4956, 0.4956, 0.4956, 0.4956, 0.4956, 0.4956, 0.4956, 0.4956, 0.4956, 0.4956, 0.4956, 0.4956, 0.4955, 0.4955, 0.4955, 0.4955, 0.4956, 0.4955, 0.4955, 0.4955, 0.4955, 0.4954, 0.4954, 0.4955, 0.4954, 0.4955, 0.4955, 0.4954, 0.4898, 0.4954, 0.4952, 0.4952, 0.4953, 0.4954, 0.4731, 0.4952, 0.4951, 3.622, 3.6215, 3.621, 3.6204, 3.6202, 3.6193, 3.6189, 3.6189, 3.6187, 3.618, 3.615, 3.614, 3.6135, 3.6047, 3.5945, 0.6303, 0.6303, 0.6303, 0.6302, 0.6302, 0.6302, 0.6302, 0.6302, 0.6302, 0.6302, 0.6302, 0.6302, 0.6302, 0.6302, 0.6302, 0.6302, 0.6302, 0.6302, 0.6302, 0.6302, 0.6302, 0.6302, 0.6302, 0.6302, 0.6302, 0.6302, 0.6302, 0.6302, 0.6302, 0.6302, 0.63, 0.6302, 0.6301, 0.6299, 0.63, 0.6301, 0.6245, 0.6301, 0.6299, 0.63, 0.63, 0.6301, 0.6299, 0.6075, 0.6298, 0.63, 3.6839, 3.6837, 3.6816, 3.681, 3.6792, 3.6785, 3.677, 3.6748, 3.6746, 3.6638, 3.6599, 3.6584, 0.5744, 0.5744, 0.5744, 0.5744, 0.5744, 0.5744, 0.5744, 0.5744, 0.5743, 0.5742, 0.5742, 0.5742, 0.5742, 0.5742, 0.5742, 0.5742, 0.5742, 0.5742, 0.5742, 0.5742, 0.5742, 0.5742, 0.5742, 0.5742, 0.5741, 0.5742, 0.5741, 0.5741, 0.5741, 0.574, 0.574, 0.574, 0.5679, 0.5739, 0.574, 0.574, 0.5739, 0.5738, 0.5482, 0.5738, 3.9071, 3.9066, 3.906, 3.9059, 3.9055, 3.9032, 3.9026, 3.9008, 3.9006, 3.8995, 3.8978, 3.8963, 3.8941, 3.8871, 3.8858, 3.8838, 3.8665, 3.8634, 3.7918, 3.0031, 0.5494, 0.5493, 0.5493, 0.5493, 0.5493, 0.5493, 0.5493, 0.5493, 0.5493, 0.5493, 0.5492, 0.5493, 0.5491, 0.5491, 0.5492, 0.5492, 0.5491, 0.5491, 0.5413, 0.5211, 4.1109, 4.1093, 4.1076, 4.1075, 4.1074, 4.1072, 4.1067, 4.1028, 4.1022, 4.102, 4.102, 4.0988, 4.0961, 4.0957, 4.0953, 4.0896, 4.0768, 4.0402, 0.784, 0.7839, 0.7839, 0.7839, 0.7839, 0.7839, 0.7839, 0.7839, 0.7838, 0.7838, 0.7838, 0.7838, 0.7838, 0.7837, 0.7838, 0.7838, 0.7838, 0.7838, 0.7837, 0.7838, 0.7837, 0.7838, 0.7837, 0.7837, 0.7838, 0.7837, 0.7837, 0.7834, 0.7743, 0.7834, 0.7834, 0.7835, 0.7534, 0.7833, 0.7831, 4.1794, 4.1787, 4.1784, 4.1748, 4.1748, 4.1745, 4.1704, 4.17, 4.1673, 4.1636, 4.1606, 4.1572, 4.1533, 4.1506, 4.1404, 4.1274, 4.1144, 0.9316, 0.9316, 0.9316, 0.9316, 0.9316, 0.9316, 0.9316, 0.9316, 0.9316, 0.9316, 0.9316, 0.9316, 0.9316, 0.9316, 0.9316, 0.9316, 0.9316, 0.9315, 0.9315, 0.9315, 0.9316, 0.9316, 0.9316, 0.9315, 0.9316, 0.9315, 0.9315, 0.9312, 0.9314, 0.9312, 0.9312, 0.9313, 0.9314, 0.9214, 0.9309, 0.9311, 0.8999, 0.9309, 0.9313, 0.931, 4.4339, 4.4339, 4.4323, 4.4315, 4.4225, 4.4041, 4.3813, 0.8638, 0.8638, 0.8638, 0.8638, 0.8638, 0.8638, 0.8638, 0.8638, 0.8638, 0.8638, 0.8638, 0.8638, 0.8638, 0.8638, 0.8638, 0.8638, 0.8638, 0.8638, 0.8638, 0.8638, 0.8638, 0.8638, 0.8638, 0.8638, 0.8638, 0.8638, 0.8638, 0.8638, 0.8638, 0.8638, 0.8637, 0.8638, 0.8636, 0.8637, 0.8637, 0.8637, 0.8637, 0.8636, 0.8637, 0.8637, 0.8637, 0.8637, 0.8637, 0.8637, 0.8637, 0.8636, 0.8637, 0.8637, 0.8637, 0.8636, 0.8635, 0.8636, 0.8635, 0.8634, 0.8634, 0.8636, 0.8636, 0.8632, 0.8527, 0.8632, 0.8635, 0.8632, 0.8635, 0.8634, 0.8632, 0.8291, 0.8635, 0.8629, 0.8632, 0.8629, 0.8633, 4.6895, 4.688, 4.687, 4.6568, 4.6115, 1.1126, 1.1126, 1.1125, 1.1124, 1.1124, 1.1124, 1.1124, 1.1124, 1.1124, 1.1124, 1.1124, 1.1124, 1.1124, 1.1124, 1.1124, 1.1124, 1.1124, 1.1124, 1.1124, 1.1124, 1.1124, 1.1124, 1.1124, 1.1124, 1.1124, 1.1124, 1.1124, 1.1124, 1.1124, 1.1124, 1.1124, 1.1124, 1.1123, 1.1124, 1.1124, 1.1124, 1.1124, 1.1124, 1.1123, 1.1123, 1.1124, 1.1124, 1.1123, 1.1123, 1.1123, 1.1122, 1.1123, 1.1013, 1.1121, 1.1121, 1.1122, 1.1121, 1.1122, 1.1123, 1.112, 1.1121, 1.1121, 1.1121, 1.1118, 1.1122, 1.1118, 1.1121, 1.1118, 1.1115, 1.0763, 1.1118, 1.1116, 1.1115, 1.1119, 4.7351, 4.7337, 4.7301, 4.7275, 4.7196, 4.7132, 4.7014, 4.6837, 1.1695, 1.1695, 1.1694, 1.1694, 1.1694, 1.1694, 1.1694, 1.1694, 1.1694, 1.1694, 1.1694, 1.1694, 1.1694, 1.1694, 1.1694, 1.1694, 1.1694, 1.1694, 1.1694, 1.1694, 1.1694, 1.1694, 1.1694, 1.1694, 1.1694, 1.1694, 1.1694, 1.1694, 1.1694, 1.1693, 1.1693, 1.1694, 1.1692, 1.1693, 1.1693, 1.1693, 1.1693, 1.1694, 1.1692, 1.1692, 1.1692, 1.1575, 1.169, 1.1693, 1.1691, 1.169, 1.1688, 1.169, 1.1687, 1.1329, 1.1688, 1.1688, 1.1685, 1.1685, 1.169]}, \"token.table\": {\"Topic\": [8, 6, 10, 9, 9, 4, 3, 2, 1, 4, 6, 4, 20, 5, 3, 13, 12, 5, 14, 16, 14, 3, 3, 8, 11, 11, 6, 1, 17, 4, 12, 19, 2, 4, 7, 2, 9, 13, 11, 8, 17, 13, 8, 4, 9, 16, 18, 15, 15, 20, 14, 4, 11, 10, 15, 5, 16, 3, 10, 18, 5, 8, 14, 14, 15, 1, 15, 7, 3, 16, 13, 2, 3, 3, 8, 1, 6, 4, 6, 10, 7, 1, 14, 4, 7, 4, 16, 2, 4, 1, 5, 3, 1, 8, 7, 4, 17, 13, 5, 3, 4, 4, 2, 1, 6, 8, 8, 15, 2, 6, 2, 11, 5, 2, 7, 12, 7, 12, 6, 4, 2, 3, 7, 12, 5, 2, 1, 1, 2, 1, 1, 8, 5, 11, 15, 2, 8, 12, 17, 13, 20, 17, 1, 13, 8, 15, 18, 2, 6, 18, 17, 16, 11, 3, 9, 8, 6, 15, 11, 3, 5, 2, 12, 13, 16, 1, 9, 15, 6, 15, 16, 3, 9, 16, 3, 11, 2, 6, 3, 8, 1, 12, 15, 8, 6, 16, 16, 2, 12, 9, 4, 1, 11, 12, 15, 14, 8, 1, 3, 4, 3, 9, 6, 3, 5, 15, 11, 7, 15, 15, 11, 9, 5, 17, 5, 9, 1, 11, 3, 17, 8, 19, 4, 20, 4, 4, 9, 10, 6, 13, 8, 6, 5, 7, 1, 2, 12, 19, 4, 1, 17, 2, 6, 5, 12, 4, 13, 20, 9, 5, 13, 8, 6, 15, 6, 18, 12, 7, 10, 17, 10, 12, 9, 15, 19, 10, 10, 3, 20, 20, 9, 14, 6, 12, 4, 12, 16, 16, 14, 14, 16, 12, 13, 18, 17, 4, 2, 12, 10, 1, 17, 7, 3, 19, 16, 3, 3, 5, 7, 6, 2, 5, 2, 6, 11, 1, 9, 8, 17, 4, 6, 8, 5, 14, 4, 16, 11, 1, 2, 1, 17, 16, 8, 1, 17, 17, 8, 14, 2, 4, 4, 5, 5, 6, 2, 7, 7, 1, 2, 1, 11, 12, 3, 2, 7, 18, 2, 20, 15, 16, 1, 15, 10, 5, 13, 5, 4, 11, 13, 17, 3, 11, 11, 7, 3, 4, 1, 3, 13, 1, 3, 6, 7, 9, 6], \"Freq\": [0.9982493185026632, 0.9972475204623844, 0.989082796345778, 0.9898250837546747, 0.9880801956495261, 0.9988307052410861, 0.990791444153748, 0.9992124632381137, 0.9967392501271028, 0.9974619333282279, 0.9981036160796056, 0.9978952660092556, 0.9987535006283398, 0.9778991427722074, 0.9987042293308324, 0.995205836688277, 0.9960050700657602, 0.9996380743347425, 0.9941419136953822, 0.99908400283035, 0.9788095225516268, 0.988760343359971, 0.9988897936496427, 0.9939685626289942, 0.9994226445783732, 0.9985877792700893, 0.9881968352166861, 0.9982298582081409, 0.9578090397998641, 0.9985746401467612, 0.9993282245956063, 0.9654373611321635, 0.9974096395317378, 0.9900384478856886, 0.9988112425009913, 0.9965969967162819, 0.993413154681458, 0.9665958475419564, 0.9855424405561518, 0.9971497626060896, 0.9985166176273081, 0.9955600259758122, 0.9986846612458635, 0.9929583420977834, 0.9970780847692347, 0.9653732584187953, 0.9889998151532682, 0.9974558500336622, 0.9979359213021942, 0.9980348423571791, 0.988411484165748, 0.9948213484389667, 0.9949042383232136, 0.9992367242410801, 0.9810087259070136, 0.9670080849340625, 0.9882387125316316, 0.9959888876600231, 0.999287243322385, 0.9984068603761312, 0.9931578959034865, 0.994413068283311, 0.9949361920311196, 0.9914583802474032, 0.9900042160413087, 0.9997258512966853, 0.9903102147834048, 0.9892009073042266, 0.996017934270809, 0.9848505308761392, 0.9954098960446247, 0.9848455620356997, 0.9798752929981088, 0.9884705857071756, 0.9848435505831579, 0.9937378872659767, 0.9880838475906821, 0.9912623376517725, 0.9915383578328119, 0.9983605253251964, 0.9962752451845419, 0.9937785878668661, 0.9924213063848853, 0.9980364004559693, 0.9873456811757622, 0.9944011415250933, 0.9932081779571331, 0.643741956203645, 0.9989587103204477, 0.9929227068641227, 0.9802882738572393, 0.9992458992774681, 0.9984827944643055, 0.9882761572421942, 0.9965733691502723, 0.9937985942188531, 0.9393546094595425, 0.9964548767912669, 0.9975523700815079, 0.9902788710716974, 0.9942761355629606, 0.9945783365931955, 0.9965409251991122, 0.9982873015868245, 0.9995764881239771, 0.9767807524498676, 0.9878826330879626, 0.3780184004408858, 0.9985924663087699, 0.9990030759307957, 0.9989193562448724, 0.9936398637590126, 0.9992562073002563, 0.9925938495225601, 0.99100018368105, 0.9956176091420854, 0.9733205012440097, 0.9978568271765289, 0.9786293643051897, 0.9934204716802891, 0.9974248351592979, 0.9937850108848336, 0.9966582465467061, 0.9987241904386002, 0.9948645457995893, 0.9990766878771917, 0.9998554485425365, 0.9994551211977617, 0.9985058755706324, 0.9998510843952348, 0.9996690433165619, 0.9915028100132687, 0.9990592599101684, 0.9949966631668651, 0.906210839959201, 0.9997505589880588, 0.9991659065197382, 0.9972080940056934, 0.9862354841376583, 0.997013082815736, 0.9935579151542241, 0.9841137108317252, 0.9991252745470138, 0.9907353603007365, 0.9981717948703154, 0.9589721686059326, 0.9602266554209528, 0.9995326781790352, 0.9946478943023997, 0.9985955742428818, 0.9557967735435556, 0.9964009673425995, 0.9905060148685145, 0.9933512366930277, 0.9929011938673138, 0.981212180326427, 0.993170514756335, 0.9930841865231884, 0.9964451224560594, 0.9965076367926837, 0.9902301629161591, 0.998710035127263, 0.9872489074674624, 0.9914094284533044, 0.984711536476644, 0.998123840402975, 0.9980316145730891, 0.976148524807794, 0.9993560269951622, 0.9823054316423605, 0.9974731375321553, 0.9995023588699371, 0.9991268596181563, 0.994404062091026, 0.996486857537609, 0.9972896426466477, 0.9997352494202428, 0.9978049589757755, 0.9909290506404929, 0.9886383393635565, 0.9991086487883445, 0.9917748360113451, 0.9934646709625398, 0.996835050540118, 0.999033345264327, 0.9957422932874164, 0.989964351285734, 0.9948159457819427, 0.999204071348697, 0.9993003925784911, 0.9988682972300924, 0.9990168103840752, 0.9966296422857001, 0.9961109090298501, 0.9795879697970286, 0.9693063158043441, 0.9996069760383067, 0.9966765771336986, 0.9993800865520039, 0.9976789565552693, 0.9995901793865971, 0.9988960712618724, 0.9983077127500344, 0.9917750530397155, 0.9928906892671707, 0.9942532082030986, 0.9966089067227959, 0.9983236787851159, 0.944737659911222, 0.9881000836577123, 0.9978194152618456, 0.9442722155937925, 0.9994917851648287, 0.9980611354469192, 0.989628188795843, 0.8550944426950365, 0.9929246083934242, 0.9936823605313723, 0.9996258679887257, 0.9887287251186252, 0.9995907650339341, 0.9985342350798501, 0.9992053576755758, 0.9934369392812026, 0.9938933120185952, 0.9914468610326131, 0.9943495293820733, 0.7828288570725583, 0.9928733814603202, 0.9972724509040329, 0.9969011343499364, 0.9976499600484536, 0.9937384858377485, 0.9955112007999696, 0.9978677777119245, 0.9996887878601576, 0.995571371358337, 0.9965178976310923, 0.9996784089161963, 0.9945968605454407, 0.9792324206718559, 0.9959072257169904, 0.9974045090333991, 0.9961843527037425, 0.9449542916037008, 0.9930682153265586, 0.9768396024443166, 0.9413786365695622, 0.9980056900098347, 0.998573783319729, 0.9938386796741858, 0.9851088967896142, 0.9971380146906593, 0.9893596468976323, 0.9787392659394422, 0.9657149331762482, 0.9315349544924973, 0.9974038822475904, 0.9957307306246835, 0.9852105895467363, 0.9834471074708403, 0.9875951304627252, 0.9982296025258437, 0.9977027438074089, 0.9967181816387536, 0.9964080182458195, 0.994525357765933, 0.9997078166026103, 0.9762184444413242, 0.9571345970960334, 0.9853217070476149, 0.9976624219889019, 0.9931475735273596, 0.9793043825749039, 0.996821231147955, 0.9937291299379658, 0.9802584715402543, 0.9904797781042981, 0.9964091217454416, 0.975296947061871, 0.9230425062369751, 0.9910657289003998, 0.9991483984267442, 0.9970022137941079, 0.9901603837461878, 0.99735805426688, 0.9999536929785294, 0.995125159527739, 0.9996645952882304, 0.9997816724514473, 0.998380093046627, 0.9938727891595084, 0.9990329780688688, 0.9120417289711406, 0.9949245438612638, 0.996798405769076, 0.9818936921130277, 0.9957722219991956, 0.9961217510759071, 0.9949313720260042, 0.9839992776301141, 0.9946900467544944, 0.9993233452689354, 0.9931579370620034, 0.9963220413827713, 0.9977268656716544, 0.9951165995419727, 0.9910380143507257, 0.9925944321734294, 0.9975672654139865, 0.9962598790396157, 0.9916216501485149, 0.9990711783129088, 0.9995922516825483, 0.9992376307510615, 0.9965851880965567, 0.9957763726604548, 0.9953451953329596, 0.9945537938087337, 0.9966280013869427, 0.9924752624660529, 0.982467696723558, 0.99811521110525, 0.9989328516128726, 0.9751464326315111, 0.978427676889952, 0.9954593053805405, 0.9992150984583774, 0.9995394681870553, 0.9882489819378603, 0.9989389576331824, 0.9995447508971405, 0.9994341433736474, 0.9997138376674309, 0.9994080803735063, 0.9946859136721967, 0.9997419963528501, 0.9994844325259025, 0.9992933262432204, 0.9952535352718532, 0.9919423064750409, 0.990537562081774, 0.9840227558512098, 0.996298831666255, 0.99882968969054, 0.9968650112144263, 0.9986704797931957, 0.9848164356202355, 0.9986839407228627, 0.9914826563576234, 0.9923079370881301, 0.9990228452181399, 0.9935618865976593, 0.9969633189113513, 0.9979697781133623, 0.9970061968746247, 0.9992043697381296, 0.9879907436710293, 0.999173248769897, 0.9943600405123219, 0.9989710023673442, 0.9993895141800814, 0.9931274435131423, 0.9994261202031334, 0.9966596602549136, 0.9926360378313283, 0.9983435565007398, 0.9959308894779975, 0.9961885524202834, 0.9996105116131251, 0.9981533958892586, 0.9900087778917619, 0.9997225477702504, 0.9997233938866033, 0.9986747668596754], \"Term\": [\"able\", \"absolutely\", \"abuse\", \"access\", \"act\", \"actually\", \"adult\", \"age\", \"allow\", \"almost\", \"alone\", \"already\", \"also\", \"alternative\", \"always\", \"amazing\", \"amount\", \"amp\", \"appear\", \"ask\", \"attempt\", \"aware\", \"away\", \"awful\", \"back\", \"bad\", \"basically\", \"become\", \"belief\", \"big\", \"bit\", \"boss\", \"box\", \"brain\", \"bring\", \"brother\", \"build\", \"bully\", \"burn\", \"buy\", \"call\", \"can\", \"care\", \"carry\", \"cause\", \"celebrate\", \"centre\", \"change\", \"child\", \"choice\", \"choose\", \"clearly\", \"cold\", \"come\", \"common\", \"compare\", \"complete\", \"contact\", \"could\", \"covid\", \"crazy\", \"cry\", \"currently\", \"daily\", \"damage\", \"day\", \"deal\", \"dear\", \"death\", \"decade\", \"definitely\", \"demonstrate\", \"depression\", \"describe\", \"deserve\", \"develop\", \"difficult\", \"disabled\", \"discuss\", \"do\", \"dog\", \"double\", \"drink\", \"early\", \"earth\", \"eat\", \"effect\", \"empty\", \"end\", \"energy\", \"engage\", \"even\", \"ever\", \"excellent\", \"experience\", \"explain\", \"explore\", \"eye\", \"fact\", \"failure\", \"fair\", \"fall\", \"fantastic\", \"far\", \"feel\", \"female\", \"fight\", \"filter\", \"finally\", \"find\", \"fine\", \"fire\", \"first\", \"fish\", \"fix\", \"flat\", \"flight\", \"follow\", \"forever\", \"forget\", \"form\", \"forward\", \"free\", \"friend\", \"fuck\", \"full\", \"get\", \"give\", \"glad\", \"go\", \"good\", \"gp\", \"great\", \"guess\", \"habit\", \"happen\", \"happy\", \"hard\", \"harm\", \"head\", \"health\", \"healthy\", \"help\", \"helpful\", \"high\", \"highlight\", \"highly\", \"home\", \"honestly\", \"hope\", \"horror\", \"hospital\", \"hot\", \"huge\", \"husband\", \"ignore\", \"imagine\", \"impact\", \"important\", \"include\", \"incredibly\", \"instead\", \"interesting\", \"interview\", \"involve\", \"issue\", \"job\", \"joy\", \"keep\", \"key\", \"kid\", \"know\", \"last\", \"late\", \"learn\", \"least\", \"leave\", \"less\", \"lesson\", \"letter\", \"life\", \"light\", \"likely\", \"literally\", \"little\", \"local\", \"lock\", \"lol\", \"long\", \"look\", \"lot\", \"love\", \"lovely\", \"low\", \"main\", \"major\", \"make\", \"manage\", \"many\", \"mate\", \"may\", \"maybe\", \"mean\", \"medical\", \"mention\", \"message\", \"moment\", \"month\", \"mood\", \"mother\", \"move\", \"movie\", \"much\", \"must\", \"name\", \"natural\", \"nearly\", \"nee\", \"need\", \"negative\", \"never\", \"new\", \"next\", \"non\", \"normal\", \"notice\", \"offer\", \"officially\", \"often\", \"open\", \"opinion\", \"order\", \"otherwise\", \"pain\", \"pandemic\", \"parent\", \"part\", \"patient\", \"people\", \"perfect\", \"perfectly\", \"period\", \"person\", \"personal\", \"pic\", \"pick\", \"piece\", \"pill\", \"place\", \"point\", \"pop\", \"population\", \"post\", \"present\", \"pressure\", \"prevent\", \"previously\", \"probably\", \"problem\", \"process\", \"promote\", \"properly\", \"put\", \"reach\", \"read\", \"real\", \"realise\", \"really\", \"recommend\", \"regardless\", \"relationship\", \"remember\", \"reply\", \"research\", \"resident\", \"respect\", \"respond\", \"response\", \"result\", \"reveal\", \"review\", \"ridiculous\", \"right\", \"risk\", \"roll\", \"run\", \"sad\", \"save\", \"say\", \"see\", \"seem\", \"self\", \"send\", \"senior\", \"seriously\", \"service\", \"session\", \"shame\", \"shit\", \"short\", \"shower\", \"shut\", \"sign\", \"size\", \"sleep\", \"small\", \"social\", \"sometimes\", \"sort\", \"sound\", \"speak\", \"spot\", \"start\", \"still\", \"stop\", \"story\", \"stress\", \"struggle\", \"stuck\", \"stuff\", \"suffer\", \"suggest\", \"support\", \"sure\", \"surely\", \"switch\", \"symptom\", \"take\", \"talk\", \"target\", \"tell\", \"thank\", \"thing\", \"think\", \"thought\", \"ticket\", \"time\", \"today\", \"tomorrow\", \"tough\", \"treat\", \"treatment\", \"trigger\", \"trip\", \"try\", \"turn\", \"twitter\", \"type\", \"use\", \"usual\", \"usually\", \"vaccine\", \"video\", \"visit\", \"wait\", \"walk\", \"want\", \"war\", \"watch\", \"water\", \"way\", \"week\", \"weekend\", \"well\", \"win\", \"window\", \"woman\", \"wonder\", \"word\", \"work\", \"world\", \"worth\", \"would\", \"year\", \"yesterday\"]}, \"R\": 30, \"lambda.step\": 0.01, \"plot.opts\": {\"xlab\": \"PC1\", \"ylab\": \"PC2\"}, \"topic.order\": [8, 10, 19, 9, 3, 12, 13, 20, 18, 16, 7, 5, 4, 17, 1, 2, 6, 14, 15, 11]};\n",
       "\n",
       "function LDAvis_load_lib(url, callback){\n",
       "  var s = document.createElement('script');\n",
       "  s.src = url;\n",
       "  s.async = true;\n",
       "  s.onreadystatechange = s.onload = callback;\n",
       "  s.onerror = function(){console.warn(\"failed to load library \" + url);};\n",
       "  document.getElementsByTagName(\"head\")[0].appendChild(s);\n",
       "}\n",
       "\n",
       "if(typeof(LDAvis) !== \"undefined\"){\n",
       "   // already loaded: just create the visualization\n",
       "   !function(LDAvis){\n",
       "       new LDAvis(\"#\" + \"ldavis_el1244823454754703847090972458\", ldavis_el1244823454754703847090972458_data);\n",
       "   }(LDAvis);\n",
       "}else if(typeof define === \"function\" && define.amd){\n",
       "   // require.js is available: use it to load d3/LDAvis\n",
       "   require.config({paths: {d3: \"https://d3js.org/d3.v5\"}});\n",
       "   require([\"d3\"], function(d3){\n",
       "      window.d3 = d3;\n",
       "      LDAvis_load_lib(\"https://cdn.jsdelivr.net/gh/bmabey/pyLDAvis@3.3.1/pyLDAvis/js/ldavis.v3.0.0.js\", function(){\n",
       "        new LDAvis(\"#\" + \"ldavis_el1244823454754703847090972458\", ldavis_el1244823454754703847090972458_data);\n",
       "      });\n",
       "    });\n",
       "}else{\n",
       "    // require.js not available: dynamically load d3 & LDAvis\n",
       "    LDAvis_load_lib(\"https://d3js.org/d3.v5.js\", function(){\n",
       "         LDAvis_load_lib(\"https://cdn.jsdelivr.net/gh/bmabey/pyLDAvis@3.3.1/pyLDAvis/js/ldavis.v3.0.0.js\", function(){\n",
       "                 new LDAvis(\"#\" + \"ldavis_el1244823454754703847090972458\", ldavis_el1244823454754703847090972458_data);\n",
       "            })\n",
       "         });\n",
       "}\n",
       "</script>"
      ],
      "text/plain": [
       "PreparedData(topic_coordinates=              x         y  topics  cluster       Freq\n",
       "topic                                                \n",
       "7     -0.318767  0.331699       1        1  17.061275\n",
       "9     -0.095401 -0.060053       2        1  16.947365\n",
       "18    -0.172378 -0.268609       3        1   8.805303\n",
       "8     -0.136766 -0.129397       4        1   7.113794\n",
       "2     -0.091451 -0.055687       5        1   6.739523\n",
       "11    -0.092093 -0.056356       6        1   6.212905\n",
       "12    -0.046371 -0.019344       7        1   5.215986\n",
       "19    -0.001556  0.002162       8        1   4.641567\n",
       "17    -0.012606 -0.002342       9        1   4.250078\n",
       "15     0.023485  0.010352      10        1   3.391246\n",
       "6      0.047894  0.016929      11        1   3.323166\n",
       "4      0.062807  0.020178      12        1   2.960720\n",
       "3      0.083313  0.023897      13        1   2.671142\n",
       "16     0.074710  0.022388      14        1   2.511375\n",
       "0      0.071496  0.021867      15        1   2.007782\n",
       "1      0.103391  0.026812      16        1   1.637650\n",
       "5      0.118797  0.028495      17        1   1.528921\n",
       "13     0.111583  0.027715      18        1   1.185248\n",
       "14     0.133025  0.029543      19        1   0.918066\n",
       "10     0.136888  0.029749      20        1   0.876887, topic_info=        Term          Freq         Total Category  logprob  loglift\n",
       "172      sad  23751.000000  23751.000000  Default  30.0000  30.0000\n",
       "14       get  12555.000000  12555.000000  Default  29.0000  29.0000\n",
       "103       go  11062.000000  11062.000000  Default  28.0000  28.0000\n",
       "90    people   6272.000000   6272.000000  Default  27.0000  27.0000\n",
       "64     think   5485.000000   5485.000000  Default  26.0000  26.0000\n",
       "...      ...           ...           ...      ...      ...      ...\n",
       "794      man      0.046087      1.633113  Topic20 -11.2262   1.1688\n",
       "889     hear      0.046086      1.633162  Topic20 -11.2262   1.1688\n",
       "2016    play      0.046086      1.633637  Topic20 -11.2262   1.1685\n",
       "1043    show      0.046086      1.633615  Topic20 -11.2262   1.1685\n",
       "795     miss      0.046086      1.632718  Topic20 -11.2262   1.1690\n",
       "\n",
       "[1002 rows x 6 columns], token_table=      Topic      Freq        Term\n",
       "term                             \n",
       "220       8  0.998249        able\n",
       "193       6  0.997248  absolutely\n",
       "305      10  0.989083       abuse\n",
       "499       9  0.989825      access\n",
       "524       9  0.988080         act\n",
       "...     ...       ...         ...\n",
       "388       3  0.998153       world\n",
       "486       6  0.990009       worth\n",
       "351       7  0.999723       would\n",
       "153       9  0.999723        year\n",
       "490       6  0.998675   yesterday\n",
       "\n",
       "[375 rows x 3 columns], R=30, lambda_step=0.01, plot_opts={'xlab': 'PC1', 'ylab': 'PC2'}, topic_order=[8, 10, 19, 9, 3, 12, 13, 20, 18, 16, 7, 5, 4, 17, 1, 2, 6, 14, 15, 11])"
      ]
     },
     "execution_count": 38,
     "metadata": {},
     "output_type": "execute_result"
    }
   ],
   "source": [
    "# Visualize the topics\n",
    "pyLDAvis.enable_notebook()\n",
    "vis = pyLDAvis.gensim_models.prepare(lda_model, corpus, id2word)\n",
    "vis"
   ]
  },
  {
   "cell_type": "code",
   "execution_count": 39,
   "metadata": {},
   "outputs": [],
   "source": [
    "def compute_coherence_values(dictionary, corpus, texts, limit, start=2, step=3):\n",
    "    \"\"\"\n",
    "    Compute c_v coherence for various number of topics\n",
    "\n",
    "    Parameters:\n",
    "    ----------\n",
    "    dictionary : Gensim dictionary\n",
    "    corpus : Gensim corpus\n",
    "    texts : List of input texts\n",
    "    limit : Max num of topics\n",
    "\n",
    "    Returns:\n",
    "    -------\n",
    "    model_list : List of LDA topic models\n",
    "    coherence_values : Coherence values corresponding to the LDA model with respective number of topics\n",
    "    \"\"\"\n",
    "    coherence_values = []\n",
    "    model_list = []\n",
    "    for num_topics in range(start, limit, step):\n",
    "        #model = gensim.models.wrappers.LdaMallet(mallet_path, corpus=corpus, num_topics=num_topics, id2word=id2word)\n",
    "        model = gensim.models.ldamodel.LdaModel(corpus=corpus,\n",
    "                                                id2word=id2word,\n",
    "                                                num_topics=num_topics,\n",
    "                                                random_state=100,\n",
    "                                                update_every=1,\n",
    "                                                chunksize=100,\n",
    "                                                passes=10,\n",
    "                                                alpha='auto',\n",
    "                                                per_word_topics=True)\n",
    "        model_list.append(model)\n",
    "        coherencemodel = CoherenceModel(model=model, texts=texts, dictionary=dictionary, coherence='c_v')\n",
    "        coherence_values.append(coherencemodel.get_coherence())\n",
    "\n",
    "    return model_list, coherence_values"
   ]
  },
  {
   "cell_type": "code",
   "execution_count": 40,
   "metadata": {},
   "outputs": [],
   "source": [
    "# Can take a long time to run.\n",
    "model_list, coherence_values = compute_coherence_values(dictionary=id2word, corpus=corpus, texts=data_lemmatized, start=2, limit=40, step=6)"
   ]
  },
  {
   "cell_type": "code",
   "execution_count": 41,
   "metadata": {},
   "outputs": [
    {
     "data": {
      "image/png": "[encoded data removed]",
      "text/plain": [
       "<Figure size 432x288 with 1 Axes>"
      ]
     },
     "metadata": {
      "needs_background": "light"
     },
     "output_type": "display_data"
    }
   ],
   "source": [
    "# Show graph\n",
    "limit=40; start=2; step=6;\n",
    "x = range(start, limit, step)\n",
    "plt.plot(x, coherence_values)\n",
    "plt.xlabel(\"Num Topics\")\n",
    "plt.ylabel(\"Coherence score\")\n",
    "plt.legend((\"coherence_values\"), loc='best')\n",
    "plt.show()"
   ]
  },
  {
   "cell_type": "code",
   "execution_count": 42,
   "metadata": {},
   "outputs": [
    {
     "name": "stdout",
     "output_type": "stream",
     "text": [
      "Num Topics = 2  has Coherence Value of 0.2843\n",
      "Num Topics = 8  has Coherence Value of 0.3045\n",
      "Num Topics = 14  has Coherence Value of 0.3388\n",
      "Num Topics = 20  has Coherence Value of 0.2933\n",
      "Num Topics = 26  has Coherence Value of 0.2737\n",
      "Num Topics = 32  has Coherence Value of 0.4492\n",
      "Num Topics = 38  has Coherence Value of 0.4934\n"
     ]
    }
   ],
   "source": [
    "# Print the coherence scores\n",
    "for m, cv in zip(x, coherence_values):\n",
    "    print(\"Num Topics =\", m, \" has Coherence Value of\", round(cv, 4))"
   ]
  },
  {
   "cell_type": "code",
   "execution_count": null,
   "metadata": {},
   "outputs": [],
   "source": [
    " "
   ]
  }
 ],
 "metadata": {
  "kernelspec": {
   "display_name": "Python 3",
   "language": "python",
   "name": "python3"
  },
  "language_info": {
   "codemirror_mode": {
    "name": "ipython",
    "version": 3
   },
   "file_extension": ".py",
   "mimetype": "text/x-python",
   "name": "python",
   "nbconvert_exporter": "python",
   "pygments_lexer": "ipython3",
   "version": "3.8.5"
  }
 },
 "nbformat": 4,
 "nbformat_minor": 4
}
