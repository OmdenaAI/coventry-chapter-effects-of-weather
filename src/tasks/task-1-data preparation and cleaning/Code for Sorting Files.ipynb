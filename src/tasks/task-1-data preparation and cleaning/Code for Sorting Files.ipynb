{
 "cells": [
  {
   "cell_type": "code",
   "execution_count": 16,
   "id": "862d4fb7",
   "metadata": {},
   "outputs": [],
   "source": [
    "import pandas as pd\n",
    "import numpy as np\n",
    "from datetime import datetime\n",
    "from pathlib import Path"
   ]
  },
  {
   "cell_type": "code",
   "execution_count": 106,
   "id": "0ee22a19",
   "metadata": {},
   "outputs": [],
   "source": [
    "our_files =Path('C:\\\\Users\\\\user\\\\Desktop\\\\gd\\\\NHS Files For London')\n"
   ]
  },
  {
   "cell_type": "code",
   "execution_count": 102,
   "id": "6f643560",
   "metadata": {},
   "outputs": [],
   "source": [
    "for file in our_files.iterdir():\n",
    "    directory = file.parent\n",
    "    extension = file.suffix\n",
    "    old_name = file.stem\n",
    "    # finds the frist number of the year and saves the index\n",
    "    n = old_name.find('2')\n",
    "    year = old_name[n:(n+4)]\n",
    "    month = old_name[11:14]\n",
    "    new_date = year+month\n",
    "    new_date = datetime.strptime(new_date,'%Y%b')\n",
    "    date = datetime.strftime(new_date,'%Y-%m')\n",
    "    new_name = date+' '+'MHSDS Monthly Performance Data'+extension\n",
    "    file.rename(Path(directory,new_name))\n",
    "    \n",
    "   "
   ]
  },
  {
   "cell_type": "code",
   "execution_count": 108,
   "id": "28b796df",
   "metadata": {},
   "outputs": [
    {
     "name": "stdout",
     "output_type": "stream",
     "text": [
      "2019-12 MHSDS Monthly Performance Data.xlsx\n",
      "2020-01 MHSDS Monthly Performance Data.xlsx\n",
      "2020-02 MHSDS Monthly Performance Data.xlsx\n",
      "2020-03 MHSDS Monthly Performance Data.xlsx\n",
      "2020-04 MHSDS Monthly Performance Data.xlsx\n",
      "2020-05 MHSDS Monthly Performance Data.xlsx\n",
      "2020-06 MHSDS Monthly Performance Data.xlsx\n",
      "2020-07 MHSDS Monthly Performance Data.xlsx\n",
      "2020-08 MHSDS Monthly Performance Data.xlsx\n",
      "2020-09 MHSDS Monthly Performance Data.xlsx\n",
      "2020-10 MHSDS Monthly Performance Data.xlsx\n",
      "2020-11 MHSDS Monthly Performance Data.xlsx\n",
      "2020-12 MHSDS Monthly Performance Data.xlsx\n",
      "2021-01 MHSDS Monthly Performance Data.xlsx\n",
      "2021-02 MHSDS Monthly Performance Data.xlsx\n",
      "2021-03 MHSDS Monthly Performance Data.xlsx\n",
      "2021-04 MHSDS Monthly Performance Data.xlsx\n",
      "2021-05 MHSDS Monthly Performance Data.xlsx\n",
      "2021-06 MHSDS Monthly Performance Data.xlsx\n",
      "2021-07 MHSDS Monthly Performance Data.xlsx\n",
      "2021-08 MHSDS Monthly Performance Data.xlsx\n",
      "2021-09 MHSDS Monthly Performance Data.xlsx\n",
      "2021-10 MHSDS Monthly Performance Data.xlsx\n",
      "2021-11 MHSDS Monthly Performance Data.xlsx\n",
      "2021-12 MHSDS Monthly Performance Data.xlsx\n",
      "2022-01 MHSDS Monthly Performance Data.xlsx\n",
      "2022-02 MHSDS Monthly Performance Data.xlsx\n"
     ]
    }
   ],
   "source": [
    "for file in our_files.iterdir():\n",
    "    \n",
    "    print(file.name)"
   ]
  }
 ],
 "metadata": {
  "kernelspec": {
   "display_name": "Python 3 (ipykernel)",
   "language": "python",
   "name": "python3"
  },
  "language_info": {
   "codemirror_mode": {
    "name": "ipython",
    "version": 3
   },
   "file_extension": ".py",
   "mimetype": "text/x-python",
   "name": "python",
   "nbconvert_exporter": "python",
   "pygments_lexer": "ipython3",
   "version": "3.9.7"
  }
 },
 "nbformat": 4,
 "nbformat_minor": 5
}
