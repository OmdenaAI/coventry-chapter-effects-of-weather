{
 "cells": [
  {
   "cell_type": "code",
   "execution_count": 1,
   "metadata": {},
   "outputs": [],
   "source": [
    "import pandas as pd\n",
    "import matplotlib.pyplot as plt\n",
    "import numpy as np\n",
    "import seaborn as sns\n",
    "\n",
    "sns.set_style('darkgrid')\n",
    "sns.set(font_scale=1.3)"
   ]
  },
  {
   "cell_type": "code",
   "execution_count": 2,
   "metadata": {},
   "outputs": [],
   "source": [
    "#Load the 2 datasets\n",
    "mhdf = pd.read_csv('mental_data_ccgs_dec2019_to_feb2022.csv')\n",
    "wdf = pd.read_csv('merged_weather_temp_and_daylight.csv')"
   ]
  },
  {
   "cell_type": "code",
   "execution_count": 3,
   "metadata": {},
   "outputs": [],
   "source": [
    "#Merge the two\n",
    "df = mhdf.merge(wdf, right_on='Date', left_on='data month')"
   ]
  },
  {
   "cell_type": "code",
   "execution_count": 4,
   "metadata": {},
   "outputs": [
    {
     "data": {
      "text/html": [
       "<div>\n",
       "<style scoped>\n",
       "    .dataframe tbody tr th:only-of-type {\n",
       "        vertical-align: middle;\n",
       "    }\n",
       "\n",
       "    .dataframe tbody tr th {\n",
       "        vertical-align: top;\n",
       "    }\n",
       "\n",
       "    .dataframe thead th {\n",
       "        text-align: right;\n",
       "    }\n",
       "</style>\n",
       "<table border=\"1\" class=\"dataframe\">\n",
       "  <thead>\n",
       "    <tr style=\"text-align: right;\">\n",
       "      <th></th>\n",
       "      <th>status</th>\n",
       "      <th>primary level description</th>\n",
       "      <th>measure value</th>\n",
       "      <th>data month</th>\n",
       "      <th>period start</th>\n",
       "      <th>period end</th>\n",
       "      <th>period diff</th>\n",
       "      <th>Date</th>\n",
       "      <th>daylight_hours</th>\n",
       "      <th>Average Temperature</th>\n",
       "    </tr>\n",
       "  </thead>\n",
       "  <tbody>\n",
       "    <tr>\n",
       "      <th>0</th>\n",
       "      <td>Final</td>\n",
       "      <td>NHS WEST LONDON CCG</td>\n",
       "      <td>4930.0</td>\n",
       "      <td>Dec-19</td>\n",
       "      <td>2019-12-01</td>\n",
       "      <td>2019-12-31</td>\n",
       "      <td>30</td>\n",
       "      <td>Dec-19</td>\n",
       "      <td>7.23</td>\n",
       "      <td>6.790000</td>\n",
       "    </tr>\n",
       "    <tr>\n",
       "      <th>1</th>\n",
       "      <td>Final</td>\n",
       "      <td>NHS CENTRAL LONDON (WESTMINSTER) CCG</td>\n",
       "      <td>4440.0</td>\n",
       "      <td>Dec-19</td>\n",
       "      <td>2019-12-01</td>\n",
       "      <td>2019-12-31</td>\n",
       "      <td>30</td>\n",
       "      <td>Dec-19</td>\n",
       "      <td>7.23</td>\n",
       "      <td>6.790000</td>\n",
       "    </tr>\n",
       "    <tr>\n",
       "      <th>2</th>\n",
       "      <td>Final</td>\n",
       "      <td>NHS WEST LONDON CCG</td>\n",
       "      <td>4995.0</td>\n",
       "      <td>Jan-20</td>\n",
       "      <td>2020-01-01</td>\n",
       "      <td>2020-01-31</td>\n",
       "      <td>30</td>\n",
       "      <td>Jan-20</td>\n",
       "      <td>7.94</td>\n",
       "      <td>7.330000</td>\n",
       "    </tr>\n",
       "    <tr>\n",
       "      <th>3</th>\n",
       "      <td>Final</td>\n",
       "      <td>NHS CENTRAL LONDON (WESTMINSTER) CCG</td>\n",
       "      <td>4790.0</td>\n",
       "      <td>Jan-20</td>\n",
       "      <td>2020-01-01</td>\n",
       "      <td>2020-01-31</td>\n",
       "      <td>30</td>\n",
       "      <td>Jan-20</td>\n",
       "      <td>7.94</td>\n",
       "      <td>7.330000</td>\n",
       "    </tr>\n",
       "    <tr>\n",
       "      <th>4</th>\n",
       "      <td>Final</td>\n",
       "      <td>NHS WEST LONDON CCG</td>\n",
       "      <td>5095.0</td>\n",
       "      <td>Feb-20</td>\n",
       "      <td>2020-02-01</td>\n",
       "      <td>2020-02-29</td>\n",
       "      <td>28</td>\n",
       "      <td>Feb-20</td>\n",
       "      <td>11.95</td>\n",
       "      <td>12.363636</td>\n",
       "    </tr>\n",
       "  </tbody>\n",
       "</table>\n",
       "</div>"
      ],
      "text/plain": [
       "  status             primary level description  measure value data month  \\\n",
       "0  Final                   NHS WEST LONDON CCG         4930.0     Dec-19   \n",
       "1  Final  NHS CENTRAL LONDON (WESTMINSTER) CCG         4440.0     Dec-19   \n",
       "2  Final                   NHS WEST LONDON CCG         4995.0     Jan-20   \n",
       "3  Final  NHS CENTRAL LONDON (WESTMINSTER) CCG         4790.0     Jan-20   \n",
       "4  Final                   NHS WEST LONDON CCG         5095.0     Feb-20   \n",
       "\n",
       "  period start  period end  period diff    Date  daylight_hours  \\\n",
       "0   2019-12-01  2019-12-31           30  Dec-19            7.23   \n",
       "1   2019-12-01  2019-12-31           30  Dec-19            7.23   \n",
       "2   2020-01-01  2020-01-31           30  Jan-20            7.94   \n",
       "3   2020-01-01  2020-01-31           30  Jan-20            7.94   \n",
       "4   2020-02-01  2020-02-29           28  Feb-20           11.95   \n",
       "\n",
       "   Average Temperature  \n",
       "0             6.790000  \n",
       "1             6.790000  \n",
       "2             7.330000  \n",
       "3             7.330000  \n",
       "4            12.363636  "
      ]
     },
     "execution_count": 4,
     "metadata": {},
     "output_type": "execute_result"
    }
   ],
   "source": [
    "df.head()"
   ]
  },
  {
   "cell_type": "code",
   "execution_count": 5,
   "metadata": {},
   "outputs": [
    {
     "data": {
      "text/plain": [
       "True"
      ]
     },
     "execution_count": 5,
     "metadata": {},
     "output_type": "execute_result"
    }
   ],
   "source": [
    "#confirm that the date and data month columns are the same\n",
    "(df['data month'] == df['Date']).all()"
   ]
  },
  {
   "cell_type": "code",
   "execution_count": 6,
   "metadata": {},
   "outputs": [],
   "source": [
    "#cleanup. Rename and drop unwanted columns\n",
    "df = df.rename(columns={'data month':'month'}).drop('Date',axis=1)\n",
    "df = df.drop(['status','period start','period end','period diff'], axis=1).rename(columns={\n",
    "    'daylight_hours':'daylight hours','Average Temperature':'average temperature'})"
   ]
  },
  {
   "cell_type": "code",
   "execution_count": 7,
   "metadata": {},
   "outputs": [
    {
     "data": {
      "text/plain": [
       "NHS NORTH CENTRAL LONDON CCG            21\n",
       "NHS SOUTH WEST LONDON CCG               21\n",
       "NHS SOUTH EAST LONDON CCG               21\n",
       "NHS CENTRAL LONDON (WESTMINSTER) CCG    16\n",
       "NHS WEST LONDON CCG                     16\n",
       "NHS NORTH EAST LONDON CCG                9\n",
       "NHS NORTH WEST LONDON CCG                9\n",
       "Name: primary level description, dtype: int64"
      ]
     },
     "execution_count": 7,
     "metadata": {},
     "output_type": "execute_result"
    }
   ],
   "source": [
    "df['primary level description'].value_counts()"
   ]
  },
  {
   "cell_type": "code",
   "execution_count": 8,
   "metadata": {},
   "outputs": [
    {
     "data": {
      "text/plain": [
       "25"
      ]
     },
     "execution_count": 8,
     "metadata": {},
     "output_type": "execute_result"
    }
   ],
   "source": [
    "df['month'].nunique()"
   ]
  },
  {
   "cell_type": "code",
   "execution_count": 9,
   "metadata": {},
   "outputs": [],
   "source": [
    "#Separate the regions because different months are available for different regions\n",
    "se = df[df['primary level description'] == 'NHS SOUTH EAST LONDON CCG']\n",
    "sw = df[df['primary level description'] == 'NHS SOUTH WEST LONDON CCG']\n",
    "nc = df[df['primary level description'] == 'NHS NORTH CENTRAL LONDON CCG']\n",
    "w = df[df['primary level description'] == 'NHS WEST LONDON CCG']\n",
    "c = df[df['primary level description'] == 'NHS CENTRAL LONDON (WESTMINSTER) CCG']\n",
    "nw = df[df['primary level description'] == 'NHS NORTH WEST LONDON CCG']\n",
    "ne = df[df['primary level description'] == 'NHS NORTH EAST LONDON CCG']"
   ]
  },
  {
   "cell_type": "code",
   "execution_count": 10,
   "metadata": {},
   "outputs": [],
   "source": [
    "#merge regions: Northern, southern and central. \n",
    "#The merged regions are available on the same months\n",
    "\n",
    "se_sw = pd.concat([se,sw]).sort_values('month')\n",
    "ne_nw = pd.concat([ne,nw]).sort_values('month')\n",
    "c_w = pd.concat([c,w]).sort_values('month')"
   ]
  },
  {
   "cell_type": "code",
   "execution_count": 11,
   "metadata": {},
   "outputs": [
    {
     "data": {
      "text/html": [
       "<div>\n",
       "<style scoped>\n",
       "    .dataframe tbody tr th:only-of-type {\n",
       "        vertical-align: middle;\n",
       "    }\n",
       "\n",
       "    .dataframe tbody tr th {\n",
       "        vertical-align: top;\n",
       "    }\n",
       "\n",
       "    .dataframe thead th {\n",
       "        text-align: right;\n",
       "    }\n",
       "</style>\n",
       "<table border=\"1\" class=\"dataframe\">\n",
       "  <thead>\n",
       "    <tr style=\"text-align: right;\">\n",
       "      <th></th>\n",
       "      <th>primary level description</th>\n",
       "      <th>measure value</th>\n",
       "      <th>month</th>\n",
       "      <th>daylight hours</th>\n",
       "      <th>average temperature</th>\n",
       "    </tr>\n",
       "  </thead>\n",
       "  <tbody>\n",
       "    <tr>\n",
       "      <th>11</th>\n",
       "      <td>NHS SOUTH EAST LONDON CCG</td>\n",
       "      <td>38225.0</td>\n",
       "      <td>Apr-20</td>\n",
       "      <td>13.43</td>\n",
       "      <td>11.64</td>\n",
       "    </tr>\n",
       "    <tr>\n",
       "      <th>10</th>\n",
       "      <td>NHS SOUTH WEST LONDON CCG</td>\n",
       "      <td>27510.0</td>\n",
       "      <td>Apr-20</td>\n",
       "      <td>13.43</td>\n",
       "      <td>11.64</td>\n",
       "    </tr>\n",
       "    <tr>\n",
       "      <th>68</th>\n",
       "      <td>NHS SOUTH WEST LONDON CCG</td>\n",
       "      <td>30625.0</td>\n",
       "      <td>Apr-21</td>\n",
       "      <td>13.43</td>\n",
       "      <td>7.23</td>\n",
       "    </tr>\n",
       "    <tr>\n",
       "      <th>69</th>\n",
       "      <td>NHS SOUTH EAST LONDON CCG</td>\n",
       "      <td>42835.0</td>\n",
       "      <td>Apr-21</td>\n",
       "      <td>13.43</td>\n",
       "      <td>7.23</td>\n",
       "    </tr>\n",
       "    <tr>\n",
       "      <th>31</th>\n",
       "      <td>NHS SOUTH EAST LONDON CCG</td>\n",
       "      <td>40885.0</td>\n",
       "      <td>Aug-20</td>\n",
       "      <td>14.00</td>\n",
       "      <td>19.35</td>\n",
       "    </tr>\n",
       "  </tbody>\n",
       "</table>\n",
       "</div>"
      ],
      "text/plain": [
       "    primary level description  measure value   month  daylight hours  \\\n",
       "11  NHS SOUTH EAST LONDON CCG        38225.0  Apr-20           13.43   \n",
       "10  NHS SOUTH WEST LONDON CCG        27510.0  Apr-20           13.43   \n",
       "68  NHS SOUTH WEST LONDON CCG        30625.0  Apr-21           13.43   \n",
       "69  NHS SOUTH EAST LONDON CCG        42835.0  Apr-21           13.43   \n",
       "31  NHS SOUTH EAST LONDON CCG        40885.0  Aug-20           14.00   \n",
       "\n",
       "    average temperature  \n",
       "11                11.64  \n",
       "10                11.64  \n",
       "68                 7.23  \n",
       "69                 7.23  \n",
       "31                19.35  "
      ]
     },
     "execution_count": 11,
     "metadata": {},
     "output_type": "execute_result"
    }
   ],
   "source": [
    "se_sw.head()"
   ]
  },
  {
   "cell_type": "code",
   "execution_count": 12,
   "metadata": {},
   "outputs": [],
   "source": [
    "#Aggregate the data so that every row represents a unique month\n",
    "sesw = se_sw.groupby('month').agg({'measure value':'sum','daylight hours':'mean','average temperature':'mean'}).dropna()\n",
    "nenw = ne_nw.groupby('month').agg({'measure value':'sum','daylight hours':'mean','average temperature':'mean'}).dropna()\n",
    "cw = c_w.groupby('month').agg({'measure value':'sum','daylight hours':'mean','average temperature':'mean'}).dropna()\n",
    "nc1 = nc.drop('primary level description', axis=1).reset_index(drop=True)"
   ]
  },
  {
   "cell_type": "code",
   "execution_count": 13,
   "metadata": {},
   "outputs": [
    {
     "data": {
      "text/html": [
       "<div>\n",
       "<style scoped>\n",
       "    .dataframe tbody tr th:only-of-type {\n",
       "        vertical-align: middle;\n",
       "    }\n",
       "\n",
       "    .dataframe tbody tr th {\n",
       "        vertical-align: top;\n",
       "    }\n",
       "\n",
       "    .dataframe thead th {\n",
       "        text-align: right;\n",
       "    }\n",
       "</style>\n",
       "<table border=\"1\" class=\"dataframe\">\n",
       "  <thead>\n",
       "    <tr style=\"text-align: right;\">\n",
       "      <th></th>\n",
       "      <th>measure value</th>\n",
       "      <th>month</th>\n",
       "      <th>daylight hours</th>\n",
       "      <th>average temperature</th>\n",
       "    </tr>\n",
       "  </thead>\n",
       "  <tbody>\n",
       "    <tr>\n",
       "      <th>0</th>\n",
       "      <td>33435.0</td>\n",
       "      <td>Apr-20</td>\n",
       "      <td>13.43</td>\n",
       "      <td>11.64</td>\n",
       "    </tr>\n",
       "    <tr>\n",
       "      <th>1</th>\n",
       "      <td>33435.0</td>\n",
       "      <td>May-20</td>\n",
       "      <td>15.19</td>\n",
       "      <td>14.33</td>\n",
       "    </tr>\n",
       "    <tr>\n",
       "      <th>2</th>\n",
       "      <td>35345.0</td>\n",
       "      <td>Jun-20</td>\n",
       "      <td>16.00</td>\n",
       "      <td>16.60</td>\n",
       "    </tr>\n",
       "    <tr>\n",
       "      <th>3</th>\n",
       "      <td>35580.0</td>\n",
       "      <td>Jul-20</td>\n",
       "      <td>15.61</td>\n",
       "      <td>17.56</td>\n",
       "    </tr>\n",
       "    <tr>\n",
       "      <th>4</th>\n",
       "      <td>35485.0</td>\n",
       "      <td>Aug-20</td>\n",
       "      <td>14.00</td>\n",
       "      <td>19.35</td>\n",
       "    </tr>\n",
       "  </tbody>\n",
       "</table>\n",
       "</div>"
      ],
      "text/plain": [
       "   measure value   month  daylight hours  average temperature\n",
       "0        33435.0  Apr-20           13.43                11.64\n",
       "1        33435.0  May-20           15.19                14.33\n",
       "2        35345.0  Jun-20           16.00                16.60\n",
       "3        35580.0  Jul-20           15.61                17.56\n",
       "4        35485.0  Aug-20           14.00                19.35"
      ]
     },
     "execution_count": 13,
     "metadata": {},
     "output_type": "execute_result"
    }
   ],
   "source": [
    "nc1.head()"
   ]
  },
  {
   "cell_type": "code",
   "execution_count": 14,
   "metadata": {},
   "outputs": [
    {
     "data": {
      "text/html": [
       "<div>\n",
       "<style scoped>\n",
       "    .dataframe tbody tr th:only-of-type {\n",
       "        vertical-align: middle;\n",
       "    }\n",
       "\n",
       "    .dataframe tbody tr th {\n",
       "        vertical-align: top;\n",
       "    }\n",
       "\n",
       "    .dataframe thead th {\n",
       "        text-align: right;\n",
       "    }\n",
       "</style>\n",
       "<table border=\"1\" class=\"dataframe\">\n",
       "  <thead>\n",
       "    <tr style=\"text-align: right;\">\n",
       "      <th></th>\n",
       "      <th>measure value</th>\n",
       "      <th>daylight hours</th>\n",
       "      <th>average temperature</th>\n",
       "    </tr>\n",
       "    <tr>\n",
       "      <th>month</th>\n",
       "      <th></th>\n",
       "      <th></th>\n",
       "      <th></th>\n",
       "    </tr>\n",
       "  </thead>\n",
       "  <tbody>\n",
       "    <tr>\n",
       "      <th>Apr-20</th>\n",
       "      <td>65735.0</td>\n",
       "      <td>13.43</td>\n",
       "      <td>11.64</td>\n",
       "    </tr>\n",
       "    <tr>\n",
       "      <th>Apr-21</th>\n",
       "      <td>73460.0</td>\n",
       "      <td>13.43</td>\n",
       "      <td>7.23</td>\n",
       "    </tr>\n",
       "    <tr>\n",
       "      <th>Aug-20</th>\n",
       "      <td>69815.0</td>\n",
       "      <td>14.00</td>\n",
       "      <td>19.35</td>\n",
       "    </tr>\n",
       "    <tr>\n",
       "      <th>Aug-21</th>\n",
       "      <td>74760.0</td>\n",
       "      <td>14.03</td>\n",
       "      <td>16.81</td>\n",
       "    </tr>\n",
       "    <tr>\n",
       "      <th>Dec-20</th>\n",
       "      <td>72380.0</td>\n",
       "      <td>7.23</td>\n",
       "      <td>5.87</td>\n",
       "    </tr>\n",
       "  </tbody>\n",
       "</table>\n",
       "</div>"
      ],
      "text/plain": [
       "        measure value  daylight hours  average temperature\n",
       "month                                                     \n",
       "Apr-20        65735.0           13.43                11.64\n",
       "Apr-21        73460.0           13.43                 7.23\n",
       "Aug-20        69815.0           14.00                19.35\n",
       "Aug-21        74760.0           14.03                16.81\n",
       "Dec-20        72380.0            7.23                 5.87"
      ]
     },
     "execution_count": 14,
     "metadata": {},
     "output_type": "execute_result"
    }
   ],
   "source": [
    "sesw.head()"
   ]
  },
  {
   "cell_type": "code",
   "execution_count": 15,
   "metadata": {},
   "outputs": [],
   "source": [
    "#Save the regional data to csv\n",
    "nenw.reset_index().to_csv('region_north_e_and_w_London_apr21_to_dec21.csv', index=False)\n",
    "cw.reset_index().to_csv('region_central_and_west_london_dec19_to_march21.csv',index=False)\n",
    "sesw.reset_index().to_csv('region_south_e_and_w_london_apr20_to_dec21.csv',index=False)\n",
    "nc1.to_csv('region_north_central_london_apr20_to_dec21.csv', index=False)"
   ]
  },
  {
   "cell_type": "code",
   "execution_count": null,
   "metadata": {},
   "outputs": [],
   "source": []
  }
 ],
 "metadata": {
  "kernelspec": {
   "display_name": "Python 3",
   "language": "python",
   "name": "python3"
  },
  "language_info": {
   "codemirror_mode": {
    "name": "ipython",
    "version": 3
   },
   "file_extension": ".py",
   "mimetype": "text/x-python",
   "name": "python",
   "nbconvert_exporter": "python",
   "pygments_lexer": "ipython3",
   "version": "3.7.6"
  }
 },
 "nbformat": 4,
 "nbformat_minor": 4
}
